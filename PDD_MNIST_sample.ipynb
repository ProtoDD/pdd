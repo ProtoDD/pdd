{
  "nbformat": 4,
  "nbformat_minor": 0,
  "metadata": {
    "accelerator": "GPU",
    "colab": {
      "name": "PDD_MNIST_sample.ipynb",
      "provenance": [],
      "collapsed_sections": [
        "N4ZGvOG5ivL1",
        "7tVxNFQxBGS7",
        "qwTFKXoOxDqE"
      ],
      "machine_shape": "hm",
      "toc_visible": true,
      "include_colab_link": true
    },
    "kernelspec": {
      "display_name": "Python 3",
      "name": "python3"
    },
    "widgets": {
      "application/vnd.jupyter.widget-state+json": {
        "2c3f192a45224ee495c1d16a39f3e457": {
          "model_module": "@jupyter-widgets/controls",
          "model_name": "HBoxModel",
          "model_module_version": "1.5.0",
          "state": {
            "_dom_classes": [],
            "_model_module": "@jupyter-widgets/controls",
            "_model_module_version": "1.5.0",
            "_model_name": "HBoxModel",
            "_view_count": null,
            "_view_module": "@jupyter-widgets/controls",
            "_view_module_version": "1.5.0",
            "_view_name": "HBoxView",
            "box_style": "",
            "children": [
              "IPY_MODEL_cc6c394650a344e18349fc2f3d8f9767",
              "IPY_MODEL_ee27cd75a9c34c47bbc79a6767da02d9",
              "IPY_MODEL_db41716f8ba44835aa384474e7cc0aac"
            ],
            "layout": "IPY_MODEL_910ed6d0626345f8b2039e1fdc9589b5"
          }
        },
        "cc6c394650a344e18349fc2f3d8f9767": {
          "model_module": "@jupyter-widgets/controls",
          "model_name": "HTMLModel",
          "model_module_version": "1.5.0",
          "state": {
            "_dom_classes": [],
            "_model_module": "@jupyter-widgets/controls",
            "_model_module_version": "1.5.0",
            "_model_name": "HTMLModel",
            "_view_count": null,
            "_view_module": "@jupyter-widgets/controls",
            "_view_module_version": "1.5.0",
            "_view_name": "HTMLView",
            "description": "",
            "description_tooltip": null,
            "layout": "IPY_MODEL_23598e0137d3476e82c76c7c2e4fa80b",
            "placeholder": "​",
            "style": "IPY_MODEL_68f107c09a134b72914ace853d31cffd",
            "value": "100%"
          }
        },
        "ee27cd75a9c34c47bbc79a6767da02d9": {
          "model_module": "@jupyter-widgets/controls",
          "model_name": "FloatProgressModel",
          "model_module_version": "1.5.0",
          "state": {
            "_dom_classes": [],
            "_model_module": "@jupyter-widgets/controls",
            "_model_module_version": "1.5.0",
            "_model_name": "FloatProgressModel",
            "_view_count": null,
            "_view_module": "@jupyter-widgets/controls",
            "_view_module_version": "1.5.0",
            "_view_name": "ProgressView",
            "bar_style": "success",
            "description": "",
            "description_tooltip": null,
            "layout": "IPY_MODEL_6e88c0bdc7f24fcdaa51c7fd128ebb73",
            "max": 9912422,
            "min": 0,
            "orientation": "horizontal",
            "style": "IPY_MODEL_166aa0b12251467fb7d43a739458c36b",
            "value": 9912422
          }
        },
        "db41716f8ba44835aa384474e7cc0aac": {
          "model_module": "@jupyter-widgets/controls",
          "model_name": "HTMLModel",
          "model_module_version": "1.5.0",
          "state": {
            "_dom_classes": [],
            "_model_module": "@jupyter-widgets/controls",
            "_model_module_version": "1.5.0",
            "_model_name": "HTMLModel",
            "_view_count": null,
            "_view_module": "@jupyter-widgets/controls",
            "_view_module_version": "1.5.0",
            "_view_name": "HTMLView",
            "description": "",
            "description_tooltip": null,
            "layout": "IPY_MODEL_e1475517f7d14a2f9e1cbb5ca6609bf1",
            "placeholder": "​",
            "style": "IPY_MODEL_cd8581bf869d4f3a8bf72fdb3fe69511",
            "value": " 9912422/9912422 [00:00&lt;00:00, 118224995.43it/s]"
          }
        },
        "910ed6d0626345f8b2039e1fdc9589b5": {
          "model_module": "@jupyter-widgets/base",
          "model_name": "LayoutModel",
          "model_module_version": "1.2.0",
          "state": {
            "_model_module": "@jupyter-widgets/base",
            "_model_module_version": "1.2.0",
            "_model_name": "LayoutModel",
            "_view_count": null,
            "_view_module": "@jupyter-widgets/base",
            "_view_module_version": "1.2.0",
            "_view_name": "LayoutView",
            "align_content": null,
            "align_items": null,
            "align_self": null,
            "border": null,
            "bottom": null,
            "display": null,
            "flex": null,
            "flex_flow": null,
            "grid_area": null,
            "grid_auto_columns": null,
            "grid_auto_flow": null,
            "grid_auto_rows": null,
            "grid_column": null,
            "grid_gap": null,
            "grid_row": null,
            "grid_template_areas": null,
            "grid_template_columns": null,
            "grid_template_rows": null,
            "height": null,
            "justify_content": null,
            "justify_items": null,
            "left": null,
            "margin": null,
            "max_height": null,
            "max_width": null,
            "min_height": null,
            "min_width": null,
            "object_fit": null,
            "object_position": null,
            "order": null,
            "overflow": null,
            "overflow_x": null,
            "overflow_y": null,
            "padding": null,
            "right": null,
            "top": null,
            "visibility": null,
            "width": null
          }
        },
        "23598e0137d3476e82c76c7c2e4fa80b": {
          "model_module": "@jupyter-widgets/base",
          "model_name": "LayoutModel",
          "model_module_version": "1.2.0",
          "state": {
            "_model_module": "@jupyter-widgets/base",
            "_model_module_version": "1.2.0",
            "_model_name": "LayoutModel",
            "_view_count": null,
            "_view_module": "@jupyter-widgets/base",
            "_view_module_version": "1.2.0",
            "_view_name": "LayoutView",
            "align_content": null,
            "align_items": null,
            "align_self": null,
            "border": null,
            "bottom": null,
            "display": null,
            "flex": null,
            "flex_flow": null,
            "grid_area": null,
            "grid_auto_columns": null,
            "grid_auto_flow": null,
            "grid_auto_rows": null,
            "grid_column": null,
            "grid_gap": null,
            "grid_row": null,
            "grid_template_areas": null,
            "grid_template_columns": null,
            "grid_template_rows": null,
            "height": null,
            "justify_content": null,
            "justify_items": null,
            "left": null,
            "margin": null,
            "max_height": null,
            "max_width": null,
            "min_height": null,
            "min_width": null,
            "object_fit": null,
            "object_position": null,
            "order": null,
            "overflow": null,
            "overflow_x": null,
            "overflow_y": null,
            "padding": null,
            "right": null,
            "top": null,
            "visibility": null,
            "width": null
          }
        },
        "68f107c09a134b72914ace853d31cffd": {
          "model_module": "@jupyter-widgets/controls",
          "model_name": "DescriptionStyleModel",
          "model_module_version": "1.5.0",
          "state": {
            "_model_module": "@jupyter-widgets/controls",
            "_model_module_version": "1.5.0",
            "_model_name": "DescriptionStyleModel",
            "_view_count": null,
            "_view_module": "@jupyter-widgets/base",
            "_view_module_version": "1.2.0",
            "_view_name": "StyleView",
            "description_width": ""
          }
        },
        "6e88c0bdc7f24fcdaa51c7fd128ebb73": {
          "model_module": "@jupyter-widgets/base",
          "model_name": "LayoutModel",
          "model_module_version": "1.2.0",
          "state": {
            "_model_module": "@jupyter-widgets/base",
            "_model_module_version": "1.2.0",
            "_model_name": "LayoutModel",
            "_view_count": null,
            "_view_module": "@jupyter-widgets/base",
            "_view_module_version": "1.2.0",
            "_view_name": "LayoutView",
            "align_content": null,
            "align_items": null,
            "align_self": null,
            "border": null,
            "bottom": null,
            "display": null,
            "flex": null,
            "flex_flow": null,
            "grid_area": null,
            "grid_auto_columns": null,
            "grid_auto_flow": null,
            "grid_auto_rows": null,
            "grid_column": null,
            "grid_gap": null,
            "grid_row": null,
            "grid_template_areas": null,
            "grid_template_columns": null,
            "grid_template_rows": null,
            "height": null,
            "justify_content": null,
            "justify_items": null,
            "left": null,
            "margin": null,
            "max_height": null,
            "max_width": null,
            "min_height": null,
            "min_width": null,
            "object_fit": null,
            "object_position": null,
            "order": null,
            "overflow": null,
            "overflow_x": null,
            "overflow_y": null,
            "padding": null,
            "right": null,
            "top": null,
            "visibility": null,
            "width": null
          }
        },
        "166aa0b12251467fb7d43a739458c36b": {
          "model_module": "@jupyter-widgets/controls",
          "model_name": "ProgressStyleModel",
          "model_module_version": "1.5.0",
          "state": {
            "_model_module": "@jupyter-widgets/controls",
            "_model_module_version": "1.5.0",
            "_model_name": "ProgressStyleModel",
            "_view_count": null,
            "_view_module": "@jupyter-widgets/base",
            "_view_module_version": "1.2.0",
            "_view_name": "StyleView",
            "bar_color": null,
            "description_width": ""
          }
        },
        "e1475517f7d14a2f9e1cbb5ca6609bf1": {
          "model_module": "@jupyter-widgets/base",
          "model_name": "LayoutModel",
          "model_module_version": "1.2.0",
          "state": {
            "_model_module": "@jupyter-widgets/base",
            "_model_module_version": "1.2.0",
            "_model_name": "LayoutModel",
            "_view_count": null,
            "_view_module": "@jupyter-widgets/base",
            "_view_module_version": "1.2.0",
            "_view_name": "LayoutView",
            "align_content": null,
            "align_items": null,
            "align_self": null,
            "border": null,
            "bottom": null,
            "display": null,
            "flex": null,
            "flex_flow": null,
            "grid_area": null,
            "grid_auto_columns": null,
            "grid_auto_flow": null,
            "grid_auto_rows": null,
            "grid_column": null,
            "grid_gap": null,
            "grid_row": null,
            "grid_template_areas": null,
            "grid_template_columns": null,
            "grid_template_rows": null,
            "height": null,
            "justify_content": null,
            "justify_items": null,
            "left": null,
            "margin": null,
            "max_height": null,
            "max_width": null,
            "min_height": null,
            "min_width": null,
            "object_fit": null,
            "object_position": null,
            "order": null,
            "overflow": null,
            "overflow_x": null,
            "overflow_y": null,
            "padding": null,
            "right": null,
            "top": null,
            "visibility": null,
            "width": null
          }
        },
        "cd8581bf869d4f3a8bf72fdb3fe69511": {
          "model_module": "@jupyter-widgets/controls",
          "model_name": "DescriptionStyleModel",
          "model_module_version": "1.5.0",
          "state": {
            "_model_module": "@jupyter-widgets/controls",
            "_model_module_version": "1.5.0",
            "_model_name": "DescriptionStyleModel",
            "_view_count": null,
            "_view_module": "@jupyter-widgets/base",
            "_view_module_version": "1.2.0",
            "_view_name": "StyleView",
            "description_width": ""
          }
        },
        "5a1b1f83bbb94f15ab1c4670c9edb6d3": {
          "model_module": "@jupyter-widgets/controls",
          "model_name": "HBoxModel",
          "model_module_version": "1.5.0",
          "state": {
            "_dom_classes": [],
            "_model_module": "@jupyter-widgets/controls",
            "_model_module_version": "1.5.0",
            "_model_name": "HBoxModel",
            "_view_count": null,
            "_view_module": "@jupyter-widgets/controls",
            "_view_module_version": "1.5.0",
            "_view_name": "HBoxView",
            "box_style": "",
            "children": [
              "IPY_MODEL_7ae4db7c16ff4190a57ab0d5e40b3f0f",
              "IPY_MODEL_0c25efc1effd4845b14539d3b5f8f12c",
              "IPY_MODEL_59098822b43a466ea6c14e7e4b2b7939"
            ],
            "layout": "IPY_MODEL_46b3ece4ae4d43f5bc52b4c9c8ac6942"
          }
        },
        "7ae4db7c16ff4190a57ab0d5e40b3f0f": {
          "model_module": "@jupyter-widgets/controls",
          "model_name": "HTMLModel",
          "model_module_version": "1.5.0",
          "state": {
            "_dom_classes": [],
            "_model_module": "@jupyter-widgets/controls",
            "_model_module_version": "1.5.0",
            "_model_name": "HTMLModel",
            "_view_count": null,
            "_view_module": "@jupyter-widgets/controls",
            "_view_module_version": "1.5.0",
            "_view_name": "HTMLView",
            "description": "",
            "description_tooltip": null,
            "layout": "IPY_MODEL_cd8cc02718984cc68660ff8d5909a296",
            "placeholder": "​",
            "style": "IPY_MODEL_7cb82d22cf184ec8a9b5b0d1ec1f5508",
            "value": "100%"
          }
        },
        "0c25efc1effd4845b14539d3b5f8f12c": {
          "model_module": "@jupyter-widgets/controls",
          "model_name": "FloatProgressModel",
          "model_module_version": "1.5.0",
          "state": {
            "_dom_classes": [],
            "_model_module": "@jupyter-widgets/controls",
            "_model_module_version": "1.5.0",
            "_model_name": "FloatProgressModel",
            "_view_count": null,
            "_view_module": "@jupyter-widgets/controls",
            "_view_module_version": "1.5.0",
            "_view_name": "ProgressView",
            "bar_style": "success",
            "description": "",
            "description_tooltip": null,
            "layout": "IPY_MODEL_1968223771b84c0d85fb0a2bd683f3a7",
            "max": 28881,
            "min": 0,
            "orientation": "horizontal",
            "style": "IPY_MODEL_c6ef667d880e485cbc996b1450ffa3d7",
            "value": 28881
          }
        },
        "59098822b43a466ea6c14e7e4b2b7939": {
          "model_module": "@jupyter-widgets/controls",
          "model_name": "HTMLModel",
          "model_module_version": "1.5.0",
          "state": {
            "_dom_classes": [],
            "_model_module": "@jupyter-widgets/controls",
            "_model_module_version": "1.5.0",
            "_model_name": "HTMLModel",
            "_view_count": null,
            "_view_module": "@jupyter-widgets/controls",
            "_view_module_version": "1.5.0",
            "_view_name": "HTMLView",
            "description": "",
            "description_tooltip": null,
            "layout": "IPY_MODEL_6570b7d74de24767ba3b491be75111f0",
            "placeholder": "​",
            "style": "IPY_MODEL_cb84a8159e7e404f85e03a3e6e60c3e7",
            "value": " 28881/28881 [00:00&lt;00:00, 547243.78it/s]"
          }
        },
        "46b3ece4ae4d43f5bc52b4c9c8ac6942": {
          "model_module": "@jupyter-widgets/base",
          "model_name": "LayoutModel",
          "model_module_version": "1.2.0",
          "state": {
            "_model_module": "@jupyter-widgets/base",
            "_model_module_version": "1.2.0",
            "_model_name": "LayoutModel",
            "_view_count": null,
            "_view_module": "@jupyter-widgets/base",
            "_view_module_version": "1.2.0",
            "_view_name": "LayoutView",
            "align_content": null,
            "align_items": null,
            "align_self": null,
            "border": null,
            "bottom": null,
            "display": null,
            "flex": null,
            "flex_flow": null,
            "grid_area": null,
            "grid_auto_columns": null,
            "grid_auto_flow": null,
            "grid_auto_rows": null,
            "grid_column": null,
            "grid_gap": null,
            "grid_row": null,
            "grid_template_areas": null,
            "grid_template_columns": null,
            "grid_template_rows": null,
            "height": null,
            "justify_content": null,
            "justify_items": null,
            "left": null,
            "margin": null,
            "max_height": null,
            "max_width": null,
            "min_height": null,
            "min_width": null,
            "object_fit": null,
            "object_position": null,
            "order": null,
            "overflow": null,
            "overflow_x": null,
            "overflow_y": null,
            "padding": null,
            "right": null,
            "top": null,
            "visibility": null,
            "width": null
          }
        },
        "cd8cc02718984cc68660ff8d5909a296": {
          "model_module": "@jupyter-widgets/base",
          "model_name": "LayoutModel",
          "model_module_version": "1.2.0",
          "state": {
            "_model_module": "@jupyter-widgets/base",
            "_model_module_version": "1.2.0",
            "_model_name": "LayoutModel",
            "_view_count": null,
            "_view_module": "@jupyter-widgets/base",
            "_view_module_version": "1.2.0",
            "_view_name": "LayoutView",
            "align_content": null,
            "align_items": null,
            "align_self": null,
            "border": null,
            "bottom": null,
            "display": null,
            "flex": null,
            "flex_flow": null,
            "grid_area": null,
            "grid_auto_columns": null,
            "grid_auto_flow": null,
            "grid_auto_rows": null,
            "grid_column": null,
            "grid_gap": null,
            "grid_row": null,
            "grid_template_areas": null,
            "grid_template_columns": null,
            "grid_template_rows": null,
            "height": null,
            "justify_content": null,
            "justify_items": null,
            "left": null,
            "margin": null,
            "max_height": null,
            "max_width": null,
            "min_height": null,
            "min_width": null,
            "object_fit": null,
            "object_position": null,
            "order": null,
            "overflow": null,
            "overflow_x": null,
            "overflow_y": null,
            "padding": null,
            "right": null,
            "top": null,
            "visibility": null,
            "width": null
          }
        },
        "7cb82d22cf184ec8a9b5b0d1ec1f5508": {
          "model_module": "@jupyter-widgets/controls",
          "model_name": "DescriptionStyleModel",
          "model_module_version": "1.5.0",
          "state": {
            "_model_module": "@jupyter-widgets/controls",
            "_model_module_version": "1.5.0",
            "_model_name": "DescriptionStyleModel",
            "_view_count": null,
            "_view_module": "@jupyter-widgets/base",
            "_view_module_version": "1.2.0",
            "_view_name": "StyleView",
            "description_width": ""
          }
        },
        "1968223771b84c0d85fb0a2bd683f3a7": {
          "model_module": "@jupyter-widgets/base",
          "model_name": "LayoutModel",
          "model_module_version": "1.2.0",
          "state": {
            "_model_module": "@jupyter-widgets/base",
            "_model_module_version": "1.2.0",
            "_model_name": "LayoutModel",
            "_view_count": null,
            "_view_module": "@jupyter-widgets/base",
            "_view_module_version": "1.2.0",
            "_view_name": "LayoutView",
            "align_content": null,
            "align_items": null,
            "align_self": null,
            "border": null,
            "bottom": null,
            "display": null,
            "flex": null,
            "flex_flow": null,
            "grid_area": null,
            "grid_auto_columns": null,
            "grid_auto_flow": null,
            "grid_auto_rows": null,
            "grid_column": null,
            "grid_gap": null,
            "grid_row": null,
            "grid_template_areas": null,
            "grid_template_columns": null,
            "grid_template_rows": null,
            "height": null,
            "justify_content": null,
            "justify_items": null,
            "left": null,
            "margin": null,
            "max_height": null,
            "max_width": null,
            "min_height": null,
            "min_width": null,
            "object_fit": null,
            "object_position": null,
            "order": null,
            "overflow": null,
            "overflow_x": null,
            "overflow_y": null,
            "padding": null,
            "right": null,
            "top": null,
            "visibility": null,
            "width": null
          }
        },
        "c6ef667d880e485cbc996b1450ffa3d7": {
          "model_module": "@jupyter-widgets/controls",
          "model_name": "ProgressStyleModel",
          "model_module_version": "1.5.0",
          "state": {
            "_model_module": "@jupyter-widgets/controls",
            "_model_module_version": "1.5.0",
            "_model_name": "ProgressStyleModel",
            "_view_count": null,
            "_view_module": "@jupyter-widgets/base",
            "_view_module_version": "1.2.0",
            "_view_name": "StyleView",
            "bar_color": null,
            "description_width": ""
          }
        },
        "6570b7d74de24767ba3b491be75111f0": {
          "model_module": "@jupyter-widgets/base",
          "model_name": "LayoutModel",
          "model_module_version": "1.2.0",
          "state": {
            "_model_module": "@jupyter-widgets/base",
            "_model_module_version": "1.2.0",
            "_model_name": "LayoutModel",
            "_view_count": null,
            "_view_module": "@jupyter-widgets/base",
            "_view_module_version": "1.2.0",
            "_view_name": "LayoutView",
            "align_content": null,
            "align_items": null,
            "align_self": null,
            "border": null,
            "bottom": null,
            "display": null,
            "flex": null,
            "flex_flow": null,
            "grid_area": null,
            "grid_auto_columns": null,
            "grid_auto_flow": null,
            "grid_auto_rows": null,
            "grid_column": null,
            "grid_gap": null,
            "grid_row": null,
            "grid_template_areas": null,
            "grid_template_columns": null,
            "grid_template_rows": null,
            "height": null,
            "justify_content": null,
            "justify_items": null,
            "left": null,
            "margin": null,
            "max_height": null,
            "max_width": null,
            "min_height": null,
            "min_width": null,
            "object_fit": null,
            "object_position": null,
            "order": null,
            "overflow": null,
            "overflow_x": null,
            "overflow_y": null,
            "padding": null,
            "right": null,
            "top": null,
            "visibility": null,
            "width": null
          }
        },
        "cb84a8159e7e404f85e03a3e6e60c3e7": {
          "model_module": "@jupyter-widgets/controls",
          "model_name": "DescriptionStyleModel",
          "model_module_version": "1.5.0",
          "state": {
            "_model_module": "@jupyter-widgets/controls",
            "_model_module_version": "1.5.0",
            "_model_name": "DescriptionStyleModel",
            "_view_count": null,
            "_view_module": "@jupyter-widgets/base",
            "_view_module_version": "1.2.0",
            "_view_name": "StyleView",
            "description_width": ""
          }
        },
        "d80fda13a9d3427484223292c5127d4c": {
          "model_module": "@jupyter-widgets/controls",
          "model_name": "HBoxModel",
          "model_module_version": "1.5.0",
          "state": {
            "_dom_classes": [],
            "_model_module": "@jupyter-widgets/controls",
            "_model_module_version": "1.5.0",
            "_model_name": "HBoxModel",
            "_view_count": null,
            "_view_module": "@jupyter-widgets/controls",
            "_view_module_version": "1.5.0",
            "_view_name": "HBoxView",
            "box_style": "",
            "children": [
              "IPY_MODEL_4c0c8842b4bf48d29d8a6564cd70d395",
              "IPY_MODEL_31dc207d0ebe4c299c4e874313b53ade",
              "IPY_MODEL_f1915b1439f9485893a8a2273ef1dfbe"
            ],
            "layout": "IPY_MODEL_a6fded81c16048f0a293e79b372dec87"
          }
        },
        "4c0c8842b4bf48d29d8a6564cd70d395": {
          "model_module": "@jupyter-widgets/controls",
          "model_name": "HTMLModel",
          "model_module_version": "1.5.0",
          "state": {
            "_dom_classes": [],
            "_model_module": "@jupyter-widgets/controls",
            "_model_module_version": "1.5.0",
            "_model_name": "HTMLModel",
            "_view_count": null,
            "_view_module": "@jupyter-widgets/controls",
            "_view_module_version": "1.5.0",
            "_view_name": "HTMLView",
            "description": "",
            "description_tooltip": null,
            "layout": "IPY_MODEL_fa2f0e22cacd4361ab93f49a037afe70",
            "placeholder": "​",
            "style": "IPY_MODEL_fedce05ca05347cbbe2fcdac21342891",
            "value": "100%"
          }
        },
        "31dc207d0ebe4c299c4e874313b53ade": {
          "model_module": "@jupyter-widgets/controls",
          "model_name": "FloatProgressModel",
          "model_module_version": "1.5.0",
          "state": {
            "_dom_classes": [],
            "_model_module": "@jupyter-widgets/controls",
            "_model_module_version": "1.5.0",
            "_model_name": "FloatProgressModel",
            "_view_count": null,
            "_view_module": "@jupyter-widgets/controls",
            "_view_module_version": "1.5.0",
            "_view_name": "ProgressView",
            "bar_style": "success",
            "description": "",
            "description_tooltip": null,
            "layout": "IPY_MODEL_67e00c998cf34f6e8c04ca7e8689ad9b",
            "max": 1648877,
            "min": 0,
            "orientation": "horizontal",
            "style": "IPY_MODEL_0493ba7a9a0e4e10aeeaff2f02951afb",
            "value": 1648877
          }
        },
        "f1915b1439f9485893a8a2273ef1dfbe": {
          "model_module": "@jupyter-widgets/controls",
          "model_name": "HTMLModel",
          "model_module_version": "1.5.0",
          "state": {
            "_dom_classes": [],
            "_model_module": "@jupyter-widgets/controls",
            "_model_module_version": "1.5.0",
            "_model_name": "HTMLModel",
            "_view_count": null,
            "_view_module": "@jupyter-widgets/controls",
            "_view_module_version": "1.5.0",
            "_view_name": "HTMLView",
            "description": "",
            "description_tooltip": null,
            "layout": "IPY_MODEL_65857165b7d24e838cc7e74c6ec6126d",
            "placeholder": "​",
            "style": "IPY_MODEL_77c601b7c4ea4f728fec99fa005bd129",
            "value": " 1648877/1648877 [00:00&lt;00:00, 33042170.02it/s]"
          }
        },
        "a6fded81c16048f0a293e79b372dec87": {
          "model_module": "@jupyter-widgets/base",
          "model_name": "LayoutModel",
          "model_module_version": "1.2.0",
          "state": {
            "_model_module": "@jupyter-widgets/base",
            "_model_module_version": "1.2.0",
            "_model_name": "LayoutModel",
            "_view_count": null,
            "_view_module": "@jupyter-widgets/base",
            "_view_module_version": "1.2.0",
            "_view_name": "LayoutView",
            "align_content": null,
            "align_items": null,
            "align_self": null,
            "border": null,
            "bottom": null,
            "display": null,
            "flex": null,
            "flex_flow": null,
            "grid_area": null,
            "grid_auto_columns": null,
            "grid_auto_flow": null,
            "grid_auto_rows": null,
            "grid_column": null,
            "grid_gap": null,
            "grid_row": null,
            "grid_template_areas": null,
            "grid_template_columns": null,
            "grid_template_rows": null,
            "height": null,
            "justify_content": null,
            "justify_items": null,
            "left": null,
            "margin": null,
            "max_height": null,
            "max_width": null,
            "min_height": null,
            "min_width": null,
            "object_fit": null,
            "object_position": null,
            "order": null,
            "overflow": null,
            "overflow_x": null,
            "overflow_y": null,
            "padding": null,
            "right": null,
            "top": null,
            "visibility": null,
            "width": null
          }
        },
        "fa2f0e22cacd4361ab93f49a037afe70": {
          "model_module": "@jupyter-widgets/base",
          "model_name": "LayoutModel",
          "model_module_version": "1.2.0",
          "state": {
            "_model_module": "@jupyter-widgets/base",
            "_model_module_version": "1.2.0",
            "_model_name": "LayoutModel",
            "_view_count": null,
            "_view_module": "@jupyter-widgets/base",
            "_view_module_version": "1.2.0",
            "_view_name": "LayoutView",
            "align_content": null,
            "align_items": null,
            "align_self": null,
            "border": null,
            "bottom": null,
            "display": null,
            "flex": null,
            "flex_flow": null,
            "grid_area": null,
            "grid_auto_columns": null,
            "grid_auto_flow": null,
            "grid_auto_rows": null,
            "grid_column": null,
            "grid_gap": null,
            "grid_row": null,
            "grid_template_areas": null,
            "grid_template_columns": null,
            "grid_template_rows": null,
            "height": null,
            "justify_content": null,
            "justify_items": null,
            "left": null,
            "margin": null,
            "max_height": null,
            "max_width": null,
            "min_height": null,
            "min_width": null,
            "object_fit": null,
            "object_position": null,
            "order": null,
            "overflow": null,
            "overflow_x": null,
            "overflow_y": null,
            "padding": null,
            "right": null,
            "top": null,
            "visibility": null,
            "width": null
          }
        },
        "fedce05ca05347cbbe2fcdac21342891": {
          "model_module": "@jupyter-widgets/controls",
          "model_name": "DescriptionStyleModel",
          "model_module_version": "1.5.0",
          "state": {
            "_model_module": "@jupyter-widgets/controls",
            "_model_module_version": "1.5.0",
            "_model_name": "DescriptionStyleModel",
            "_view_count": null,
            "_view_module": "@jupyter-widgets/base",
            "_view_module_version": "1.2.0",
            "_view_name": "StyleView",
            "description_width": ""
          }
        },
        "67e00c998cf34f6e8c04ca7e8689ad9b": {
          "model_module": "@jupyter-widgets/base",
          "model_name": "LayoutModel",
          "model_module_version": "1.2.0",
          "state": {
            "_model_module": "@jupyter-widgets/base",
            "_model_module_version": "1.2.0",
            "_model_name": "LayoutModel",
            "_view_count": null,
            "_view_module": "@jupyter-widgets/base",
            "_view_module_version": "1.2.0",
            "_view_name": "LayoutView",
            "align_content": null,
            "align_items": null,
            "align_self": null,
            "border": null,
            "bottom": null,
            "display": null,
            "flex": null,
            "flex_flow": null,
            "grid_area": null,
            "grid_auto_columns": null,
            "grid_auto_flow": null,
            "grid_auto_rows": null,
            "grid_column": null,
            "grid_gap": null,
            "grid_row": null,
            "grid_template_areas": null,
            "grid_template_columns": null,
            "grid_template_rows": null,
            "height": null,
            "justify_content": null,
            "justify_items": null,
            "left": null,
            "margin": null,
            "max_height": null,
            "max_width": null,
            "min_height": null,
            "min_width": null,
            "object_fit": null,
            "object_position": null,
            "order": null,
            "overflow": null,
            "overflow_x": null,
            "overflow_y": null,
            "padding": null,
            "right": null,
            "top": null,
            "visibility": null,
            "width": null
          }
        },
        "0493ba7a9a0e4e10aeeaff2f02951afb": {
          "model_module": "@jupyter-widgets/controls",
          "model_name": "ProgressStyleModel",
          "model_module_version": "1.5.0",
          "state": {
            "_model_module": "@jupyter-widgets/controls",
            "_model_module_version": "1.5.0",
            "_model_name": "ProgressStyleModel",
            "_view_count": null,
            "_view_module": "@jupyter-widgets/base",
            "_view_module_version": "1.2.0",
            "_view_name": "StyleView",
            "bar_color": null,
            "description_width": ""
          }
        },
        "65857165b7d24e838cc7e74c6ec6126d": {
          "model_module": "@jupyter-widgets/base",
          "model_name": "LayoutModel",
          "model_module_version": "1.2.0",
          "state": {
            "_model_module": "@jupyter-widgets/base",
            "_model_module_version": "1.2.0",
            "_model_name": "LayoutModel",
            "_view_count": null,
            "_view_module": "@jupyter-widgets/base",
            "_view_module_version": "1.2.0",
            "_view_name": "LayoutView",
            "align_content": null,
            "align_items": null,
            "align_self": null,
            "border": null,
            "bottom": null,
            "display": null,
            "flex": null,
            "flex_flow": null,
            "grid_area": null,
            "grid_auto_columns": null,
            "grid_auto_flow": null,
            "grid_auto_rows": null,
            "grid_column": null,
            "grid_gap": null,
            "grid_row": null,
            "grid_template_areas": null,
            "grid_template_columns": null,
            "grid_template_rows": null,
            "height": null,
            "justify_content": null,
            "justify_items": null,
            "left": null,
            "margin": null,
            "max_height": null,
            "max_width": null,
            "min_height": null,
            "min_width": null,
            "object_fit": null,
            "object_position": null,
            "order": null,
            "overflow": null,
            "overflow_x": null,
            "overflow_y": null,
            "padding": null,
            "right": null,
            "top": null,
            "visibility": null,
            "width": null
          }
        },
        "77c601b7c4ea4f728fec99fa005bd129": {
          "model_module": "@jupyter-widgets/controls",
          "model_name": "DescriptionStyleModel",
          "model_module_version": "1.5.0",
          "state": {
            "_model_module": "@jupyter-widgets/controls",
            "_model_module_version": "1.5.0",
            "_model_name": "DescriptionStyleModel",
            "_view_count": null,
            "_view_module": "@jupyter-widgets/base",
            "_view_module_version": "1.2.0",
            "_view_name": "StyleView",
            "description_width": ""
          }
        },
        "7307b73b46444bf2a0c071645088d95f": {
          "model_module": "@jupyter-widgets/controls",
          "model_name": "HBoxModel",
          "model_module_version": "1.5.0",
          "state": {
            "_dom_classes": [],
            "_model_module": "@jupyter-widgets/controls",
            "_model_module_version": "1.5.0",
            "_model_name": "HBoxModel",
            "_view_count": null,
            "_view_module": "@jupyter-widgets/controls",
            "_view_module_version": "1.5.0",
            "_view_name": "HBoxView",
            "box_style": "",
            "children": [
              "IPY_MODEL_15dbd183a0364d3bbc14cf85ca4b30fa",
              "IPY_MODEL_401ba5331303479da22ed7fa5305577f",
              "IPY_MODEL_db5fcf5ba27e4512bb81cf5077501fdf"
            ],
            "layout": "IPY_MODEL_00e49b1be6c74e15ab478201901afc94"
          }
        },
        "15dbd183a0364d3bbc14cf85ca4b30fa": {
          "model_module": "@jupyter-widgets/controls",
          "model_name": "HTMLModel",
          "model_module_version": "1.5.0",
          "state": {
            "_dom_classes": [],
            "_model_module": "@jupyter-widgets/controls",
            "_model_module_version": "1.5.0",
            "_model_name": "HTMLModel",
            "_view_count": null,
            "_view_module": "@jupyter-widgets/controls",
            "_view_module_version": "1.5.0",
            "_view_name": "HTMLView",
            "description": "",
            "description_tooltip": null,
            "layout": "IPY_MODEL_07d743c349a64364b7b3c7188af700a2",
            "placeholder": "​",
            "style": "IPY_MODEL_29f098304d2b4e1c8c01f32142753f77",
            "value": "100%"
          }
        },
        "401ba5331303479da22ed7fa5305577f": {
          "model_module": "@jupyter-widgets/controls",
          "model_name": "FloatProgressModel",
          "model_module_version": "1.5.0",
          "state": {
            "_dom_classes": [],
            "_model_module": "@jupyter-widgets/controls",
            "_model_module_version": "1.5.0",
            "_model_name": "FloatProgressModel",
            "_view_count": null,
            "_view_module": "@jupyter-widgets/controls",
            "_view_module_version": "1.5.0",
            "_view_name": "ProgressView",
            "bar_style": "success",
            "description": "",
            "description_tooltip": null,
            "layout": "IPY_MODEL_5d5600b97a2f492788db9626cb131b5e",
            "max": 4542,
            "min": 0,
            "orientation": "horizontal",
            "style": "IPY_MODEL_6bf30054b00446e299bce58d87d5cb1f",
            "value": 4542
          }
        },
        "db5fcf5ba27e4512bb81cf5077501fdf": {
          "model_module": "@jupyter-widgets/controls",
          "model_name": "HTMLModel",
          "model_module_version": "1.5.0",
          "state": {
            "_dom_classes": [],
            "_model_module": "@jupyter-widgets/controls",
            "_model_module_version": "1.5.0",
            "_model_name": "HTMLModel",
            "_view_count": null,
            "_view_module": "@jupyter-widgets/controls",
            "_view_module_version": "1.5.0",
            "_view_name": "HTMLView",
            "description": "",
            "description_tooltip": null,
            "layout": "IPY_MODEL_aa8e67e7c3c74f8cb7428ce74209d820",
            "placeholder": "​",
            "style": "IPY_MODEL_b0d405de2f8440bc8349e1b4e9012656",
            "value": " 4542/4542 [00:00&lt;00:00, 144505.01it/s]"
          }
        },
        "00e49b1be6c74e15ab478201901afc94": {
          "model_module": "@jupyter-widgets/base",
          "model_name": "LayoutModel",
          "model_module_version": "1.2.0",
          "state": {
            "_model_module": "@jupyter-widgets/base",
            "_model_module_version": "1.2.0",
            "_model_name": "LayoutModel",
            "_view_count": null,
            "_view_module": "@jupyter-widgets/base",
            "_view_module_version": "1.2.0",
            "_view_name": "LayoutView",
            "align_content": null,
            "align_items": null,
            "align_self": null,
            "border": null,
            "bottom": null,
            "display": null,
            "flex": null,
            "flex_flow": null,
            "grid_area": null,
            "grid_auto_columns": null,
            "grid_auto_flow": null,
            "grid_auto_rows": null,
            "grid_column": null,
            "grid_gap": null,
            "grid_row": null,
            "grid_template_areas": null,
            "grid_template_columns": null,
            "grid_template_rows": null,
            "height": null,
            "justify_content": null,
            "justify_items": null,
            "left": null,
            "margin": null,
            "max_height": null,
            "max_width": null,
            "min_height": null,
            "min_width": null,
            "object_fit": null,
            "object_position": null,
            "order": null,
            "overflow": null,
            "overflow_x": null,
            "overflow_y": null,
            "padding": null,
            "right": null,
            "top": null,
            "visibility": null,
            "width": null
          }
        },
        "07d743c349a64364b7b3c7188af700a2": {
          "model_module": "@jupyter-widgets/base",
          "model_name": "LayoutModel",
          "model_module_version": "1.2.0",
          "state": {
            "_model_module": "@jupyter-widgets/base",
            "_model_module_version": "1.2.0",
            "_model_name": "LayoutModel",
            "_view_count": null,
            "_view_module": "@jupyter-widgets/base",
            "_view_module_version": "1.2.0",
            "_view_name": "LayoutView",
            "align_content": null,
            "align_items": null,
            "align_self": null,
            "border": null,
            "bottom": null,
            "display": null,
            "flex": null,
            "flex_flow": null,
            "grid_area": null,
            "grid_auto_columns": null,
            "grid_auto_flow": null,
            "grid_auto_rows": null,
            "grid_column": null,
            "grid_gap": null,
            "grid_row": null,
            "grid_template_areas": null,
            "grid_template_columns": null,
            "grid_template_rows": null,
            "height": null,
            "justify_content": null,
            "justify_items": null,
            "left": null,
            "margin": null,
            "max_height": null,
            "max_width": null,
            "min_height": null,
            "min_width": null,
            "object_fit": null,
            "object_position": null,
            "order": null,
            "overflow": null,
            "overflow_x": null,
            "overflow_y": null,
            "padding": null,
            "right": null,
            "top": null,
            "visibility": null,
            "width": null
          }
        },
        "29f098304d2b4e1c8c01f32142753f77": {
          "model_module": "@jupyter-widgets/controls",
          "model_name": "DescriptionStyleModel",
          "model_module_version": "1.5.0",
          "state": {
            "_model_module": "@jupyter-widgets/controls",
            "_model_module_version": "1.5.0",
            "_model_name": "DescriptionStyleModel",
            "_view_count": null,
            "_view_module": "@jupyter-widgets/base",
            "_view_module_version": "1.2.0",
            "_view_name": "StyleView",
            "description_width": ""
          }
        },
        "5d5600b97a2f492788db9626cb131b5e": {
          "model_module": "@jupyter-widgets/base",
          "model_name": "LayoutModel",
          "model_module_version": "1.2.0",
          "state": {
            "_model_module": "@jupyter-widgets/base",
            "_model_module_version": "1.2.0",
            "_model_name": "LayoutModel",
            "_view_count": null,
            "_view_module": "@jupyter-widgets/base",
            "_view_module_version": "1.2.0",
            "_view_name": "LayoutView",
            "align_content": null,
            "align_items": null,
            "align_self": null,
            "border": null,
            "bottom": null,
            "display": null,
            "flex": null,
            "flex_flow": null,
            "grid_area": null,
            "grid_auto_columns": null,
            "grid_auto_flow": null,
            "grid_auto_rows": null,
            "grid_column": null,
            "grid_gap": null,
            "grid_row": null,
            "grid_template_areas": null,
            "grid_template_columns": null,
            "grid_template_rows": null,
            "height": null,
            "justify_content": null,
            "justify_items": null,
            "left": null,
            "margin": null,
            "max_height": null,
            "max_width": null,
            "min_height": null,
            "min_width": null,
            "object_fit": null,
            "object_position": null,
            "order": null,
            "overflow": null,
            "overflow_x": null,
            "overflow_y": null,
            "padding": null,
            "right": null,
            "top": null,
            "visibility": null,
            "width": null
          }
        },
        "6bf30054b00446e299bce58d87d5cb1f": {
          "model_module": "@jupyter-widgets/controls",
          "model_name": "ProgressStyleModel",
          "model_module_version": "1.5.0",
          "state": {
            "_model_module": "@jupyter-widgets/controls",
            "_model_module_version": "1.5.0",
            "_model_name": "ProgressStyleModel",
            "_view_count": null,
            "_view_module": "@jupyter-widgets/base",
            "_view_module_version": "1.2.0",
            "_view_name": "StyleView",
            "bar_color": null,
            "description_width": ""
          }
        },
        "aa8e67e7c3c74f8cb7428ce74209d820": {
          "model_module": "@jupyter-widgets/base",
          "model_name": "LayoutModel",
          "model_module_version": "1.2.0",
          "state": {
            "_model_module": "@jupyter-widgets/base",
            "_model_module_version": "1.2.0",
            "_model_name": "LayoutModel",
            "_view_count": null,
            "_view_module": "@jupyter-widgets/base",
            "_view_module_version": "1.2.0",
            "_view_name": "LayoutView",
            "align_content": null,
            "align_items": null,
            "align_self": null,
            "border": null,
            "bottom": null,
            "display": null,
            "flex": null,
            "flex_flow": null,
            "grid_area": null,
            "grid_auto_columns": null,
            "grid_auto_flow": null,
            "grid_auto_rows": null,
            "grid_column": null,
            "grid_gap": null,
            "grid_row": null,
            "grid_template_areas": null,
            "grid_template_columns": null,
            "grid_template_rows": null,
            "height": null,
            "justify_content": null,
            "justify_items": null,
            "left": null,
            "margin": null,
            "max_height": null,
            "max_width": null,
            "min_height": null,
            "min_width": null,
            "object_fit": null,
            "object_position": null,
            "order": null,
            "overflow": null,
            "overflow_x": null,
            "overflow_y": null,
            "padding": null,
            "right": null,
            "top": null,
            "visibility": null,
            "width": null
          }
        },
        "b0d405de2f8440bc8349e1b4e9012656": {
          "model_module": "@jupyter-widgets/controls",
          "model_name": "DescriptionStyleModel",
          "model_module_version": "1.5.0",
          "state": {
            "_model_module": "@jupyter-widgets/controls",
            "_model_module_version": "1.5.0",
            "_model_name": "DescriptionStyleModel",
            "_view_count": null,
            "_view_module": "@jupyter-widgets/base",
            "_view_module_version": "1.2.0",
            "_view_name": "StyleView",
            "description_width": ""
          }
        }
      }
    }
  },
  "cells": [
    {
      "cell_type": "markdown",
      "metadata": {
        "id": "view-in-github",
        "colab_type": "text"
      },
      "source": [
        "<a href=\"https://colab.research.google.com/github/ProtoDD/pdd/blob/main/PDD_MNIST_sample.ipynb\" target=\"_parent\"><img src=\"https://colab.research.google.com/assets/colab-badge.svg\" alt=\"Open In Colab\"/></a>"
      ]
    },
    {
      "cell_type": "markdown",
      "metadata": {
        "id": "efRH_C0oUPqQ"
      },
      "source": [
        "#Prototype Data Description\n"
      ]
    },
    {
      "cell_type": "markdown",
      "metadata": {
        "id": "g4pawz2eUPm3"
      },
      "source": [
        "##Implementations\n",
        "* Unsupervised pretraining Generator/Discriminator adversarial training\n",
        "* Leave-one(anomaly)-class-out Training Data\n",
        "* Visualize the discriminator feature space\n",
        "* Inter/intra-class margins computed using class-prototypes\n",
        "* Anomaly score using KDE\n"
      ]
    },
    {
      "cell_type": "markdown",
      "metadata": {
        "id": "H0KMAedSY-oG"
      },
      "source": [
        "#Imports"
      ]
    },
    {
      "cell_type": "code",
      "source": [
        "import numpy as np\n",
        "import matplotlib.pyplot as plt\n",
        "import time\n",
        "from urllib import request \n",
        "from itertools import combinations"
      ],
      "metadata": {
        "id": "GFR2s2-te_JJ"
      },
      "execution_count": 1,
      "outputs": []
    },
    {
      "cell_type": "code",
      "source": [
        "from sklearn.manifold import TSNE\n",
        "from sklearn.neighbors import KernelDensity, LocalOutlierFactor\n",
        "from sklearn.decomposition import PCA\n",
        "from sklearn.metrics import roc_auc_score\n",
        "from sklearn.model_selection import train_test_split"
      ],
      "metadata": {
        "id": "jRd8MmJge9Wi"
      },
      "execution_count": 2,
      "outputs": []
    },
    {
      "cell_type": "code",
      "metadata": {
        "id": "bRL-yjdPBGRS"
      },
      "source": [
        "import torch\n",
        "from torch import nn \n",
        "from torch import utils \n",
        "from torch.nn import init\n",
        "from torch.autograd import Variable\n",
        "from torchvision.datasets import MNIST\n",
        "from torchvision import transforms\n",
        "from torch.utils.data import TensorDataset, DataLoader"
      ],
      "execution_count": 3,
      "outputs": []
    },
    {
      "cell_type": "code",
      "metadata": {
        "id": "Qc9m1rJmn0g8"
      },
      "source": [
        "from sklearn.metrics import average_precision_score, precision_recall_curve"
      ],
      "execution_count": 4,
      "outputs": []
    },
    {
      "cell_type": "code",
      "metadata": {
        "id": "l2TazS2nYeYU"
      },
      "source": [
        "import os\n",
        "from datetime import datetime, timedelta, timezone"
      ],
      "execution_count": 5,
      "outputs": []
    },
    {
      "cell_type": "code",
      "metadata": {
        "id": "vFlbSHV1RQAU"
      },
      "source": [
        "from sklearn.metrics import precision_recall_curve"
      ],
      "execution_count": 6,
      "outputs": []
    },
    {
      "cell_type": "code",
      "metadata": {
        "id": "tcOLiXmJJk7Q"
      },
      "source": [
        "from sklearn.metrics import average_precision_score"
      ],
      "execution_count": 7,
      "outputs": []
    },
    {
      "cell_type": "code",
      "metadata": {
        "id": "xBdONNpROe6w"
      },
      "source": [
        "from sklearn.preprocessing import MinMaxScaler"
      ],
      "execution_count": 8,
      "outputs": []
    },
    {
      "cell_type": "code",
      "metadata": {
        "colab": {
          "base_uri": "https://localhost:8080/"
        },
        "id": "bUoDwASRKmKU",
        "outputId": "b6a73b5a-dbd8-43f8-e950-11af641e9bd7"
      },
      "source": [
        "!pip install umap-learn"
      ],
      "execution_count": 9,
      "outputs": [
        {
          "output_type": "stream",
          "name": "stdout",
          "text": [
            "Looking in indexes: https://pypi.org/simple, https://us-python.pkg.dev/colab-wheels/public/simple/\n",
            "Collecting umap-learn\n",
            "  Downloading umap-learn-0.5.3.tar.gz (88 kB)\n",
            "\u001b[K     |████████████████████████████████| 88 kB 5.0 MB/s \n",
            "\u001b[?25hRequirement already satisfied: numpy>=1.17 in /usr/local/lib/python3.7/dist-packages (from umap-learn) (1.21.6)\n",
            "Requirement already satisfied: scikit-learn>=0.22 in /usr/local/lib/python3.7/dist-packages (from umap-learn) (1.0.2)\n",
            "Requirement already satisfied: scipy>=1.0 in /usr/local/lib/python3.7/dist-packages (from umap-learn) (1.7.3)\n",
            "Requirement already satisfied: numba>=0.49 in /usr/local/lib/python3.7/dist-packages (from umap-learn) (0.56.0)\n",
            "Collecting pynndescent>=0.5\n",
            "  Downloading pynndescent-0.5.7.tar.gz (1.1 MB)\n",
            "\u001b[K     |████████████████████████████████| 1.1 MB 45.8 MB/s \n",
            "\u001b[?25hRequirement already satisfied: tqdm in /usr/local/lib/python3.7/dist-packages (from umap-learn) (4.64.0)\n",
            "Requirement already satisfied: setuptools in /usr/local/lib/python3.7/dist-packages (from numba>=0.49->umap-learn) (57.4.0)\n",
            "Requirement already satisfied: llvmlite<0.40,>=0.39.0dev0 in /usr/local/lib/python3.7/dist-packages (from numba>=0.49->umap-learn) (0.39.0)\n",
            "Requirement already satisfied: importlib-metadata in /usr/local/lib/python3.7/dist-packages (from numba>=0.49->umap-learn) (4.12.0)\n",
            "Requirement already satisfied: joblib>=0.11 in /usr/local/lib/python3.7/dist-packages (from pynndescent>=0.5->umap-learn) (1.1.0)\n",
            "Requirement already satisfied: threadpoolctl>=2.0.0 in /usr/local/lib/python3.7/dist-packages (from scikit-learn>=0.22->umap-learn) (3.1.0)\n",
            "Requirement already satisfied: zipp>=0.5 in /usr/local/lib/python3.7/dist-packages (from importlib-metadata->numba>=0.49->umap-learn) (3.8.1)\n",
            "Requirement already satisfied: typing-extensions>=3.6.4 in /usr/local/lib/python3.7/dist-packages (from importlib-metadata->numba>=0.49->umap-learn) (4.1.1)\n",
            "Building wheels for collected packages: umap-learn, pynndescent\n",
            "  Building wheel for umap-learn (setup.py) ... \u001b[?25l\u001b[?25hdone\n",
            "  Created wheel for umap-learn: filename=umap_learn-0.5.3-py3-none-any.whl size=82829 sha256=7ce32f0d903a3dff219ba62b394e69644186edea1044f611a3badb236db62142\n",
            "  Stored in directory: /root/.cache/pip/wheels/b3/52/a5/1fd9e3e76a7ab34f134c07469cd6f16e27ef3a37aeff1fe821\n",
            "  Building wheel for pynndescent (setup.py) ... \u001b[?25l\u001b[?25hdone\n",
            "  Created wheel for pynndescent: filename=pynndescent-0.5.7-py3-none-any.whl size=54286 sha256=02386e8e02bbcc778b4b7a10498a7a7d1fdf703ad4777d810cc125ee1ef84e0d\n",
            "  Stored in directory: /root/.cache/pip/wheels/7f/2a/f8/7bd5dcec71bd5c669f6f574db3113513696b98f3f9b51f496c\n",
            "Successfully built umap-learn pynndescent\n",
            "Installing collected packages: pynndescent, umap-learn\n",
            "Successfully installed pynndescent-0.5.7 umap-learn-0.5.3\n"
          ]
        }
      ]
    },
    {
      "cell_type": "code",
      "metadata": {
        "id": "7tsrv4iuLAn0"
      },
      "source": [
        "from umap import UMAP"
      ],
      "execution_count": 10,
      "outputs": []
    },
    {
      "cell_type": "code",
      "metadata": {
        "id": "Mb9Ey4TezIqR"
      },
      "source": [
        "model_umap = UMAP()"
      ],
      "execution_count": 11,
      "outputs": []
    },
    {
      "cell_type": "markdown",
      "source": [
        "#Pretrained Models"
      ],
      "metadata": {
        "id": "N4ZGvOG5ivL1"
      }
    },
    {
      "cell_type": "code",
      "source": [
        "import os"
      ],
      "metadata": {
        "id": "WfoG9x00i7zJ"
      },
      "execution_count": 12,
      "outputs": []
    },
    {
      "cell_type": "code",
      "source": [
        "from urllib.request import urlretrieve"
      ],
      "metadata": {
        "id": "oKleYBCgiwwF"
      },
      "execution_count": 13,
      "outputs": []
    },
    {
      "cell_type": "code",
      "source": [
        "path_pretrained = './pretrained/'"
      ],
      "metadata": {
        "id": "TuOYe5IePdlf"
      },
      "execution_count": 14,
      "outputs": []
    },
    {
      "cell_type": "code",
      "source": [
        "if not os.path.exists(path_pretrained):\n",
        "  os.mkdir(path_pretrained)"
      ],
      "metadata": {
        "id": "_HuQrHFyi7Cq"
      },
      "execution_count": 15,
      "outputs": []
    },
    {
      "cell_type": "code",
      "source": [
        "path_model_d = path_pretrained + 'discriminator.pkl'\n",
        "path_model_g = path_pretrained + 'generator.pkl'"
      ],
      "metadata": {
        "id": "U_jjwuhniRbB"
      },
      "execution_count": 16,
      "outputs": []
    },
    {
      "cell_type": "code",
      "source": [
        "ood_classes = [1]\n",
        "url_pretrained_g = 'https://tus.box.com/shared/static/qw15o5yhwb73zaqh9lh4ghqzp851w0vp.pkl'\n",
        "url_pretrained_d = 'https://tus.box.com/shared/static/fp7xket1se3iuys9lgvvovkzo7fcxiy8.pkl'"
      ],
      "metadata": {
        "id": "ZZFd6IfMidl3"
      },
      "execution_count": 17,
      "outputs": []
    },
    {
      "cell_type": "code",
      "source": [
        "urlretrieve(url_pretrained_d, path_model_d)\n",
        "urlretrieve(url_pretrained_g, path_model_g)"
      ],
      "metadata": {
        "colab": {
          "base_uri": "https://localhost:8080/"
        },
        "id": "lJ_mS6J7irb8",
        "outputId": "17230055-5612-41e5-d79d-82d841ea63e4"
      },
      "execution_count": 18,
      "outputs": [
        {
          "output_type": "execute_result",
          "data": {
            "text/plain": [
              "('./pretrained/generator.pkl', <http.client.HTTPMessage at 0x7fa6a8ae6290>)"
            ]
          },
          "metadata": {},
          "execution_count": 18
        }
      ]
    },
    {
      "cell_type": "markdown",
      "metadata": {
        "id": "sx68Grc5YwtI"
      },
      "source": [
        "# Discriminator/Generator Class"
      ]
    },
    {
      "cell_type": "code",
      "metadata": {
        "id": "CvCN10_VhlIT"
      },
      "source": [
        "# Generator receives random noise z and create 1x28x28 image\n",
        "\n",
        "class Generator(nn.Module):\n",
        "    def __init__(self):\n",
        "        super(Generator,self).__init__()\n",
        "        self.layer1 = nn.Sequential(\n",
        "             nn.Linear(100,7*7*512),\n",
        "             nn.BatchNorm1d(7*7*512),\n",
        "             nn.ReLU(),\n",
        "        )\n",
        "        self.layer2 = nn.Sequential(\n",
        "                        nn.ConvTranspose2d(512,256,3,2,1,1),\n",
        "                        nn.BatchNorm2d(256),\n",
        "                        nn.LeakyReLU(),\n",
        "                        nn.ConvTranspose2d(256,128,3,1,1),\n",
        "                        nn.BatchNorm2d(128),    \n",
        "                        nn.LeakyReLU(),\n",
        "            )\n",
        "        self.layer3 = nn.Sequential(\n",
        "                        nn.ConvTranspose2d(128,64,3,1,1),\n",
        "                        nn.BatchNorm2d(64),    \n",
        "                        nn.LeakyReLU(),\n",
        "                        nn.ConvTranspose2d(64,1,3,2,1,1),\n",
        "                        nn.Tanh()\n",
        "            )\n",
        "\n",
        "    def forward(self,z):\n",
        "        out = self.layer1(z)\n",
        "        out = out.view(out.size()[0],512,7,7)\n",
        "        out = self.layer2(out)\n",
        "        out = self.layer3(out)\n",
        "        return out"
      ],
      "execution_count": 19,
      "outputs": []
    },
    {
      "cell_type": "code",
      "metadata": {
        "id": "yw_jR3oJY5TN"
      },
      "source": [
        "# Discriminator receives 1x28x28 image and returns a float number 0~1\n",
        "\n",
        "class Discriminator(nn.Module):\n",
        "    def __init__(self):\n",
        "        super(Discriminator,self).__init__()\n",
        "        self.layer1 = nn.Sequential(\n",
        "                        nn.Conv2d(1,8,3,padding=1),   # batch x 16 x 28 x 28\n",
        "                        nn.BatchNorm2d(8),    \n",
        "                        nn.LeakyReLU(),\n",
        "                        nn.Conv2d(8,16,3,stride=2,padding=1),  # batch x 32 x 28 x 28\n",
        "                        nn.BatchNorm2d(16),    \n",
        "                        nn.LeakyReLU(),\n",
        "                        #('max1',nn.MaxPool2d(2,2))   # batch x 32 x 14 x 14\n",
        "        )\n",
        "        self.layer2 = nn.Sequential(\n",
        "                        nn.Conv2d(16,32,3,stride=2,padding=1),  # batch x 64 x 14 x 14\n",
        "                        nn.BatchNorm2d(32),\n",
        "                        nn.LeakyReLU(),\n",
        "                        #nn.MaxPool2d(2,2),\n",
        "                        nn.Conv2d(32,64,3,padding=1),  # batch x 128 x 7 x 7\n",
        "                        nn.BatchNorm2d(64),\n",
        "                        nn.LeakyReLU()\n",
        "        )\n",
        "        self.fc = nn.Sequential(\n",
        "                        nn.Linear(64*7*7,1),\n",
        "                        nn.Sigmoid()\n",
        "        )\n",
        "\n",
        "    def forward(self,x):\n",
        "        out = self.layer1(x)\n",
        "        out = self.layer2(out)\n",
        "        out = out.view(out.size()[0], -1)\n",
        "        feature = out\n",
        "        out = self.fc(out)\n",
        "        return out,feature"
      ],
      "execution_count": 20,
      "outputs": []
    },
    {
      "cell_type": "code",
      "metadata": {
        "colab": {
          "base_uri": "https://localhost:8080/",
          "height": 35
        },
        "id": "Sl_L-7FgZF-l",
        "outputId": "0ff68b72-1b99-4ee0-807c-b71cacc8f412"
      },
      "source": [
        "device = 'cuda' if torch.cuda.is_available() else 'cpu'\n",
        "device"
      ],
      "execution_count": 21,
      "outputs": [
        {
          "output_type": "execute_result",
          "data": {
            "text/plain": [
              "'cuda'"
            ],
            "application/vnd.google.colaboratory.intrinsic+json": {
              "type": "string"
            }
          },
          "metadata": {},
          "execution_count": 21
        }
      ]
    },
    {
      "cell_type": "code",
      "metadata": {
        "id": "nwZXJNNkbhBu"
      },
      "source": [
        "discriminator = nn.DataParallel(Discriminator(),device_ids=[0])\n",
        "generator = nn.DataParallel(Generator(),device_ids=[0])"
      ],
      "execution_count": 22,
      "outputs": []
    },
    {
      "cell_type": "code",
      "metadata": {
        "colab": {
          "base_uri": "https://localhost:8080/"
        },
        "id": "394htqrWbPPC",
        "outputId": "565eb376-4ddd-459d-bc0e-f091c4e91f93"
      },
      "source": [
        "#load pretrained model\n",
        "discriminator.load_state_dict(torch.load(path_model_d))\n",
        "generator.load_state_dict(torch.load(path_model_g))"
      ],
      "execution_count": 23,
      "outputs": [
        {
          "output_type": "execute_result",
          "data": {
            "text/plain": [
              "<All keys matched successfully>"
            ]
          },
          "metadata": {},
          "execution_count": 23
        }
      ]
    },
    {
      "cell_type": "markdown",
      "metadata": {
        "id": "VU5B7e4zhKIe"
      },
      "source": [
        "# Log Path"
      ]
    },
    {
      "cell_type": "code",
      "metadata": {
        "colab": {
          "base_uri": "https://localhost:8080/"
        },
        "id": "qmAIWzCIYOkr",
        "outputId": "8496ace2-978e-4c65-f9da-194053bec80a"
      },
      "source": [
        "import os\n",
        "wdir = './wdir/'\n",
        "\n",
        "logpath = wdir + 'log_'+str(ood_classes[0])+'/'\n",
        "\n",
        "if os.path.exists(wdir):\n",
        "  print(logpath+' exists')\n",
        "else: \n",
        "  os.makedirs(logpath)\n",
        "  print(logpath+' made')"
      ],
      "execution_count": 24,
      "outputs": [
        {
          "output_type": "stream",
          "name": "stdout",
          "text": [
            "./wdir/log_1/ made\n"
          ]
        }
      ]
    },
    {
      "cell_type": "markdown",
      "source": [
        "#MNIST Dataset (Train)"
      ],
      "metadata": {
        "id": "TnhThVC8L-Ti"
      }
    },
    {
      "cell_type": "code",
      "source": [
        "mnist_train = MNIST(\"./\", train=True, \n",
        "                         transform=transforms.Compose([\n",
        "                             transforms.ToTensor(),\n",
        "                             transforms.Normalize((0.5), (0.5)),\n",
        "                        ]),\n",
        "                        target_transform=None,\n",
        "                        download=True)"
      ],
      "metadata": {
        "colab": {
          "base_uri": "https://localhost:8080/",
          "referenced_widgets": [
            "2c3f192a45224ee495c1d16a39f3e457",
            "cc6c394650a344e18349fc2f3d8f9767",
            "ee27cd75a9c34c47bbc79a6767da02d9",
            "db41716f8ba44835aa384474e7cc0aac",
            "910ed6d0626345f8b2039e1fdc9589b5",
            "23598e0137d3476e82c76c7c2e4fa80b",
            "68f107c09a134b72914ace853d31cffd",
            "6e88c0bdc7f24fcdaa51c7fd128ebb73",
            "166aa0b12251467fb7d43a739458c36b",
            "e1475517f7d14a2f9e1cbb5ca6609bf1",
            "cd8581bf869d4f3a8bf72fdb3fe69511",
            "5a1b1f83bbb94f15ab1c4670c9edb6d3",
            "7ae4db7c16ff4190a57ab0d5e40b3f0f",
            "0c25efc1effd4845b14539d3b5f8f12c",
            "59098822b43a466ea6c14e7e4b2b7939",
            "46b3ece4ae4d43f5bc52b4c9c8ac6942",
            "cd8cc02718984cc68660ff8d5909a296",
            "7cb82d22cf184ec8a9b5b0d1ec1f5508",
            "1968223771b84c0d85fb0a2bd683f3a7",
            "c6ef667d880e485cbc996b1450ffa3d7",
            "6570b7d74de24767ba3b491be75111f0",
            "cb84a8159e7e404f85e03a3e6e60c3e7",
            "d80fda13a9d3427484223292c5127d4c",
            "4c0c8842b4bf48d29d8a6564cd70d395",
            "31dc207d0ebe4c299c4e874313b53ade",
            "f1915b1439f9485893a8a2273ef1dfbe",
            "a6fded81c16048f0a293e79b372dec87",
            "fa2f0e22cacd4361ab93f49a037afe70",
            "fedce05ca05347cbbe2fcdac21342891",
            "67e00c998cf34f6e8c04ca7e8689ad9b",
            "0493ba7a9a0e4e10aeeaff2f02951afb",
            "65857165b7d24e838cc7e74c6ec6126d",
            "77c601b7c4ea4f728fec99fa005bd129",
            "7307b73b46444bf2a0c071645088d95f",
            "15dbd183a0364d3bbc14cf85ca4b30fa",
            "401ba5331303479da22ed7fa5305577f",
            "db5fcf5ba27e4512bb81cf5077501fdf",
            "00e49b1be6c74e15ab478201901afc94",
            "07d743c349a64364b7b3c7188af700a2",
            "29f098304d2b4e1c8c01f32142753f77",
            "5d5600b97a2f492788db9626cb131b5e",
            "6bf30054b00446e299bce58d87d5cb1f",
            "aa8e67e7c3c74f8cb7428ce74209d820",
            "b0d405de2f8440bc8349e1b4e9012656"
          ],
          "height": 431
        },
        "id": "wyrxcXb6MBPi",
        "outputId": "9eb1fa10-adee-49d1-996f-7b8ef7be20fe"
      },
      "execution_count": 25,
      "outputs": [
        {
          "output_type": "stream",
          "name": "stdout",
          "text": [
            "Downloading http://yann.lecun.com/exdb/mnist/train-images-idx3-ubyte.gz\n",
            "Downloading http://yann.lecun.com/exdb/mnist/train-images-idx3-ubyte.gz to ./MNIST/raw/train-images-idx3-ubyte.gz\n"
          ]
        },
        {
          "output_type": "display_data",
          "data": {
            "text/plain": [
              "  0%|          | 0/9912422 [00:00<?, ?it/s]"
            ],
            "application/vnd.jupyter.widget-view+json": {
              "version_major": 2,
              "version_minor": 0,
              "model_id": "2c3f192a45224ee495c1d16a39f3e457"
            }
          },
          "metadata": {}
        },
        {
          "output_type": "stream",
          "name": "stdout",
          "text": [
            "Extracting ./MNIST/raw/train-images-idx3-ubyte.gz to ./MNIST/raw\n",
            "\n",
            "Downloading http://yann.lecun.com/exdb/mnist/train-labels-idx1-ubyte.gz\n",
            "Downloading http://yann.lecun.com/exdb/mnist/train-labels-idx1-ubyte.gz to ./MNIST/raw/train-labels-idx1-ubyte.gz\n"
          ]
        },
        {
          "output_type": "display_data",
          "data": {
            "text/plain": [
              "  0%|          | 0/28881 [00:00<?, ?it/s]"
            ],
            "application/vnd.jupyter.widget-view+json": {
              "version_major": 2,
              "version_minor": 0,
              "model_id": "5a1b1f83bbb94f15ab1c4670c9edb6d3"
            }
          },
          "metadata": {}
        },
        {
          "output_type": "stream",
          "name": "stdout",
          "text": [
            "Extracting ./MNIST/raw/train-labels-idx1-ubyte.gz to ./MNIST/raw\n",
            "\n",
            "Downloading http://yann.lecun.com/exdb/mnist/t10k-images-idx3-ubyte.gz\n",
            "Downloading http://yann.lecun.com/exdb/mnist/t10k-images-idx3-ubyte.gz to ./MNIST/raw/t10k-images-idx3-ubyte.gz\n"
          ]
        },
        {
          "output_type": "display_data",
          "data": {
            "text/plain": [
              "  0%|          | 0/1648877 [00:00<?, ?it/s]"
            ],
            "application/vnd.jupyter.widget-view+json": {
              "version_major": 2,
              "version_minor": 0,
              "model_id": "d80fda13a9d3427484223292c5127d4c"
            }
          },
          "metadata": {}
        },
        {
          "output_type": "stream",
          "name": "stdout",
          "text": [
            "Extracting ./MNIST/raw/t10k-images-idx3-ubyte.gz to ./MNIST/raw\n",
            "\n",
            "Downloading http://yann.lecun.com/exdb/mnist/t10k-labels-idx1-ubyte.gz\n",
            "Downloading http://yann.lecun.com/exdb/mnist/t10k-labels-idx1-ubyte.gz to ./MNIST/raw/t10k-labels-idx1-ubyte.gz\n"
          ]
        },
        {
          "output_type": "display_data",
          "data": {
            "text/plain": [
              "  0%|          | 0/4542 [00:00<?, ?it/s]"
            ],
            "application/vnd.jupyter.widget-view+json": {
              "version_major": 2,
              "version_minor": 0,
              "model_id": "7307b73b46444bf2a0c071645088d95f"
            }
          },
          "metadata": {}
        },
        {
          "output_type": "stream",
          "name": "stdout",
          "text": [
            "Extracting ./MNIST/raw/t10k-labels-idx1-ubyte.gz to ./MNIST/raw\n",
            "\n"
          ]
        }
      ]
    },
    {
      "cell_type": "markdown",
      "metadata": {
        "id": "KjqeMt2IOVSg"
      },
      "source": [
        "# Training Setup (Leave-one-class-out)"
      ]
    },
    {
      "cell_type": "code",
      "metadata": {
        "colab": {
          "base_uri": "https://localhost:8080/"
        },
        "id": "rOoyA3DeN2kV",
        "outputId": "b9e7f6df-894c-41df-e3d8-facafc514944"
      },
      "source": [
        "normal_classes = [ i for i in mnist_train.class_to_idx.values() if not (i in ood_classes) ]\n",
        "normal_classes"
      ],
      "execution_count": 26,
      "outputs": [
        {
          "output_type": "execute_result",
          "data": {
            "text/plain": [
              "[0, 2, 3, 4, 5, 6, 7, 8, 9]"
            ]
          },
          "metadata": {},
          "execution_count": 26
        }
      ]
    },
    {
      "cell_type": "code",
      "metadata": {
        "id": "GERLEXajN50l"
      },
      "source": [
        "# train_labels (non-anomaly classes)\n",
        "position_normal_class = [i for i,j in enumerate(mnist_train.targets.tolist()) if not j in ood_classes]\n",
        "np.array(position_normal_class)"
      ],
      "execution_count": null,
      "outputs": []
    },
    {
      "cell_type": "code",
      "metadata": {
        "id": "1GZSUmCyM2sj"
      },
      "source": [
        "mnist_data_normal = mnist_train.data[position_normal_class] \n",
        "mnist_label_normal = mnist_train.data[position_normal_class] \n",
        "\n",
        "mnist_data_normal.shape, mnist_label_normal.shape"
      ],
      "execution_count": null,
      "outputs": []
    },
    {
      "cell_type": "code",
      "metadata": {
        "colab": {
          "base_uri": "https://localhost:8080/"
        },
        "id": "bb-5l52FKFHk",
        "outputId": "52251f02-2fcf-4685-a0d2-2698e281ce1b"
      },
      "source": [
        "normal_dataset = TensorDataset(mnist_data_normal.view(len(mnist_data_normal),1,28,28).type_as(torch.FloatTensor()), mnist_label_normal)\n",
        "normal_dataset.tensors[0].shape"
      ],
      "execution_count": 29,
      "outputs": [
        {
          "output_type": "execute_result",
          "data": {
            "text/plain": [
              "torch.Size([53258, 1, 28, 28])"
            ]
          },
          "metadata": {},
          "execution_count": 29
        }
      ]
    },
    {
      "cell_type": "code",
      "metadata": {
        "colab": {
          "base_uri": "https://localhost:8080/"
        },
        "id": "CNWxDFOjs_85",
        "outputId": "f2862d2f-8500-4db0-fb55-847a4fdb5ee0"
      },
      "source": [
        "mnist_train.train_labels.set_(mnist_label_normal)\n",
        "mnist_train.train_data.set_(mnist_data_normal)\n",
        "mnist_train"
      ],
      "execution_count": 30,
      "outputs": [
        {
          "output_type": "execute_result",
          "data": {
            "text/plain": [
              "Dataset MNIST\n",
              "    Number of datapoints: 53258\n",
              "    Root location: ./\n",
              "    Split: Train\n",
              "    StandardTransform\n",
              "Transform: Compose(\n",
              "               ToTensor()\n",
              "               Normalize(mean=0.5, std=0.5)\n",
              "           )"
            ]
          },
          "metadata": {},
          "execution_count": 30
        }
      ]
    },
    {
      "cell_type": "markdown",
      "metadata": {
        "id": "7tVxNFQxBGS7"
      },
      "source": [
        "# MNIST Dataset (Test)"
      ]
    },
    {
      "cell_type": "code",
      "metadata": {
        "id": "Gp1iKl0Wtk9l"
      },
      "source": [
        "mnist_test = MNIST(\"./\", train=False, \n",
        "                         transform=transforms.Compose([\n",
        "                             transforms.ToTensor(),\n",
        "                             transforms.Normalize((0.5), (0.5)),\n",
        "                        ]),\n",
        "                        target_transform=None,\n",
        "                        download=True)"
      ],
      "execution_count": 31,
      "outputs": []
    },
    {
      "cell_type": "markdown",
      "metadata": {
        "id": "qwTFKXoOxDqE"
      },
      "source": [
        "# Prototype dataloader"
      ]
    },
    {
      "cell_type": "code",
      "metadata": {
        "id": "ZhXaDSr0oTRn"
      },
      "source": [
        "sample_size = 10"
      ],
      "execution_count": 32,
      "outputs": []
    },
    {
      "cell_type": "code",
      "metadata": {
        "colab": {
          "base_uri": "https://localhost:8080/"
        },
        "id": "iC2u92EYb1b3",
        "outputId": "b3801b58-95a4-4090-b11c-ff592d366ce4"
      },
      "source": [
        "# generator seed\n",
        "import time\n",
        "#seed = 1234\n",
        "seed = int(time.time())\n",
        "print(seed)\n",
        "np.random.seed(seed)"
      ],
      "execution_count": 33,
      "outputs": [
        {
          "output_type": "stream",
          "name": "stdout",
          "text": [
            "1661993705\n"
          ]
        }
      ]
    },
    {
      "cell_type": "code",
      "metadata": {
        "id": "76JKeTknnni5"
      },
      "source": [
        "exemplar_ids = [np.random.choice(np.where(np.array(mnist_train.targets) == i)[0],size=sample_size,replace=False) \n",
        "for i in np.unique(mnist_train.targets) ]\n",
        "\n",
        "exemplar_labels = mnist_train.targets.numpy()[np.array(exemplar_ids)]"
      ],
      "execution_count": 34,
      "outputs": []
    },
    {
      "cell_type": "code",
      "metadata": {
        "id": "HWWw6U-3pjuI"
      },
      "source": [
        "prototype_ids = np.concatenate(exemplar_ids)\n",
        "prototype_labels = np.array(mnist_train.targets)[prototype_ids]"
      ],
      "execution_count": 35,
      "outputs": []
    },
    {
      "cell_type": "code",
      "metadata": {
        "colab": {
          "base_uri": "https://localhost:8080/"
        },
        "id": "zwH4LtxSZxyc",
        "outputId": "0adbf21e-6de3-4d87-e92d-fd3a1368b6ad"
      },
      "source": [
        "len(exemplar_ids), len(prototype_ids)"
      ],
      "execution_count": 36,
      "outputs": [
        {
          "output_type": "execute_result",
          "data": {
            "text/plain": [
              "(9, 90)"
            ]
          },
          "metadata": {},
          "execution_count": 36
        }
      ]
    },
    {
      "cell_type": "code",
      "metadata": {
        "colab": {
          "base_uri": "https://localhost:8080/"
        },
        "id": "a14eidIWR4ce",
        "outputId": "0c6693ac-5e03-4e9c-928e-4cac4707c075"
      },
      "source": [
        "mnist_proto = MNIST(\"./\", train=True, \n",
        "                         transform=transforms.Compose([\n",
        "                             transforms.ToTensor(),\n",
        "                             transforms.Normalize((0.5), (0.5)),\n",
        "                        ]),\n",
        "                        target_transform=None,\n",
        "                        download=True)\n",
        "\n",
        "mnist_data_proto = mnist_train.data[prototype_ids] \n",
        "mnist_label_proto = mnist_train.targets[prototype_ids]\n",
        "\n",
        "mnist_proto.data = mnist_data_proto\n",
        "mnist_proto.targets = mnist_label_proto\n",
        "\n",
        "prototype_loader = torch.utils.data.DataLoader(\n",
        "    dataset=mnist_proto,\n",
        "    batch_size=10,\n",
        "    shuffle=False,\n",
        "    drop_last=False)\n",
        "\n",
        "prototype_reshape = np.arange(len(prototype_labels)).reshape(exemplar_labels.shape)\n",
        "\n",
        "mnist_label_proto"
      ],
      "execution_count": 37,
      "outputs": [
        {
          "output_type": "execute_result",
          "data": {
            "text/plain": [
              "tensor([0, 0, 0, 0, 0, 0, 0, 0, 0, 0, 2, 2, 2, 2, 2, 2, 2, 2, 2, 2, 3, 3, 3, 3,\n",
              "        3, 3, 3, 3, 3, 3, 4, 4, 4, 4, 4, 4, 4, 4, 4, 4, 5, 5, 5, 5, 5, 5, 5, 5,\n",
              "        5, 5, 6, 6, 6, 6, 6, 6, 6, 6, 6, 6, 7, 7, 7, 7, 7, 7, 7, 7, 7, 7, 8, 8,\n",
              "        8, 8, 8, 8, 8, 8, 8, 8, 9, 9, 9, 9, 9, 9, 9, 9, 9, 9])"
            ]
          },
          "metadata": {},
          "execution_count": 37
        }
      ]
    },
    {
      "cell_type": "markdown",
      "metadata": {
        "id": "f4pnBlWwa333"
      },
      "source": [
        "#Pre-trained feature extraction"
      ]
    },
    {
      "cell_type": "code",
      "metadata": {
        "id": "pJFZ6fdyae0K"
      },
      "source": [
        "test_loader = torch.utils.data.DataLoader(\n",
        "    dataset=mnist_test,\n",
        "    batch_size=50,\n",
        "    shuffle=False,\n",
        "    drop_last=False)"
      ],
      "execution_count": 38,
      "outputs": []
    },
    {
      "cell_type": "code",
      "metadata": {
        "colab": {
          "base_uri": "https://localhost:8080/"
        },
        "id": "6TTl8dt1amCB",
        "outputId": "4ff9756c-e8c5-4ca4-9369-8dc7e2f68d1c"
      },
      "source": [
        "dout_real_test =[]\n",
        "testlabels = [] \n",
        "start = time.time()\n",
        "\n",
        "#for j,(image,label) in zip(range(100),test_loader):\n",
        "for j,(image,label) in enumerate(test_loader):\n",
        "\n",
        "  dout_real_test.append(discriminator(image)[1].cpu())\n",
        "  testlabels.extend(label.tolist())\n",
        "\n",
        "  if j % 200 == 0 : \n",
        "    print(j,' ETA: ',(len(test_loader)-j-1)*(time.time()-start)/(j+1)/60)\n",
        "\n",
        "deepfeat_real_test = torch.cat(dout_real_test).detach().numpy()\n",
        "print(deepfeat_real_test.shape)"
      ],
      "execution_count": 39,
      "outputs": [
        {
          "output_type": "stream",
          "name": "stdout",
          "text": [
            "0  ETA:  24.037766842047372\n",
            "(10000, 3136)\n"
          ]
        }
      ]
    },
    {
      "cell_type": "code",
      "metadata": {
        "id": "R2Fli3O0aCFR",
        "colab": {
          "base_uri": "https://localhost:8080/"
        },
        "outputId": "983af33e-0d4e-4346-bbc7-61eb5a9001bb"
      },
      "source": [
        "%%time\n",
        "#Approx. 15 sec\n",
        "dout_real_train =[]\n",
        "trainlabels = [] \n",
        "start = time.time()\n",
        "\n",
        "train_loader = torch.utils.data.DataLoader(\n",
        "    dataset=mnist_train,\n",
        "    batch_size=200,\n",
        "    shuffle=False,\n",
        "    drop_last=False)\n",
        "\n",
        "for j,(image,label) in enumerate(train_loader):\n",
        "  dout_real_train.append(discriminator(image)[1].cpu())\n",
        "  trainlabels.extend(label.tolist())\n",
        "\n",
        "deepfeat_real_train = torch.cat(dout_real_train).cpu().detach().numpy()\n",
        "deepfeat_real_train.shape"
      ],
      "execution_count": 40,
      "outputs": [
        {
          "output_type": "stream",
          "name": "stdout",
          "text": [
            "CPU times: user 11.9 s, sys: 778 ms, total: 12.6 s\n",
            "Wall time: 12.2 s\n"
          ]
        },
        {
          "output_type": "execute_result",
          "data": {
            "text/plain": [
              "(53258, 3136)"
            ]
          },
          "metadata": {},
          "execution_count": 40
        }
      ]
    },
    {
      "cell_type": "code",
      "metadata": {
        "colab": {
          "base_uri": "https://localhost:8080/"
        },
        "id": "zGHP2kgJQgWh",
        "outputId": "1138baef-2331-4361-990e-a31345057eda"
      },
      "source": [
        "dout_prototypes =[]\n",
        "label_prototypes = [] \n",
        "\n",
        "for j,(image,label) in enumerate(prototype_loader):\n",
        "\n",
        "  dout_prototypes.append(discriminator(image)[1])\n",
        "  label_prototypes.extend(label.tolist())\n",
        "\n",
        "dout_prototype_tensor = torch.cat(dout_prototypes)\n",
        "label_prototype_tensor = torch.LongTensor(label_prototypes)\n",
        "\n",
        "dout_prototype_tensor.size(), label_prototype_tensor.size()"
      ],
      "execution_count": 41,
      "outputs": [
        {
          "output_type": "execute_result",
          "data": {
            "text/plain": [
              "(torch.Size([90, 3136]), torch.Size([90]))"
            ]
          },
          "metadata": {},
          "execution_count": 41
        }
      ]
    },
    {
      "cell_type": "markdown",
      "metadata": {
        "id": "og4xJNr2pciR"
      },
      "source": [
        "# Visualization - UMAP"
      ]
    },
    {
      "cell_type": "code",
      "metadata": {
        "colab": {
          "base_uri": "https://localhost:8080/"
        },
        "id": "qGTD_lXOIqpA",
        "outputId": "4a862698-f79c-41fa-b8d2-2ac90c7ac5dc"
      },
      "source": [
        "dout_train_sample, _, trainlabels_sample, _ = train_test_split(deepfeat_real_train, trainlabels, train_size=5000, shuffle = False)\n",
        "dout_test_sample, _, testlabels_sample, _ = train_test_split(deepfeat_real_test, testlabels, train_size=5000, shuffle = False)\n",
        "dout_train_sample.shape, dout_test_sample.shape"
      ],
      "execution_count": 42,
      "outputs": [
        {
          "output_type": "execute_result",
          "data": {
            "text/plain": [
              "((5000, 3136), (5000, 3136))"
            ]
          },
          "metadata": {},
          "execution_count": 42
        }
      ]
    },
    {
      "cell_type": "code",
      "metadata": {
        "colab": {
          "base_uri": "https://localhost:8080/"
        },
        "id": "90EVWhVtIj06",
        "outputId": "62842f3e-8527-4b6b-cf5b-e9778d1e55d1"
      },
      "source": [
        "umap2 = UMAP()\n",
        "umap2"
      ],
      "execution_count": 43,
      "outputs": [
        {
          "output_type": "execute_result",
          "data": {
            "text/plain": [
              "UMAP()"
            ]
          },
          "metadata": {},
          "execution_count": 43
        }
      ]
    },
    {
      "cell_type": "code",
      "metadata": {
        "colab": {
          "base_uri": "https://localhost:8080/"
        },
        "id": "Ztz8JZn9OEFY",
        "outputId": "ffd336c7-2566-4f5f-aec2-07ec81a0de10"
      },
      "source": [
        "dout_combined_sample = np.concatenate([dout_train_sample, \n",
        "                                       dout_test_sample[np.where(np.array(testlabels_sample)==ood_classes[0])[0]],\n",
        "                                       dout_prototype_tensor.detach().cpu().numpy()])\n",
        "dout_combined_sample.shape"
      ],
      "execution_count": 44,
      "outputs": [
        {
          "output_type": "execute_result",
          "data": {
            "text/plain": [
              "(5661, 3136)"
            ]
          },
          "metadata": {},
          "execution_count": 44
        }
      ]
    },
    {
      "cell_type": "code",
      "metadata": {
        "id": "aGYk_Gu8It0o",
        "colab": {
          "base_uri": "https://localhost:8080/"
        },
        "outputId": "a5e1ef37-da60-4649-ef19-b00096bd9c49"
      },
      "source": [
        "#Approx 60 secs\n",
        "%%time\n",
        "umap2.fit(dout_combined_sample)"
      ],
      "execution_count": 45,
      "outputs": [
        {
          "output_type": "stream",
          "name": "stdout",
          "text": [
            "CPU times: user 1min 4s, sys: 1.51 s, total: 1min 5s\n",
            "Wall time: 30.5 s\n"
          ]
        },
        {
          "output_type": "execute_result",
          "data": {
            "text/plain": [
              "UMAP(tqdm_kwds={'bar_format': '{desc}: {percentage:3.0f}%| {bar} {n_fmt}/{total_fmt} [{elapsed}]', 'desc': 'Epochs completed', 'disable': True})"
            ]
          },
          "metadata": {},
          "execution_count": 45
        }
      ]
    },
    {
      "cell_type": "code",
      "metadata": {
        "id": "tZmVPAvVKMaQ"
      },
      "source": [
        "X_umap2_train_sample = umap2.transform(dout_train_sample)"
      ],
      "execution_count": 46,
      "outputs": []
    },
    {
      "cell_type": "code",
      "metadata": {
        "colab": {
          "base_uri": "https://localhost:8080/"
        },
        "id": "MsC09DdaZA06",
        "outputId": "60cf0d2a-3363-4616-f6ff-8ddcdbc7c738"
      },
      "source": [
        "X_umap2_ood_sample = umap2.transform(dout_test_sample[np.where(np.array(testlabels_sample)==ood_classes[0])[0]])"
      ],
      "execution_count": 47,
      "outputs": [
        {
          "output_type": "stream",
          "name": "stdout",
          "text": [
            "CPU times: user 4.29 s, sys: 132 ms, total: 4.42 s\n",
            "Wall time: 3.72 s\n"
          ]
        }
      ]
    },
    {
      "cell_type": "code",
      "metadata": {
        "colab": {
          "base_uri": "https://localhost:8080/"
        },
        "id": "4b_UQEvKKn5X",
        "outputId": "e1a4495c-6856-4564-e341-15d4dc40d3c0"
      },
      "source": [
        "X_umap2_prototypes = umap2.transform(dout_prototype_tensor.detach().cpu().numpy())"
      ],
      "execution_count": 48,
      "outputs": [
        {
          "output_type": "stream",
          "name": "stdout",
          "text": [
            "CPU times: user 2.73 s, sys: 40.1 ms, total: 2.77 s\n",
            "Wall time: 2.62 s\n"
          ]
        }
      ]
    },
    {
      "cell_type": "code",
      "metadata": {
        "colab": {
          "base_uri": "https://localhost:8080/",
          "height": 269
        },
        "id": "W0i3aSvHLpq-",
        "outputId": "d508ccee-d710-4880-ddf6-feb0da8b702f"
      },
      "source": [
        "plt.scatter(X_umap2_train_sample[:,0], X_umap2_train_sample[:,1], \n",
        "            c=trainlabels_sample, cmap='tab10',alpha=0.02, marker='^')\n",
        "plt.scatter(X_umap2_ood_sample[:,0], X_umap2_ood_sample[:,1], \n",
        "            color='black', alpha=0.5, marker='+')\n",
        "plt.scatter(X_umap2_prototypes[:,0], X_umap2_prototypes[:,1], \n",
        "            c=label_prototype_tensor, cmap='tab10', alpha=0.99, marker='x')\n",
        "plt.colorbar()\n",
        "plt.show()"
      ],
      "execution_count": 49,
      "outputs": [
        {
          "output_type": "display_data",
          "data": {
            "text/plain": [
              "<Figure size 432x288 with 2 Axes>"
            ],
            "image/png": "[encoded data removed]"
          },
          "metadata": {
            "needs_background": "light"
          }
        }
      ]
    },
    {
      "cell_type": "markdown",
      "metadata": {
        "id": "ZeTnC5EQkbRw"
      },
      "source": [
        "#Training parameters"
      ]
    },
    {
      "cell_type": "code",
      "metadata": {
        "id": "OZ7FuW3ooulx"
      },
      "source": [
        "def image_check(gen_fake):\n",
        "    img = gen_fake.data.numpy()\n",
        "    fig, axes = plt.subplots(2,8,figsize=(15,3)) \n",
        "    for axis,im in zip(axes.ravel(),img):\n",
        "        axis.imshow(im[0],cmap='gray')\n",
        "    plt.show()"
      ],
      "execution_count": 50,
      "outputs": []
    },
    {
      "cell_type": "code",
      "metadata": {
        "id": "TGJRHe65J_pB"
      },
      "source": [
        "n_epochs = 40\n",
        "r_block_in = 2 \n",
        "gacc = 2\n",
        "batch_size = 100\n",
        "learning_rate = 0.0002\n",
        "num_gpus = 1"
      ],
      "execution_count": 51,
      "outputs": []
    },
    {
      "cell_type": "code",
      "metadata": {
        "id": "ioqpjgntd6qO"
      },
      "source": [
        "#loss_func = nn.MSELoss()\n",
        "loss_func = nn.BCELoss()\n",
        "\n",
        "train_loader = DataLoader(dataset=mnist_train,\n",
        "                          batch_size=batch_size,shuffle=True,drop_last=True)"
      ],
      "execution_count": 52,
      "outputs": []
    },
    {
      "cell_type": "markdown",
      "metadata": {
        "id": "ERq9ydL3-php"
      },
      "source": [
        "#PDD Training"
      ]
    },
    {
      "cell_type": "code",
      "metadata": {
        "id": "4l-v75EaBGSr"
      },
      "source": [
        "# loss function, optimizers, and labels for training\n",
        "generator.train()\n",
        "discriminator.train()\n",
        "\n",
        "gen_optim = torch.optim.Adam(generator.parameters(), lr= gacc*learning_rate,betas=(0.5,0.999))\n",
        "dis_optim = torch.optim.Adam(discriminator.parameters(), lr=learning_rate,betas=(0.5,0.999))\n",
        "\n",
        "optim_intra = torch.optim.Adam(discriminator.parameters(), lr=0.01*learning_rate, betas=(0.5,0.999))\n",
        "optim_inter = torch.optim.Adam(discriminator.parameters(), lr=0.001*learning_rate, betas=(0.5,0.999))\n",
        "\n",
        "\n",
        "ones_label = Variable(torch.ones(batch_size,1)).cuda()\n",
        "zeros_label = Variable(torch.zeros(batch_size,1)).cuda()"
      ],
      "execution_count": 53,
      "outputs": []
    },
    {
      "cell_type": "code",
      "metadata": {
        "id": "5Qg5sCy4gx8o"
      },
      "source": [
        "dis_loss_list = []\n",
        "gen_loss_list = []\n",
        "\n",
        "loss_reg_list = []\n",
        "loss_std_list = []\n",
        "loss_mean_list = []"
      ],
      "execution_count": 54,
      "outputs": []
    },
    {
      "cell_type": "code",
      "metadata": {
        "id": "eX9n5NW5BGS1",
        "scrolled": false
      },
      "source": [
        "start = time.time()\n",
        "for total_epoch, i in enumerate(range(n_epochs)):\n",
        "    for j,(image,label) in enumerate(train_loader):\n",
        "        image = Variable(image).cuda()\n",
        "        \n",
        "        # generator\n",
        "        gen_optim.zero_grad()\n",
        "        \n",
        "        z = Variable(init.normal_(torch.Tensor(gacc*batch_size,100),mean=0,std=0.1)).cuda()\n",
        "        gen_fake = generator.forward(z)\n",
        "        dis_fake,_ = discriminator.forward(gen_fake)\n",
        "        \n",
        "        gen_loss = torch.sum(loss_func(dis_fake,torch.ones_like(dis_fake))) # fake classified as real\n",
        "        gen_loss.backward(retain_graph=True)\n",
        "        gen_optim.step()\n",
        "    \n",
        "        # discriminator\n",
        "        dis_optim.zero_grad()\n",
        "        \n",
        "        z = Variable(init.normal_(torch.Tensor(batch_size,100),mean=0,std=0.1)).cuda()\n",
        "        gen_fake = generator.forward(z)\n",
        "        dis_fake,_ = discriminator.forward(gen_fake)\n",
        "        \n",
        "        dis_real,_ = discriminator.forward(image)\n",
        "        dis_loss = torch.sum(loss_func(dis_fake,torch.zeros_like(dis_fake))) + torch.sum(loss_func(dis_real,torch.ones_like(dis_real)))\n",
        "        dis_loss.backward()\n",
        "        dis_optim.step()\n",
        "\n",
        "        # Inter-class Margins\n",
        "        if True: #i == 0 : # \n",
        "                  #optimizer.zero_grad()\n",
        "                  optim_intra.zero_grad()\n",
        "\n",
        "                  # Update prototype projections\n",
        "                  dout_prototypes =[]\n",
        "                  label_prototypes = [] \n",
        "                  for j,(image,label) in enumerate(prototype_loader):\n",
        "                    dout_prototypes.append(discriminator(image)[1])\n",
        "                    label_prototypes.append(label)\n",
        "\n",
        "                  dout_prototype_tensor = torch.cat(dout_prototypes)\n",
        "                  label_prototype_tensor = torch.cat(label_prototypes)\n",
        "                  size_expand = torch.Size([len(dout_prototype_tensor)])+dout_prototype_tensor.size()\n",
        "\n",
        "                  # Prototype distance matrix\n",
        "                  cdist_prototypes = torch.sum((\n",
        "                    dout_prototype_tensor.unsqueeze(dim=0).expand(size_expand) - \\\n",
        "                    dout_prototype_tensor.unsqueeze(dim=1).expand(size_expand)\n",
        "                    )**2, dim=2)\n",
        "                \n",
        "                  # Intra-class margins\n",
        "                  intra_cdist_mat = [cdist_prototypes[torch.where(label_prototype_tensor==i)[0]][:,torch.where(label_prototype_tensor==i)[0]]\n",
        "                                   for i in np.unique(label_prototype_tensor)\n",
        "                                   ]\n",
        "\n",
        "                  #non-diagonal elements\n",
        "                  intra_cdist_std_mean = torch.stack([torch.stack(torch.std_mean(torch.masked_select(matrix, matrix != torch.triu(matrix))))\n",
        "                  for matrix in intra_cdist_mat])\n",
        "\n",
        "                  # intra-class medians\n",
        "                  intra_R_min = torch.median(intra_cdist_std_mean[:,1])\n",
        "                  \n",
        "                  #intra-class margin loss\n",
        "                  if i % r_block_in == 0:\n",
        "                    loss_intra = torch.sqrt(torch.mean(torch.masked_select((intra_cdist_std_mean[:,1] - intra_R_min)**2, intra_cdist_std_mean[:,1] > intra_R_min)))\n",
        "                    loss_intra.backward()\n",
        "                    optim_intra.step()\n",
        "                    loss_std_list.append(loss_intra.tolist())\n",
        "\n",
        "                  optim_inter.zero_grad()\n",
        "                  \n",
        "                  intra_R_max = torch.amax(intra_cdist_std_mean[:,1] + 2*intra_cdist_std_mean[:,0] )\n",
        "                  intra_R_max.detach()\n",
        "\n",
        "                  # Prototype distance matrix\n",
        "                  cdist_prototypes2 = torch.sum((\n",
        "                    dout_prototype_tensor.unsqueeze(dim=0).expand(size_expand) - \\\n",
        "                    dout_prototype_tensor.unsqueeze(dim=1).expand(size_expand)\n",
        "                    )**2, dim=2)\n",
        "                  # inter-class margins\n",
        "                  inter_cdist_mat = [cdist_prototypes2[torch.where(label_prototype_tensor==i)[0]][:,torch.where(label_prototype_tensor==j)[0]]\n",
        "                                   for i,j in combinations(np.unique(label_prototype_tensor), 2)\n",
        "                                   ]\n",
        "\n",
        "\n",
        "                  inter_cdist_triu = torch.cat([torch.masked_select(matrix, matrix != torch.triu(matrix)) for matrix in inter_cdist_mat])\n",
        "                  # inter-class margin threshold\n",
        "                  inter_R = max(inter_cdist_triu.median(), intra_R_max).detach()\n",
        "\n",
        "                  if i % r_block_in != 0:#block\n",
        "                    loss_inter = torch.sqrt(torch.mean(torch.masked_select((inter_R - inter_cdist_triu)**2, inter_cdist_triu<inter_R)))\n",
        "                    loss_inter.backward()\n",
        "                    optim_inter.step()\n",
        "                    loss_mean_list.append(loss_inter.tolist())\n",
        "\n",
        "                  #log intra/inter-class margin losses\n",
        "                  if i > 1:\n",
        "                    loss = loss_intra+loss_inter\n",
        "                    loss_reg_list.append(loss.tolist())\n",
        "\n",
        "        gen_loss_list.append(gen_loss.tolist())\n",
        "        dis_loss_list.append(dis_loss.tolist())\n",
        "    \n",
        "    # save model every epochs\n",
        "    if (i % 1 == 0):\n",
        "      image_check(gen_fake.cpu())\n",
        "      print('Epoch: ', total_epoch, ' ETA: ', (n_epochs - i -1)*(time.time()-start)/(i+1)/60, 'MPE: ', (time.time()-start)/(i+1)/60)\n",
        "      if i != 0:\n",
        "              fig, axes = plt.subplots(nrows=1, ncols=2,figsize=(12,3))\n",
        "              axes[0].plot(gen_loss_list,linestyle='None',marker='x',alpha=0.1,color='blue')\n",
        "              axes[0].set_title('gen')\n",
        "              axes[1].plot(dis_loss_list,linestyle='None',marker='.',alpha=0.1,color='orange')\n",
        "              axes[1].set_title('dis')\n",
        "              plt.show()\n",
        "              \n",
        "              model_path_g = logpath+'generator_'+str(total_epoch)+'_'+str(ood_classes[0])+'.pkl'\n",
        "              model_path_d = logpath+'discriminator_'+str(total_epoch)+'_'+str(ood_classes[0])+'.pkl'\n",
        "              torch.save(generator.state_dict(), model_path_g)\n",
        "              torch.save(discriminator.state_dict(), model_path_d)\n",
        "              print(model_path_g, model_path_d)\n",
        "\n",
        "              fig, axes = plt.subplots(nrows=1,ncols=2,figsize=(12,3))\n",
        "              axes[0].plot(np.array(loss_mean_list[:]),linestyle='None',marker='.',color='green')\n",
        "              axes[0].set_title('inter')\n",
        "              axes[1].plot(np.array(loss_std_list[:]),linestyle='None',marker='+',color='magenta')\n",
        "              axes[1].set_title('intra')"
      ],
      "execution_count": null,
      "outputs": []
    },
    {
      "cell_type": "markdown",
      "metadata": {
        "id": "URFDQWj6lDMw"
      },
      "source": [
        "# Learning Curves"
      ]
    },
    {
      "cell_type": "code",
      "metadata": {
        "id": "qQ_jxyG1sscr",
        "colab": {
          "base_uri": "https://localhost:8080/",
          "height": 553
        },
        "outputId": "c87cb570-0136-4366-f9bd-6adefebf2e2d"
      },
      "source": [
        "fig, axes = plt.subplots(nrows=3,ncols=1,figsize=(12,9))\n",
        "axes[0].plot(np.array(loss_reg_list[500:]),linestyle='None',marker='+')\n",
        "axes[0].set_title('reg')\n",
        "\n",
        "axes[1].plot(np.array(loss_mean_list[500:]),linestyle='None',marker='.')\n",
        "axes[1].set_title('inter')\n",
        "\n",
        "axes[2].plot(np.array(loss_std_list[500:]),linestyle='None',marker='+')\n",
        "axes[2].set_title('intra')\n",
        "\n",
        "plt.show()"
      ],
      "execution_count": 57,
      "outputs": [
        {
          "output_type": "display_data",
          "data": {
            "text/plain": [
              "<Figure size 864x648 with 3 Axes>"
            ],
            "image/png": "[encoded data removed]"
          },
          "metadata": {
            "needs_background": "light"
          }
        }
      ]
    },
    {
      "cell_type": "code",
      "metadata": {
        "id": "hWMJcdpexSH_",
        "colab": {
          "base_uri": "https://localhost:8080/",
          "height": 265
        },
        "outputId": "43c0a2ba-1d6a-4d8b-e8bb-98872e9c3d61"
      },
      "source": [
        "plt.plot(dis_loss_list[50:],marker='.',linestyle='None', alpha=0.1)\n",
        "plt.plot(gen_loss_list[50:],marker='.',linestyle='None', alpha = 0.1)\n",
        "plt.legend(['dis','gen'])\n",
        "plt.show()"
      ],
      "execution_count": 58,
      "outputs": [
        {
          "output_type": "display_data",
          "data": {
            "text/plain": [
              "<Figure size 432x288 with 1 Axes>"
            ],
            "image/png": "[encoded data removed]"
          },
          "metadata": {
            "needs_background": "light"
          }
        }
      ]
    },
    {
      "cell_type": "code",
      "metadata": {
        "id": "xgDOKJxHxt-f",
        "colab": {
          "base_uri": "https://localhost:8080/",
          "height": 265
        },
        "outputId": "16a3608c-f46a-4242-a071-782234417c7c"
      },
      "source": [
        "from sklearn.preprocessing import StandardScaler\n",
        "scaler = StandardScaler()\n",
        "\n",
        "plt.plot(scaler.fit_transform(np.array(loss_reg_list).reshape(-1,1)))\n",
        "plt.plot(scaler.fit_transform(np.array(loss_mean_list).reshape(-1,1)))\n",
        "plt.plot(scaler.fit_transform(np.array(loss_std_list).reshape(-1,1)))\n",
        "plt.legend(['loss','inter','intra'])\n",
        "plt.show()"
      ],
      "execution_count": 59,
      "outputs": [
        {
          "output_type": "display_data",
          "data": {
            "text/plain": [
              "<Figure size 432x288 with 1 Axes>"
            ],
            "image/png": "[encoded data removed]"
          },
          "metadata": {
            "needs_background": "light"
          }
        }
      ]
    },
    {
      "cell_type": "markdown",
      "metadata": {
        "id": "1MJcE6vK2wVX"
      },
      "source": [
        "#Post-training Feature Extraction"
      ]
    },
    {
      "cell_type": "code",
      "metadata": {
        "id": "ZbeSwI7aClwm",
        "colab": {
          "base_uri": "https://localhost:8080/"
        },
        "outputId": "ef3fb88e-31d0-4404-9f67-6442e72667c3"
      },
      "source": [
        "discriminator.eval()"
      ],
      "execution_count": 60,
      "outputs": [
        {
          "output_type": "execute_result",
          "data": {
            "text/plain": [
              "DataParallel(\n",
              "  (module): Discriminator(\n",
              "    (layer1): Sequential(\n",
              "      (0): Conv2d(1, 8, kernel_size=(3, 3), stride=(1, 1), padding=(1, 1))\n",
              "      (1): BatchNorm2d(8, eps=1e-05, momentum=0.1, affine=True, track_running_stats=True)\n",
              "      (2): LeakyReLU(negative_slope=0.01)\n",
              "      (3): Conv2d(8, 16, kernel_size=(3, 3), stride=(2, 2), padding=(1, 1))\n",
              "      (4): BatchNorm2d(16, eps=1e-05, momentum=0.1, affine=True, track_running_stats=True)\n",
              "      (5): LeakyReLU(negative_slope=0.01)\n",
              "    )\n",
              "    (layer2): Sequential(\n",
              "      (0): Conv2d(16, 32, kernel_size=(3, 3), stride=(2, 2), padding=(1, 1))\n",
              "      (1): BatchNorm2d(32, eps=1e-05, momentum=0.1, affine=True, track_running_stats=True)\n",
              "      (2): LeakyReLU(negative_slope=0.01)\n",
              "      (3): Conv2d(32, 64, kernel_size=(3, 3), stride=(1, 1), padding=(1, 1))\n",
              "      (4): BatchNorm2d(64, eps=1e-05, momentum=0.1, affine=True, track_running_stats=True)\n",
              "      (5): LeakyReLU(negative_slope=0.01)\n",
              "    )\n",
              "    (fc): Sequential(\n",
              "      (0): Linear(in_features=3136, out_features=1, bias=True)\n",
              "      (1): Sigmoid()\n",
              "    )\n",
              "  )\n",
              ")"
            ]
          },
          "metadata": {},
          "execution_count": 60
        }
      ]
    },
    {
      "cell_type": "code",
      "metadata": {
        "id": "xhW7PIyEsd_n"
      },
      "source": [
        "test_loader = torch.utils.data.DataLoader(\n",
        "    dataset=mnist_test,\n",
        "    batch_size=100,\n",
        "    shuffle=False,\n",
        "    drop_last=False)"
      ],
      "execution_count": 61,
      "outputs": []
    },
    {
      "cell_type": "code",
      "metadata": {
        "id": "8Bq94M84sV_g",
        "colab": {
          "base_uri": "https://localhost:8080/"
        },
        "outputId": "fd74580d-be8e-44ea-ac1a-28c024e34813"
      },
      "source": [
        "dafter_test =[]\n",
        "labels_test = [] \n",
        "start = time.time()\n",
        "\n",
        "#for j,(image,label) in zip(range(40),test_loader):\n",
        "for j,(image,label) in enumerate(test_loader):\n",
        "\n",
        "  dafter_test.append(discriminator(image)[1])\n",
        "  labels_test.extend(label.tolist())\n",
        "\n",
        "dafter_test_array = torch.cat(dafter_test).cpu().detach().numpy()\n",
        "labels_test_array = np.array(labels_test)\n",
        "\n",
        "dafter_test_array.shape, labels_test_array.shape"
      ],
      "execution_count": 62,
      "outputs": [
        {
          "output_type": "stream",
          "name": "stdout",
          "text": [
            "CPU times: user 2.35 s, sys: 68.3 ms, total: 2.42 s\n",
            "Wall time: 2.41 s\n"
          ]
        },
        {
          "output_type": "execute_result",
          "data": {
            "text/plain": [
              "((10000, 3136), (10000,))"
            ]
          },
          "metadata": {},
          "execution_count": 62
        }
      ]
    },
    {
      "cell_type": "code",
      "metadata": {
        "id": "dc_r-AbdsPmo",
        "colab": {
          "base_uri": "https://localhost:8080/"
        },
        "outputId": "6232c620-c660-494b-86b8-15b0ad8af72b"
      },
      "source": [
        "dafter_train =[]\n",
        "labels_train = [] \n",
        "start = time.time()\n",
        "\n",
        "for j,(image,label) in enumerate(train_loader):\n",
        "\n",
        "    dafter_train.append(discriminator(image)[1])\n",
        "    labels_train.extend(label.tolist())\n",
        "\n",
        "dafter_train_array = torch.cat(dafter_train).cpu().detach().numpy()\n",
        "labels_train_array = np.array(labels_train)\n",
        "dafter_train_array.shape, labels_train_array.shape"
      ],
      "execution_count": 63,
      "outputs": [
        {
          "output_type": "stream",
          "name": "stdout",
          "text": [
            "CPU times: user 267 ms, sys: 5.73 ms, total: 273 ms\n",
            "Wall time: 251 ms\n"
          ]
        },
        {
          "output_type": "execute_result",
          "data": {
            "text/plain": [
              "((1000, 3136), (1000,))"
            ]
          },
          "metadata": {},
          "execution_count": 63
        }
      ]
    },
    {
      "cell_type": "code",
      "metadata": {
        "id": "bCN4UfNbEUcJ"
      },
      "source": [
        "dafter_prototypes =[]\n",
        "label_prototypes = [] \n",
        "\n",
        "for j,(image,label) in enumerate(prototype_loader):\n",
        "  dafter_prototypes.append(discriminator(image)[1])\n",
        "  label_prototypes.append(label)\n",
        "\n",
        "dafter_prototype_tensor = torch.cat(dafter_prototypes).detach().cpu()\n",
        "label_prototype_tensor = torch.cat(label_prototypes)\n"
      ],
      "execution_count": null,
      "outputs": []
    },
    {
      "cell_type": "markdown",
      "metadata": {
        "id": "RKuD9WL42nHi"
      },
      "source": [
        "# Visualization - UMAP"
      ]
    },
    {
      "cell_type": "code",
      "metadata": {
        "colab": {
          "base_uri": "https://localhost:8080/"
        },
        "id": "wNNxUc3y2nHw",
        "outputId": "92191a6f-cbe8-455e-9263-74acf62d9d3d"
      },
      "source": [
        "dafter_train_array.shape, \\\n",
        "dafter_test_array.shape, \\\n",
        "dafter_prototype_tensor.numpy().shape"
      ],
      "execution_count": 65,
      "outputs": [
        {
          "output_type": "execute_result",
          "data": {
            "text/plain": [
              "((1000, 3136), (10000, 3136), (90, 3136))"
            ]
          },
          "metadata": {},
          "execution_count": 65
        }
      ]
    },
    {
      "cell_type": "code",
      "metadata": {
        "colab": {
          "base_uri": "https://localhost:8080/"
        },
        "id": "WswJ5cIw2nHx",
        "outputId": "9a28a316-242b-4165-ee80-1685c34571d8"
      },
      "source": [
        "umap2 = UMAP()\n",
        "umap2"
      ],
      "execution_count": 66,
      "outputs": [
        {
          "output_type": "execute_result",
          "data": {
            "text/plain": [
              "UMAP()"
            ]
          },
          "metadata": {},
          "execution_count": 66
        }
      ]
    },
    {
      "cell_type": "code",
      "metadata": {
        "colab": {
          "base_uri": "https://localhost:8080/"
        },
        "id": "hHMDOWW_2nHx",
        "outputId": "00484770-bbfe-479f-aae3-47745632aa97"
      },
      "source": [
        "dafter_combined_array = np.concatenate([#dafter_train_array, \n",
        "                                       dafter_test_array,\n",
        "                                       dafter_prototype_tensor.numpy()])\n",
        "dafter_combined_array.shape"
      ],
      "execution_count": 67,
      "outputs": [
        {
          "output_type": "execute_result",
          "data": {
            "text/plain": [
              "(10090, 3136)"
            ]
          },
          "metadata": {},
          "execution_count": 67
        }
      ]
    },
    {
      "cell_type": "code",
      "metadata": {
        "colab": {
          "base_uri": "https://localhost:8080/"
        },
        "id": "cJVoYBMd2nHx",
        "outputId": "02818ccd-00c2-4820-c7b6-a9db5245a710"
      },
      "source": [
        "#Approx. 40 secs\n",
        "%%time\n",
        "umap2.fit(dafter_combined_array)"
      ],
      "execution_count": 68,
      "outputs": [
        {
          "output_type": "stream",
          "name": "stdout",
          "text": [
            "CPU times: user 34.1 s, sys: 2.12 s, total: 36.2 s\n",
            "Wall time: 7.79 s\n"
          ]
        },
        {
          "output_type": "execute_result",
          "data": {
            "text/plain": [
              "UMAP(tqdm_kwds={'bar_format': '{desc}: {percentage:3.0f}%| {bar} {n_fmt}/{total_fmt} [{elapsed}]', 'desc': 'Epochs completed', 'disable': True})"
            ]
          },
          "metadata": {},
          "execution_count": 68
        }
      ]
    },
    {
      "cell_type": "code",
      "metadata": {
        "colab": {
          "base_uri": "https://localhost:8080/"
        },
        "id": "PdyO5Ns02nHx",
        "outputId": "0cae049f-aae5-45f9-f463-2d1674717f8d"
      },
      "source": [
        "X_umap2_train = umap2.transform(dafter_train_array)"
      ],
      "execution_count": 69,
      "outputs": [
        {
          "output_type": "stream",
          "name": "stdout",
          "text": [
            "CPU times: user 8.06 s, sys: 287 ms, total: 8.34 s\n",
            "Wall time: 6.73 s\n"
          ]
        }
      ]
    },
    {
      "cell_type": "code",
      "metadata": {
        "colab": {
          "base_uri": "https://localhost:8080/"
        },
        "id": "LrPXqMXm2nHx",
        "outputId": "71dbbf25-3a60-47d8-e1b1-14caa2ba9577"
      },
      "source": [
        "%%time \n",
        "#Approx. 30secs\n",
        "X_umap2_test = umap2.transform(dafter_test_array)"
      ],
      "execution_count": 70,
      "outputs": [
        {
          "output_type": "stream",
          "name": "stdout",
          "text": [
            "CPU times: user 24 s, sys: 734 ms, total: 24.7 s\n",
            "Wall time: 17.3 s\n"
          ]
        }
      ]
    },
    {
      "cell_type": "code",
      "metadata": {
        "colab": {
          "base_uri": "https://localhost:8080/"
        },
        "id": "neW-C6JG2nHx",
        "outputId": "bd7d2565-0438-4f8a-b4f9-f7e9e9d10a42"
      },
      "source": [
        "X_umap2_prototypes = umap2.transform(dout_prototype_tensor.detach().cpu().numpy())"
      ],
      "execution_count": 71,
      "outputs": [
        {
          "output_type": "stream",
          "name": "stdout",
          "text": [
            "CPU times: user 2.71 s, sys: 18 ms, total: 2.73 s\n",
            "Wall time: 2.59 s\n"
          ]
        }
      ]
    },
    {
      "cell_type": "code",
      "metadata": {
        "colab": {
          "base_uri": "https://localhost:8080/",
          "height": 269
        },
        "id": "1fq1uAfY2nHy",
        "outputId": "c369da9d-3279-4402-a5a3-5d4de25b8d70"
      },
      "source": [
        "plt.scatter(X_umap2_test[:,0], X_umap2_test[:,1], \n",
        "            c=labels_test_array, cmap='tab10',alpha=0.02, marker='^')\n",
        "plt.scatter(X_umap2_prototypes[:,0], X_umap2_prototypes[:,1], \n",
        "            c=label_prototype_tensor, cmap='tab10', alpha=0.99, marker='x')\n",
        "plt.colorbar()\n",
        "plt.show()"
      ],
      "execution_count": 73,
      "outputs": [
        {
          "output_type": "display_data",
          "data": {
            "text/plain": [
              "<Figure size 432x288 with 2 Axes>"
            ],
            "image/png": "[encoded data removed]"
          },
          "metadata": {
            "needs_background": "light"
          }
        }
      ]
    },
    {
      "cell_type": "markdown",
      "metadata": {
        "id": "18V8SZdHd9E7"
      },
      "source": [
        "# Prototype KDE"
      ]
    },
    {
      "cell_type": "code",
      "metadata": {
        "id": "IT46Ew0BIHtf"
      },
      "source": [
        "bw = 10"
      ],
      "execution_count": 74,
      "outputs": []
    },
    {
      "cell_type": "code",
      "metadata": {
        "id": "pO32Zlkt6v2D"
      },
      "source": [
        "scaler = MinMaxScaler()"
      ],
      "execution_count": 75,
      "outputs": []
    },
    {
      "cell_type": "code",
      "metadata": {
        "id": "bTCtBaZ5IHtf"
      },
      "source": [
        "umap3 = UMAP(n_components=3)"
      ],
      "execution_count": 76,
      "outputs": []
    },
    {
      "cell_type": "code",
      "metadata": {
        "id": "eKc5_QFMIHtg",
        "colab": {
          "base_uri": "https://localhost:8080/"
        },
        "outputId": "a19a07aa-d012-4546-f99d-cfcb55f470e5"
      },
      "source": [
        "dafter_combined_test = np.concatenate([dafter_test_array, \n",
        "                                            dafter_prototype_tensor.detach().cpu().numpy()])\n",
        "dafter_combined_test.shape"
      ],
      "execution_count": 77,
      "outputs": [
        {
          "output_type": "execute_result",
          "data": {
            "text/plain": [
              "(10090, 3136)"
            ]
          },
          "metadata": {},
          "execution_count": 77
        }
      ]
    },
    {
      "cell_type": "code",
      "metadata": {
        "id": "8BibCsygNuEc",
        "colab": {
          "base_uri": "https://localhost:8080/"
        },
        "outputId": "e56182fc-bc92-4958-a74a-b1a84ec9f9e5"
      },
      "source": [
        "%%time\n",
        "#Approx. 40 sec\n",
        "X_umap3_combined_test = umap3.fit(dafter_combined_test)"
      ],
      "execution_count": 78,
      "outputs": [
        {
          "output_type": "stream",
          "name": "stdout",
          "text": [
            "CPU times: user 34.4 s, sys: 1.85 s, total: 36.2 s\n",
            "Wall time: 7.47 s\n"
          ]
        }
      ]
    },
    {
      "cell_type": "code",
      "metadata": {
        "id": "LXAOFrvMHQm5",
        "colab": {
          "base_uri": "https://localhost:8080/"
        },
        "outputId": "ec41f95c-d6f3-43aa-c528-7d30c08b9e68"
      },
      "source": [
        "%%time\n",
        "#Approx. 30 sec\n",
        "X_umap3_test_after = umap3.transform(dafter_test_array)\n",
        "X_umap3_prototypes_after = umap3.transform(dafter_prototype_tensor.detach().cpu().numpy())"
      ],
      "execution_count": 79,
      "outputs": [
        {
          "output_type": "stream",
          "name": "stdout",
          "text": [
            "CPU times: user 32.6 s, sys: 1.23 s, total: 33.8 s\n",
            "Wall time: 24.2 s\n"
          ]
        }
      ]
    },
    {
      "cell_type": "code",
      "metadata": {
        "id": "69-FyEldIHth"
      },
      "source": [
        "model_kde = KernelDensity(bandwidth=bw)"
      ],
      "execution_count": 80,
      "outputs": []
    },
    {
      "cell_type": "code",
      "metadata": {
        "id": "-urh5BdZIHti",
        "colab": {
          "base_uri": "https://localhost:8080/"
        },
        "outputId": "7ff49c6c-415d-41df-ad1d-b3c037c87664"
      },
      "source": [
        "model_kde_prototypes = [ KernelDensity(bandwidth=bw).fit(X_umap3_prototypes_after[np.where(np.array(label_prototype_tensor)==i)]) \n",
        "for i in np.unique(label_prototype_tensor) ] \n",
        "len(model_kde_prototypes)"
      ],
      "execution_count": 81,
      "outputs": [
        {
          "output_type": "execute_result",
          "data": {
            "text/plain": [
              "9"
            ]
          },
          "metadata": {},
          "execution_count": 81
        }
      ]
    },
    {
      "cell_type": "code",
      "metadata": {
        "id": "I4jESUXdOfey"
      },
      "source": [
        "score_kde_prototypes = [ model.score_samples(X_umap3_test_after) for model in model_kde_prototypes]"
      ],
      "execution_count": 82,
      "outputs": []
    },
    {
      "cell_type": "code",
      "metadata": {
        "id": "iMtDAW80MQCx"
      },
      "source": [
        "scaled_score_prototypes = [ (score - np.max(score))/(np.max(score)-np.quantile(score, 0.9)) \n",
        "for score in score_kde_prototypes]"
      ],
      "execution_count": 83,
      "outputs": []
    },
    {
      "cell_type": "code",
      "metadata": {
        "id": "qmeDnPRArALK",
        "colab": {
          "base_uri": "https://localhost:8080/"
        },
        "outputId": "701acb31-adf0-4843-84c8-dba40ec3b223"
      },
      "source": [
        "score_agg = np.max(scaled_score_prototypes, axis=0) #+kde_scores_prototypes[-1]\n",
        "score_agg.shape"
      ],
      "execution_count": 85,
      "outputs": [
        {
          "output_type": "execute_result",
          "data": {
            "text/plain": [
              "(10000,)"
            ]
          },
          "metadata": {},
          "execution_count": 85
        }
      ]
    },
    {
      "cell_type": "markdown",
      "metadata": {
        "id": "28pb_6bZsOAh"
      },
      "source": [
        "## Boxplot & AUC evaluations"
      ]
    },
    {
      "cell_type": "code",
      "metadata": {
        "id": "9rRGOkByIHtj",
        "colab": {
          "base_uri": "https://localhost:8080/",
          "height": 321
        },
        "outputId": "a2a47d26-33c0-4aa4-c88c-3ea1545531cf"
      },
      "source": [
        "data = [np.exp(score_agg)[np.where(np.array(labels_test_array)==i)] for i in np.unique(labels_test_array)]\n",
        "\n",
        "fig, axes = plt.subplots()\n",
        "\n",
        "axes.boxplot(data, labels=np.unique(labels_test_array))\n",
        "\n",
        "plt.show()"
      ],
      "execution_count": 86,
      "outputs": [
        {
          "output_type": "stream",
          "name": "stderr",
          "text": [
            "/usr/local/lib/python3.7/dist-packages/matplotlib/cbook/__init__.py:1376: VisibleDeprecationWarning: Creating an ndarray from ragged nested sequences (which is a list-or-tuple of lists-or-tuples-or ndarrays with different lengths or shapes) is deprecated. If you meant to do this, you must specify 'dtype=object' when creating the ndarray.\n",
            "  X = np.atleast_1d(X.T if isinstance(X, np.ndarray) else np.asarray(X))\n"
          ]
        },
        {
          "output_type": "display_data",
          "data": {
            "text/plain": [
              "<Figure size 432x288 with 1 Axes>"
            ],
            "image/png": "[encoded data removed]"
          },
          "metadata": {
            "needs_background": "light"
          }
        }
      ]
    },
    {
      "cell_type": "code",
      "metadata": {
        "id": "3FgFf-IjV58j",
        "colab": {
          "base_uri": "https://localhost:8080/"
        },
        "outputId": "a9807fe2-f85b-4cdc-970e-04a96dd580d5"
      },
      "source": [
        "y_roc = labels_test_array == ood_classes[0]\n",
        "roc_auc_score(y_roc, -score_agg)"
      ],
      "execution_count": 87,
      "outputs": [
        {
          "output_type": "execute_result",
          "data": {
            "text/plain": [
              "0.9955880547915253"
            ]
          },
          "metadata": {},
          "execution_count": 87
        }
      ]
    },
    {
      "cell_type": "code",
      "metadata": {
        "id": "Z0VBQDX3SSV1",
        "colab": {
          "base_uri": "https://localhost:8080/",
          "height": 301
        },
        "outputId": "a58130f8-8a38-4df3-8735-3c160bbe33a2"
      },
      "source": [
        "y_roc = [i in ood_classes for i in labels_test_array]\n",
        "print('roc:', roc_auc_score(y_roc, -score_agg)) \n",
        "\n",
        "pr, re, th = precision_recall_curve(y_roc,-score_agg)\n",
        "plt.plot(re, pr)\n",
        "plt.show()\n",
        "print('prc: ', average_precision_score(y_roc, -score_agg))"
      ],
      "execution_count": 88,
      "outputs": [
        {
          "output_type": "stream",
          "name": "stdout",
          "text": [
            "roc: 0.9955880547915253\n"
          ]
        },
        {
          "output_type": "display_data",
          "data": {
            "text/plain": [
              "<Figure size 432x288 with 1 Axes>"
            ],
            "image/png": "[encoded data removed]"
          },
          "metadata": {
            "needs_background": "light"
          }
        },
        {
          "output_type": "stream",
          "name": "stdout",
          "text": [
            "prc:  0.9696213957191433\n"
          ]
        }
      ]
    }
  ]
}