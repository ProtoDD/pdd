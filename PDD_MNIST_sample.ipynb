{
  "nbformat": 4,
  "nbformat_minor": 0,
  "metadata": {
    "accelerator": "GPU",
    "colab": {
      "name": "PDD_MNIST_sample.ipynb",
      "provenance": [],
      "collapsed_sections": [
        "OnOUVKJfXr_D",
        "N4ZGvOG5ivL1",
        "JkF4dWHuz1xp",
        "7tVxNFQxBGS7",
        "qwTFKXoOxDqE"
      ],
      "machine_shape": "hm",
      "toc_visible": true,
      "include_colab_link": true
    },
    "kernelspec": {
      "display_name": "Python 3",
      "name": "python3"
    },
    "widgets": {
      "application/vnd.jupyter.widget-state+json": {
        "6f3c90aaf24a404fb715675c150691e0": {
          "model_module": "@jupyter-widgets/controls",
          "model_name": "HBoxModel",
          "model_module_version": "1.5.0",
          "state": {
            "_dom_classes": [],
            "_model_module": "@jupyter-widgets/controls",
            "_model_module_version": "1.5.0",
            "_model_name": "HBoxModel",
            "_view_count": null,
            "_view_module": "@jupyter-widgets/controls",
            "_view_module_version": "1.5.0",
            "_view_name": "HBoxView",
            "box_style": "",
            "children": [
              "IPY_MODEL_7692d151fa734be981e44a541babde8a",
              "IPY_MODEL_f055125d8912461eb49dc70450981b7b",
              "IPY_MODEL_bd8fae32ffc748bebf2c8e8d303c9dce"
            ],
            "layout": "IPY_MODEL_273c9057818343a8a5332676bae9018e"
          }
        },
        "7692d151fa734be981e44a541babde8a": {
          "model_module": "@jupyter-widgets/controls",
          "model_name": "HTMLModel",
          "model_module_version": "1.5.0",
          "state": {
            "_dom_classes": [],
            "_model_module": "@jupyter-widgets/controls",
            "_model_module_version": "1.5.0",
            "_model_name": "HTMLModel",
            "_view_count": null,
            "_view_module": "@jupyter-widgets/controls",
            "_view_module_version": "1.5.0",
            "_view_name": "HTMLView",
            "description": "",
            "description_tooltip": null,
            "layout": "IPY_MODEL_9b33cb4498c0423196475c42caca2b61",
            "placeholder": "​",
            "style": "IPY_MODEL_66387ea582f947c286baec85530bf88b",
            "value": "100%"
          }
        },
        "f055125d8912461eb49dc70450981b7b": {
          "model_module": "@jupyter-widgets/controls",
          "model_name": "FloatProgressModel",
          "model_module_version": "1.5.0",
          "state": {
            "_dom_classes": [],
            "_model_module": "@jupyter-widgets/controls",
            "_model_module_version": "1.5.0",
            "_model_name": "FloatProgressModel",
            "_view_count": null,
            "_view_module": "@jupyter-widgets/controls",
            "_view_module_version": "1.5.0",
            "_view_name": "ProgressView",
            "bar_style": "success",
            "description": "",
            "description_tooltip": null,
            "layout": "IPY_MODEL_519d6da1383248d486bbff88525b363d",
            "max": 9912422,
            "min": 0,
            "orientation": "horizontal",
            "style": "IPY_MODEL_3fde8437c4a24f93921142643e92dc23",
            "value": 9912422
          }
        },
        "bd8fae32ffc748bebf2c8e8d303c9dce": {
          "model_module": "@jupyter-widgets/controls",
          "model_name": "HTMLModel",
          "model_module_version": "1.5.0",
          "state": {
            "_dom_classes": [],
            "_model_module": "@jupyter-widgets/controls",
            "_model_module_version": "1.5.0",
            "_model_name": "HTMLModel",
            "_view_count": null,
            "_view_module": "@jupyter-widgets/controls",
            "_view_module_version": "1.5.0",
            "_view_name": "HTMLView",
            "description": "",
            "description_tooltip": null,
            "layout": "IPY_MODEL_b0155ab077f54675a986ca9237e4c999",
            "placeholder": "​",
            "style": "IPY_MODEL_3b830a5bfe8d4f20bf1de233e4323e3d",
            "value": " 9912422/9912422 [00:00&lt;00:00, 109064205.11it/s]"
          }
        },
        "273c9057818343a8a5332676bae9018e": {
          "model_module": "@jupyter-widgets/base",
          "model_name": "LayoutModel",
          "model_module_version": "1.2.0",
          "state": {
            "_model_module": "@jupyter-widgets/base",
            "_model_module_version": "1.2.0",
            "_model_name": "LayoutModel",
            "_view_count": null,
            "_view_module": "@jupyter-widgets/base",
            "_view_module_version": "1.2.0",
            "_view_name": "LayoutView",
            "align_content": null,
            "align_items": null,
            "align_self": null,
            "border": null,
            "bottom": null,
            "display": null,
            "flex": null,
            "flex_flow": null,
            "grid_area": null,
            "grid_auto_columns": null,
            "grid_auto_flow": null,
            "grid_auto_rows": null,
            "grid_column": null,
            "grid_gap": null,
            "grid_row": null,
            "grid_template_areas": null,
            "grid_template_columns": null,
            "grid_template_rows": null,
            "height": null,
            "justify_content": null,
            "justify_items": null,
            "left": null,
            "margin": null,
            "max_height": null,
            "max_width": null,
            "min_height": null,
            "min_width": null,
            "object_fit": null,
            "object_position": null,
            "order": null,
            "overflow": null,
            "overflow_x": null,
            "overflow_y": null,
            "padding": null,
            "right": null,
            "top": null,
            "visibility": null,
            "width": null
          }
        },
        "9b33cb4498c0423196475c42caca2b61": {
          "model_module": "@jupyter-widgets/base",
          "model_name": "LayoutModel",
          "model_module_version": "1.2.0",
          "state": {
            "_model_module": "@jupyter-widgets/base",
            "_model_module_version": "1.2.0",
            "_model_name": "LayoutModel",
            "_view_count": null,
            "_view_module": "@jupyter-widgets/base",
            "_view_module_version": "1.2.0",
            "_view_name": "LayoutView",
            "align_content": null,
            "align_items": null,
            "align_self": null,
            "border": null,
            "bottom": null,
            "display": null,
            "flex": null,
            "flex_flow": null,
            "grid_area": null,
            "grid_auto_columns": null,
            "grid_auto_flow": null,
            "grid_auto_rows": null,
            "grid_column": null,
            "grid_gap": null,
            "grid_row": null,
            "grid_template_areas": null,
            "grid_template_columns": null,
            "grid_template_rows": null,
            "height": null,
            "justify_content": null,
            "justify_items": null,
            "left": null,
            "margin": null,
            "max_height": null,
            "max_width": null,
            "min_height": null,
            "min_width": null,
            "object_fit": null,
            "object_position": null,
            "order": null,
            "overflow": null,
            "overflow_x": null,
            "overflow_y": null,
            "padding": null,
            "right": null,
            "top": null,
            "visibility": null,
            "width": null
          }
        },
        "66387ea582f947c286baec85530bf88b": {
          "model_module": "@jupyter-widgets/controls",
          "model_name": "DescriptionStyleModel",
          "model_module_version": "1.5.0",
          "state": {
            "_model_module": "@jupyter-widgets/controls",
            "_model_module_version": "1.5.0",
            "_model_name": "DescriptionStyleModel",
            "_view_count": null,
            "_view_module": "@jupyter-widgets/base",
            "_view_module_version": "1.2.0",
            "_view_name": "StyleView",
            "description_width": ""
          }
        },
        "519d6da1383248d486bbff88525b363d": {
          "model_module": "@jupyter-widgets/base",
          "model_name": "LayoutModel",
          "model_module_version": "1.2.0",
          "state": {
            "_model_module": "@jupyter-widgets/base",
            "_model_module_version": "1.2.0",
            "_model_name": "LayoutModel",
            "_view_count": null,
            "_view_module": "@jupyter-widgets/base",
            "_view_module_version": "1.2.0",
            "_view_name": "LayoutView",
            "align_content": null,
            "align_items": null,
            "align_self": null,
            "border": null,
            "bottom": null,
            "display": null,
            "flex": null,
            "flex_flow": null,
            "grid_area": null,
            "grid_auto_columns": null,
            "grid_auto_flow": null,
            "grid_auto_rows": null,
            "grid_column": null,
            "grid_gap": null,
            "grid_row": null,
            "grid_template_areas": null,
            "grid_template_columns": null,
            "grid_template_rows": null,
            "height": null,
            "justify_content": null,
            "justify_items": null,
            "left": null,
            "margin": null,
            "max_height": null,
            "max_width": null,
            "min_height": null,
            "min_width": null,
            "object_fit": null,
            "object_position": null,
            "order": null,
            "overflow": null,
            "overflow_x": null,
            "overflow_y": null,
            "padding": null,
            "right": null,
            "top": null,
            "visibility": null,
            "width": null
          }
        },
        "3fde8437c4a24f93921142643e92dc23": {
          "model_module": "@jupyter-widgets/controls",
          "model_name": "ProgressStyleModel",
          "model_module_version": "1.5.0",
          "state": {
            "_model_module": "@jupyter-widgets/controls",
            "_model_module_version": "1.5.0",
            "_model_name": "ProgressStyleModel",
            "_view_count": null,
            "_view_module": "@jupyter-widgets/base",
            "_view_module_version": "1.2.0",
            "_view_name": "StyleView",
            "bar_color": null,
            "description_width": ""
          }
        },
        "b0155ab077f54675a986ca9237e4c999": {
          "model_module": "@jupyter-widgets/base",
          "model_name": "LayoutModel",
          "model_module_version": "1.2.0",
          "state": {
            "_model_module": "@jupyter-widgets/base",
            "_model_module_version": "1.2.0",
            "_model_name": "LayoutModel",
            "_view_count": null,
            "_view_module": "@jupyter-widgets/base",
            "_view_module_version": "1.2.0",
            "_view_name": "LayoutView",
            "align_content": null,
            "align_items": null,
            "align_self": null,
            "border": null,
            "bottom": null,
            "display": null,
            "flex": null,
            "flex_flow": null,
            "grid_area": null,
            "grid_auto_columns": null,
            "grid_auto_flow": null,
            "grid_auto_rows": null,
            "grid_column": null,
            "grid_gap": null,
            "grid_row": null,
            "grid_template_areas": null,
            "grid_template_columns": null,
            "grid_template_rows": null,
            "height": null,
            "justify_content": null,
            "justify_items": null,
            "left": null,
            "margin": null,
            "max_height": null,
            "max_width": null,
            "min_height": null,
            "min_width": null,
            "object_fit": null,
            "object_position": null,
            "order": null,
            "overflow": null,
            "overflow_x": null,
            "overflow_y": null,
            "padding": null,
            "right": null,
            "top": null,
            "visibility": null,
            "width": null
          }
        },
        "3b830a5bfe8d4f20bf1de233e4323e3d": {
          "model_module": "@jupyter-widgets/controls",
          "model_name": "DescriptionStyleModel",
          "model_module_version": "1.5.0",
          "state": {
            "_model_module": "@jupyter-widgets/controls",
            "_model_module_version": "1.5.0",
            "_model_name": "DescriptionStyleModel",
            "_view_count": null,
            "_view_module": "@jupyter-widgets/base",
            "_view_module_version": "1.2.0",
            "_view_name": "StyleView",
            "description_width": ""
          }
        },
        "13d2770228a0438fb7b4c9bed643545f": {
          "model_module": "@jupyter-widgets/controls",
          "model_name": "HBoxModel",
          "model_module_version": "1.5.0",
          "state": {
            "_dom_classes": [],
            "_model_module": "@jupyter-widgets/controls",
            "_model_module_version": "1.5.0",
            "_model_name": "HBoxModel",
            "_view_count": null,
            "_view_module": "@jupyter-widgets/controls",
            "_view_module_version": "1.5.0",
            "_view_name": "HBoxView",
            "box_style": "",
            "children": [
              "IPY_MODEL_a99cf29e01374eaaa76b67b4e0ec2ae8",
              "IPY_MODEL_b0bc44eb929c48748cbdfebb0d1ccc16",
              "IPY_MODEL_ce2e1e848d5041608a0fd160ac71316e"
            ],
            "layout": "IPY_MODEL_d0f7b63d1c61458aba5b1cf84f438601"
          }
        },
        "a99cf29e01374eaaa76b67b4e0ec2ae8": {
          "model_module": "@jupyter-widgets/controls",
          "model_name": "HTMLModel",
          "model_module_version": "1.5.0",
          "state": {
            "_dom_classes": [],
            "_model_module": "@jupyter-widgets/controls",
            "_model_module_version": "1.5.0",
            "_model_name": "HTMLModel",
            "_view_count": null,
            "_view_module": "@jupyter-widgets/controls",
            "_view_module_version": "1.5.0",
            "_view_name": "HTMLView",
            "description": "",
            "description_tooltip": null,
            "layout": "IPY_MODEL_afd664112cde4e0087d199bfca135608",
            "placeholder": "​",
            "style": "IPY_MODEL_09d7c1f961bd445c9f23373c89865063",
            "value": "100%"
          }
        },
        "b0bc44eb929c48748cbdfebb0d1ccc16": {
          "model_module": "@jupyter-widgets/controls",
          "model_name": "FloatProgressModel",
          "model_module_version": "1.5.0",
          "state": {
            "_dom_classes": [],
            "_model_module": "@jupyter-widgets/controls",
            "_model_module_version": "1.5.0",
            "_model_name": "FloatProgressModel",
            "_view_count": null,
            "_view_module": "@jupyter-widgets/controls",
            "_view_module_version": "1.5.0",
            "_view_name": "ProgressView",
            "bar_style": "success",
            "description": "",
            "description_tooltip": null,
            "layout": "IPY_MODEL_cc94c49d91a04d939b51c9a0ae5abae3",
            "max": 28881,
            "min": 0,
            "orientation": "horizontal",
            "style": "IPY_MODEL_b7e2409cab09449c94da349308277fcb",
            "value": 28881
          }
        },
        "ce2e1e848d5041608a0fd160ac71316e": {
          "model_module": "@jupyter-widgets/controls",
          "model_name": "HTMLModel",
          "model_module_version": "1.5.0",
          "state": {
            "_dom_classes": [],
            "_model_module": "@jupyter-widgets/controls",
            "_model_module_version": "1.5.0",
            "_model_name": "HTMLModel",
            "_view_count": null,
            "_view_module": "@jupyter-widgets/controls",
            "_view_module_version": "1.5.0",
            "_view_name": "HTMLView",
            "description": "",
            "description_tooltip": null,
            "layout": "IPY_MODEL_7ce440a08fbc45debcb8ae50142eb516",
            "placeholder": "​",
            "style": "IPY_MODEL_f18cd487bda74608a522cb7a4ab1ab75",
            "value": " 28881/28881 [00:00&lt;00:00, 1040997.67it/s]"
          }
        },
        "d0f7b63d1c61458aba5b1cf84f438601": {
          "model_module": "@jupyter-widgets/base",
          "model_name": "LayoutModel",
          "model_module_version": "1.2.0",
          "state": {
            "_model_module": "@jupyter-widgets/base",
            "_model_module_version": "1.2.0",
            "_model_name": "LayoutModel",
            "_view_count": null,
            "_view_module": "@jupyter-widgets/base",
            "_view_module_version": "1.2.0",
            "_view_name": "LayoutView",
            "align_content": null,
            "align_items": null,
            "align_self": null,
            "border": null,
            "bottom": null,
            "display": null,
            "flex": null,
            "flex_flow": null,
            "grid_area": null,
            "grid_auto_columns": null,
            "grid_auto_flow": null,
            "grid_auto_rows": null,
            "grid_column": null,
            "grid_gap": null,
            "grid_row": null,
            "grid_template_areas": null,
            "grid_template_columns": null,
            "grid_template_rows": null,
            "height": null,
            "justify_content": null,
            "justify_items": null,
            "left": null,
            "margin": null,
            "max_height": null,
            "max_width": null,
            "min_height": null,
            "min_width": null,
            "object_fit": null,
            "object_position": null,
            "order": null,
            "overflow": null,
            "overflow_x": null,
            "overflow_y": null,
            "padding": null,
            "right": null,
            "top": null,
            "visibility": null,
            "width": null
          }
        },
        "afd664112cde4e0087d199bfca135608": {
          "model_module": "@jupyter-widgets/base",
          "model_name": "LayoutModel",
          "model_module_version": "1.2.0",
          "state": {
            "_model_module": "@jupyter-widgets/base",
            "_model_module_version": "1.2.0",
            "_model_name": "LayoutModel",
            "_view_count": null,
            "_view_module": "@jupyter-widgets/base",
            "_view_module_version": "1.2.0",
            "_view_name": "LayoutView",
            "align_content": null,
            "align_items": null,
            "align_self": null,
            "border": null,
            "bottom": null,
            "display": null,
            "flex": null,
            "flex_flow": null,
            "grid_area": null,
            "grid_auto_columns": null,
            "grid_auto_flow": null,
            "grid_auto_rows": null,
            "grid_column": null,
            "grid_gap": null,
            "grid_row": null,
            "grid_template_areas": null,
            "grid_template_columns": null,
            "grid_template_rows": null,
            "height": null,
            "justify_content": null,
            "justify_items": null,
            "left": null,
            "margin": null,
            "max_height": null,
            "max_width": null,
            "min_height": null,
            "min_width": null,
            "object_fit": null,
            "object_position": null,
            "order": null,
            "overflow": null,
            "overflow_x": null,
            "overflow_y": null,
            "padding": null,
            "right": null,
            "top": null,
            "visibility": null,
            "width": null
          }
        },
        "09d7c1f961bd445c9f23373c89865063": {
          "model_module": "@jupyter-widgets/controls",
          "model_name": "DescriptionStyleModel",
          "model_module_version": "1.5.0",
          "state": {
            "_model_module": "@jupyter-widgets/controls",
            "_model_module_version": "1.5.0",
            "_model_name": "DescriptionStyleModel",
            "_view_count": null,
            "_view_module": "@jupyter-widgets/base",
            "_view_module_version": "1.2.0",
            "_view_name": "StyleView",
            "description_width": ""
          }
        },
        "cc94c49d91a04d939b51c9a0ae5abae3": {
          "model_module": "@jupyter-widgets/base",
          "model_name": "LayoutModel",
          "model_module_version": "1.2.0",
          "state": {
            "_model_module": "@jupyter-widgets/base",
            "_model_module_version": "1.2.0",
            "_model_name": "LayoutModel",
            "_view_count": null,
            "_view_module": "@jupyter-widgets/base",
            "_view_module_version": "1.2.0",
            "_view_name": "LayoutView",
            "align_content": null,
            "align_items": null,
            "align_self": null,
            "border": null,
            "bottom": null,
            "display": null,
            "flex": null,
            "flex_flow": null,
            "grid_area": null,
            "grid_auto_columns": null,
            "grid_auto_flow": null,
            "grid_auto_rows": null,
            "grid_column": null,
            "grid_gap": null,
            "grid_row": null,
            "grid_template_areas": null,
            "grid_template_columns": null,
            "grid_template_rows": null,
            "height": null,
            "justify_content": null,
            "justify_items": null,
            "left": null,
            "margin": null,
            "max_height": null,
            "max_width": null,
            "min_height": null,
            "min_width": null,
            "object_fit": null,
            "object_position": null,
            "order": null,
            "overflow": null,
            "overflow_x": null,
            "overflow_y": null,
            "padding": null,
            "right": null,
            "top": null,
            "visibility": null,
            "width": null
          }
        },
        "b7e2409cab09449c94da349308277fcb": {
          "model_module": "@jupyter-widgets/controls",
          "model_name": "ProgressStyleModel",
          "model_module_version": "1.5.0",
          "state": {
            "_model_module": "@jupyter-widgets/controls",
            "_model_module_version": "1.5.0",
            "_model_name": "ProgressStyleModel",
            "_view_count": null,
            "_view_module": "@jupyter-widgets/base",
            "_view_module_version": "1.2.0",
            "_view_name": "StyleView",
            "bar_color": null,
            "description_width": ""
          }
        },
        "7ce440a08fbc45debcb8ae50142eb516": {
          "model_module": "@jupyter-widgets/base",
          "model_name": "LayoutModel",
          "model_module_version": "1.2.0",
          "state": {
            "_model_module": "@jupyter-widgets/base",
            "_model_module_version": "1.2.0",
            "_model_name": "LayoutModel",
            "_view_count": null,
            "_view_module": "@jupyter-widgets/base",
            "_view_module_version": "1.2.0",
            "_view_name": "LayoutView",
            "align_content": null,
            "align_items": null,
            "align_self": null,
            "border": null,
            "bottom": null,
            "display": null,
            "flex": null,
            "flex_flow": null,
            "grid_area": null,
            "grid_auto_columns": null,
            "grid_auto_flow": null,
            "grid_auto_rows": null,
            "grid_column": null,
            "grid_gap": null,
            "grid_row": null,
            "grid_template_areas": null,
            "grid_template_columns": null,
            "grid_template_rows": null,
            "height": null,
            "justify_content": null,
            "justify_items": null,
            "left": null,
            "margin": null,
            "max_height": null,
            "max_width": null,
            "min_height": null,
            "min_width": null,
            "object_fit": null,
            "object_position": null,
            "order": null,
            "overflow": null,
            "overflow_x": null,
            "overflow_y": null,
            "padding": null,
            "right": null,
            "top": null,
            "visibility": null,
            "width": null
          }
        },
        "f18cd487bda74608a522cb7a4ab1ab75": {
          "model_module": "@jupyter-widgets/controls",
          "model_name": "DescriptionStyleModel",
          "model_module_version": "1.5.0",
          "state": {
            "_model_module": "@jupyter-widgets/controls",
            "_model_module_version": "1.5.0",
            "_model_name": "DescriptionStyleModel",
            "_view_count": null,
            "_view_module": "@jupyter-widgets/base",
            "_view_module_version": "1.2.0",
            "_view_name": "StyleView",
            "description_width": ""
          }
        },
        "7cf00ae7b2f74395b1ce0e6336173ec2": {
          "model_module": "@jupyter-widgets/controls",
          "model_name": "HBoxModel",
          "model_module_version": "1.5.0",
          "state": {
            "_dom_classes": [],
            "_model_module": "@jupyter-widgets/controls",
            "_model_module_version": "1.5.0",
            "_model_name": "HBoxModel",
            "_view_count": null,
            "_view_module": "@jupyter-widgets/controls",
            "_view_module_version": "1.5.0",
            "_view_name": "HBoxView",
            "box_style": "",
            "children": [
              "IPY_MODEL_220c2ddd6f024becb6d2176282229cb3",
              "IPY_MODEL_a13da1ae80b64fa68be92fc88040ef77",
              "IPY_MODEL_18f44e1b9ae4428a98543eef28a276ab"
            ],
            "layout": "IPY_MODEL_5d9ce03f4e46483eb63014d028e812cc"
          }
        },
        "220c2ddd6f024becb6d2176282229cb3": {
          "model_module": "@jupyter-widgets/controls",
          "model_name": "HTMLModel",
          "model_module_version": "1.5.0",
          "state": {
            "_dom_classes": [],
            "_model_module": "@jupyter-widgets/controls",
            "_model_module_version": "1.5.0",
            "_model_name": "HTMLModel",
            "_view_count": null,
            "_view_module": "@jupyter-widgets/controls",
            "_view_module_version": "1.5.0",
            "_view_name": "HTMLView",
            "description": "",
            "description_tooltip": null,
            "layout": "IPY_MODEL_90b3c67713824b5ab87ab5f5ae4ce426",
            "placeholder": "​",
            "style": "IPY_MODEL_9def88fb0561499db34be3bf8c30aa0b",
            "value": "100%"
          }
        },
        "a13da1ae80b64fa68be92fc88040ef77": {
          "model_module": "@jupyter-widgets/controls",
          "model_name": "FloatProgressModel",
          "model_module_version": "1.5.0",
          "state": {
            "_dom_classes": [],
            "_model_module": "@jupyter-widgets/controls",
            "_model_module_version": "1.5.0",
            "_model_name": "FloatProgressModel",
            "_view_count": null,
            "_view_module": "@jupyter-widgets/controls",
            "_view_module_version": "1.5.0",
            "_view_name": "ProgressView",
            "bar_style": "success",
            "description": "",
            "description_tooltip": null,
            "layout": "IPY_MODEL_ca3153fa6bd14f9fb705221a369de23f",
            "max": 1648877,
            "min": 0,
            "orientation": "horizontal",
            "style": "IPY_MODEL_1e3091c868dc4854ad2746ac7ad6d25c",
            "value": 1648877
          }
        },
        "18f44e1b9ae4428a98543eef28a276ab": {
          "model_module": "@jupyter-widgets/controls",
          "model_name": "HTMLModel",
          "model_module_version": "1.5.0",
          "state": {
            "_dom_classes": [],
            "_model_module": "@jupyter-widgets/controls",
            "_model_module_version": "1.5.0",
            "_model_name": "HTMLModel",
            "_view_count": null,
            "_view_module": "@jupyter-widgets/controls",
            "_view_module_version": "1.5.0",
            "_view_name": "HTMLView",
            "description": "",
            "description_tooltip": null,
            "layout": "IPY_MODEL_813ae081f9064d8eafca74fc47be8c0d",
            "placeholder": "​",
            "style": "IPY_MODEL_6baa242e08db482c807907002520fda0",
            "value": " 1648877/1648877 [00:00&lt;00:00, 37832896.96it/s]"
          }
        },
        "5d9ce03f4e46483eb63014d028e812cc": {
          "model_module": "@jupyter-widgets/base",
          "model_name": "LayoutModel",
          "model_module_version": "1.2.0",
          "state": {
            "_model_module": "@jupyter-widgets/base",
            "_model_module_version": "1.2.0",
            "_model_name": "LayoutModel",
            "_view_count": null,
            "_view_module": "@jupyter-widgets/base",
            "_view_module_version": "1.2.0",
            "_view_name": "LayoutView",
            "align_content": null,
            "align_items": null,
            "align_self": null,
            "border": null,
            "bottom": null,
            "display": null,
            "flex": null,
            "flex_flow": null,
            "grid_area": null,
            "grid_auto_columns": null,
            "grid_auto_flow": null,
            "grid_auto_rows": null,
            "grid_column": null,
            "grid_gap": null,
            "grid_row": null,
            "grid_template_areas": null,
            "grid_template_columns": null,
            "grid_template_rows": null,
            "height": null,
            "justify_content": null,
            "justify_items": null,
            "left": null,
            "margin": null,
            "max_height": null,
            "max_width": null,
            "min_height": null,
            "min_width": null,
            "object_fit": null,
            "object_position": null,
            "order": null,
            "overflow": null,
            "overflow_x": null,
            "overflow_y": null,
            "padding": null,
            "right": null,
            "top": null,
            "visibility": null,
            "width": null
          }
        },
        "90b3c67713824b5ab87ab5f5ae4ce426": {
          "model_module": "@jupyter-widgets/base",
          "model_name": "LayoutModel",
          "model_module_version": "1.2.0",
          "state": {
            "_model_module": "@jupyter-widgets/base",
            "_model_module_version": "1.2.0",
            "_model_name": "LayoutModel",
            "_view_count": null,
            "_view_module": "@jupyter-widgets/base",
            "_view_module_version": "1.2.0",
            "_view_name": "LayoutView",
            "align_content": null,
            "align_items": null,
            "align_self": null,
            "border": null,
            "bottom": null,
            "display": null,
            "flex": null,
            "flex_flow": null,
            "grid_area": null,
            "grid_auto_columns": null,
            "grid_auto_flow": null,
            "grid_auto_rows": null,
            "grid_column": null,
            "grid_gap": null,
            "grid_row": null,
            "grid_template_areas": null,
            "grid_template_columns": null,
            "grid_template_rows": null,
            "height": null,
            "justify_content": null,
            "justify_items": null,
            "left": null,
            "margin": null,
            "max_height": null,
            "max_width": null,
            "min_height": null,
            "min_width": null,
            "object_fit": null,
            "object_position": null,
            "order": null,
            "overflow": null,
            "overflow_x": null,
            "overflow_y": null,
            "padding": null,
            "right": null,
            "top": null,
            "visibility": null,
            "width": null
          }
        },
        "9def88fb0561499db34be3bf8c30aa0b": {
          "model_module": "@jupyter-widgets/controls",
          "model_name": "DescriptionStyleModel",
          "model_module_version": "1.5.0",
          "state": {
            "_model_module": "@jupyter-widgets/controls",
            "_model_module_version": "1.5.0",
            "_model_name": "DescriptionStyleModel",
            "_view_count": null,
            "_view_module": "@jupyter-widgets/base",
            "_view_module_version": "1.2.0",
            "_view_name": "StyleView",
            "description_width": ""
          }
        },
        "ca3153fa6bd14f9fb705221a369de23f": {
          "model_module": "@jupyter-widgets/base",
          "model_name": "LayoutModel",
          "model_module_version": "1.2.0",
          "state": {
            "_model_module": "@jupyter-widgets/base",
            "_model_module_version": "1.2.0",
            "_model_name": "LayoutModel",
            "_view_count": null,
            "_view_module": "@jupyter-widgets/base",
            "_view_module_version": "1.2.0",
            "_view_name": "LayoutView",
            "align_content": null,
            "align_items": null,
            "align_self": null,
            "border": null,
            "bottom": null,
            "display": null,
            "flex": null,
            "flex_flow": null,
            "grid_area": null,
            "grid_auto_columns": null,
            "grid_auto_flow": null,
            "grid_auto_rows": null,
            "grid_column": null,
            "grid_gap": null,
            "grid_row": null,
            "grid_template_areas": null,
            "grid_template_columns": null,
            "grid_template_rows": null,
            "height": null,
            "justify_content": null,
            "justify_items": null,
            "left": null,
            "margin": null,
            "max_height": null,
            "max_width": null,
            "min_height": null,
            "min_width": null,
            "object_fit": null,
            "object_position": null,
            "order": null,
            "overflow": null,
            "overflow_x": null,
            "overflow_y": null,
            "padding": null,
            "right": null,
            "top": null,
            "visibility": null,
            "width": null
          }
        },
        "1e3091c868dc4854ad2746ac7ad6d25c": {
          "model_module": "@jupyter-widgets/controls",
          "model_name": "ProgressStyleModel",
          "model_module_version": "1.5.0",
          "state": {
            "_model_module": "@jupyter-widgets/controls",
            "_model_module_version": "1.5.0",
            "_model_name": "ProgressStyleModel",
            "_view_count": null,
            "_view_module": "@jupyter-widgets/base",
            "_view_module_version": "1.2.0",
            "_view_name": "StyleView",
            "bar_color": null,
            "description_width": ""
          }
        },
        "813ae081f9064d8eafca74fc47be8c0d": {
          "model_module": "@jupyter-widgets/base",
          "model_name": "LayoutModel",
          "model_module_version": "1.2.0",
          "state": {
            "_model_module": "@jupyter-widgets/base",
            "_model_module_version": "1.2.0",
            "_model_name": "LayoutModel",
            "_view_count": null,
            "_view_module": "@jupyter-widgets/base",
            "_view_module_version": "1.2.0",
            "_view_name": "LayoutView",
            "align_content": null,
            "align_items": null,
            "align_self": null,
            "border": null,
            "bottom": null,
            "display": null,
            "flex": null,
            "flex_flow": null,
            "grid_area": null,
            "grid_auto_columns": null,
            "grid_auto_flow": null,
            "grid_auto_rows": null,
            "grid_column": null,
            "grid_gap": null,
            "grid_row": null,
            "grid_template_areas": null,
            "grid_template_columns": null,
            "grid_template_rows": null,
            "height": null,
            "justify_content": null,
            "justify_items": null,
            "left": null,
            "margin": null,
            "max_height": null,
            "max_width": null,
            "min_height": null,
            "min_width": null,
            "object_fit": null,
            "object_position": null,
            "order": null,
            "overflow": null,
            "overflow_x": null,
            "overflow_y": null,
            "padding": null,
            "right": null,
            "top": null,
            "visibility": null,
            "width": null
          }
        },
        "6baa242e08db482c807907002520fda0": {
          "model_module": "@jupyter-widgets/controls",
          "model_name": "DescriptionStyleModel",
          "model_module_version": "1.5.0",
          "state": {
            "_model_module": "@jupyter-widgets/controls",
            "_model_module_version": "1.5.0",
            "_model_name": "DescriptionStyleModel",
            "_view_count": null,
            "_view_module": "@jupyter-widgets/base",
            "_view_module_version": "1.2.0",
            "_view_name": "StyleView",
            "description_width": ""
          }
        },
        "cf2a390d72e24e7ca0cab1822ff9be68": {
          "model_module": "@jupyter-widgets/controls",
          "model_name": "HBoxModel",
          "model_module_version": "1.5.0",
          "state": {
            "_dom_classes": [],
            "_model_module": "@jupyter-widgets/controls",
            "_model_module_version": "1.5.0",
            "_model_name": "HBoxModel",
            "_view_count": null,
            "_view_module": "@jupyter-widgets/controls",
            "_view_module_version": "1.5.0",
            "_view_name": "HBoxView",
            "box_style": "",
            "children": [
              "IPY_MODEL_4aee5e5f7dd748659079e6ac3e12b551",
              "IPY_MODEL_3fc79dcebbbe4f758d28a74652762f99",
              "IPY_MODEL_5c529fb78ef14bf292bd6a3c0bfe76a6"
            ],
            "layout": "IPY_MODEL_00c7027464b24bb0a4d6493611b618ba"
          }
        },
        "4aee5e5f7dd748659079e6ac3e12b551": {
          "model_module": "@jupyter-widgets/controls",
          "model_name": "HTMLModel",
          "model_module_version": "1.5.0",
          "state": {
            "_dom_classes": [],
            "_model_module": "@jupyter-widgets/controls",
            "_model_module_version": "1.5.0",
            "_model_name": "HTMLModel",
            "_view_count": null,
            "_view_module": "@jupyter-widgets/controls",
            "_view_module_version": "1.5.0",
            "_view_name": "HTMLView",
            "description": "",
            "description_tooltip": null,
            "layout": "IPY_MODEL_1b33a7f73cf143e5a32dc702ba098556",
            "placeholder": "​",
            "style": "IPY_MODEL_b3ba28c5e52e4ed987681134e5d01c39",
            "value": "100%"
          }
        },
        "3fc79dcebbbe4f758d28a74652762f99": {
          "model_module": "@jupyter-widgets/controls",
          "model_name": "FloatProgressModel",
          "model_module_version": "1.5.0",
          "state": {
            "_dom_classes": [],
            "_model_module": "@jupyter-widgets/controls",
            "_model_module_version": "1.5.0",
            "_model_name": "FloatProgressModel",
            "_view_count": null,
            "_view_module": "@jupyter-widgets/controls",
            "_view_module_version": "1.5.0",
            "_view_name": "ProgressView",
            "bar_style": "success",
            "description": "",
            "description_tooltip": null,
            "layout": "IPY_MODEL_37db648be7e04d56a30c5f3a3edf0734",
            "max": 4542,
            "min": 0,
            "orientation": "horizontal",
            "style": "IPY_MODEL_826f2528366343fa9e9b96b6f5c6bf9a",
            "value": 4542
          }
        },
        "5c529fb78ef14bf292bd6a3c0bfe76a6": {
          "model_module": "@jupyter-widgets/controls",
          "model_name": "HTMLModel",
          "model_module_version": "1.5.0",
          "state": {
            "_dom_classes": [],
            "_model_module": "@jupyter-widgets/controls",
            "_model_module_version": "1.5.0",
            "_model_name": "HTMLModel",
            "_view_count": null,
            "_view_module": "@jupyter-widgets/controls",
            "_view_module_version": "1.5.0",
            "_view_name": "HTMLView",
            "description": "",
            "description_tooltip": null,
            "layout": "IPY_MODEL_673b02b99277415ca27c8290b8d2b789",
            "placeholder": "​",
            "style": "IPY_MODEL_8fefa83884ab41e98528d25bdfb5568e",
            "value": " 4542/4542 [00:00&lt;00:00, 189369.07it/s]"
          }
        },
        "00c7027464b24bb0a4d6493611b618ba": {
          "model_module": "@jupyter-widgets/base",
          "model_name": "LayoutModel",
          "model_module_version": "1.2.0",
          "state": {
            "_model_module": "@jupyter-widgets/base",
            "_model_module_version": "1.2.0",
            "_model_name": "LayoutModel",
            "_view_count": null,
            "_view_module": "@jupyter-widgets/base",
            "_view_module_version": "1.2.0",
            "_view_name": "LayoutView",
            "align_content": null,
            "align_items": null,
            "align_self": null,
            "border": null,
            "bottom": null,
            "display": null,
            "flex": null,
            "flex_flow": null,
            "grid_area": null,
            "grid_auto_columns": null,
            "grid_auto_flow": null,
            "grid_auto_rows": null,
            "grid_column": null,
            "grid_gap": null,
            "grid_row": null,
            "grid_template_areas": null,
            "grid_template_columns": null,
            "grid_template_rows": null,
            "height": null,
            "justify_content": null,
            "justify_items": null,
            "left": null,
            "margin": null,
            "max_height": null,
            "max_width": null,
            "min_height": null,
            "min_width": null,
            "object_fit": null,
            "object_position": null,
            "order": null,
            "overflow": null,
            "overflow_x": null,
            "overflow_y": null,
            "padding": null,
            "right": null,
            "top": null,
            "visibility": null,
            "width": null
          }
        },
        "1b33a7f73cf143e5a32dc702ba098556": {
          "model_module": "@jupyter-widgets/base",
          "model_name": "LayoutModel",
          "model_module_version": "1.2.0",
          "state": {
            "_model_module": "@jupyter-widgets/base",
            "_model_module_version": "1.2.0",
            "_model_name": "LayoutModel",
            "_view_count": null,
            "_view_module": "@jupyter-widgets/base",
            "_view_module_version": "1.2.0",
            "_view_name": "LayoutView",
            "align_content": null,
            "align_items": null,
            "align_self": null,
            "border": null,
            "bottom": null,
            "display": null,
            "flex": null,
            "flex_flow": null,
            "grid_area": null,
            "grid_auto_columns": null,
            "grid_auto_flow": null,
            "grid_auto_rows": null,
            "grid_column": null,
            "grid_gap": null,
            "grid_row": null,
            "grid_template_areas": null,
            "grid_template_columns": null,
            "grid_template_rows": null,
            "height": null,
            "justify_content": null,
            "justify_items": null,
            "left": null,
            "margin": null,
            "max_height": null,
            "max_width": null,
            "min_height": null,
            "min_width": null,
            "object_fit": null,
            "object_position": null,
            "order": null,
            "overflow": null,
            "overflow_x": null,
            "overflow_y": null,
            "padding": null,
            "right": null,
            "top": null,
            "visibility": null,
            "width": null
          }
        },
        "b3ba28c5e52e4ed987681134e5d01c39": {
          "model_module": "@jupyter-widgets/controls",
          "model_name": "DescriptionStyleModel",
          "model_module_version": "1.5.0",
          "state": {
            "_model_module": "@jupyter-widgets/controls",
            "_model_module_version": "1.5.0",
            "_model_name": "DescriptionStyleModel",
            "_view_count": null,
            "_view_module": "@jupyter-widgets/base",
            "_view_module_version": "1.2.0",
            "_view_name": "StyleView",
            "description_width": ""
          }
        },
        "37db648be7e04d56a30c5f3a3edf0734": {
          "model_module": "@jupyter-widgets/base",
          "model_name": "LayoutModel",
          "model_module_version": "1.2.0",
          "state": {
            "_model_module": "@jupyter-widgets/base",
            "_model_module_version": "1.2.0",
            "_model_name": "LayoutModel",
            "_view_count": null,
            "_view_module": "@jupyter-widgets/base",
            "_view_module_version": "1.2.0",
            "_view_name": "LayoutView",
            "align_content": null,
            "align_items": null,
            "align_self": null,
            "border": null,
            "bottom": null,
            "display": null,
            "flex": null,
            "flex_flow": null,
            "grid_area": null,
            "grid_auto_columns": null,
            "grid_auto_flow": null,
            "grid_auto_rows": null,
            "grid_column": null,
            "grid_gap": null,
            "grid_row": null,
            "grid_template_areas": null,
            "grid_template_columns": null,
            "grid_template_rows": null,
            "height": null,
            "justify_content": null,
            "justify_items": null,
            "left": null,
            "margin": null,
            "max_height": null,
            "max_width": null,
            "min_height": null,
            "min_width": null,
            "object_fit": null,
            "object_position": null,
            "order": null,
            "overflow": null,
            "overflow_x": null,
            "overflow_y": null,
            "padding": null,
            "right": null,
            "top": null,
            "visibility": null,
            "width": null
          }
        },
        "826f2528366343fa9e9b96b6f5c6bf9a": {
          "model_module": "@jupyter-widgets/controls",
          "model_name": "ProgressStyleModel",
          "model_module_version": "1.5.0",
          "state": {
            "_model_module": "@jupyter-widgets/controls",
            "_model_module_version": "1.5.0",
            "_model_name": "ProgressStyleModel",
            "_view_count": null,
            "_view_module": "@jupyter-widgets/base",
            "_view_module_version": "1.2.0",
            "_view_name": "StyleView",
            "bar_color": null,
            "description_width": ""
          }
        },
        "673b02b99277415ca27c8290b8d2b789": {
          "model_module": "@jupyter-widgets/base",
          "model_name": "LayoutModel",
          "model_module_version": "1.2.0",
          "state": {
            "_model_module": "@jupyter-widgets/base",
            "_model_module_version": "1.2.0",
            "_model_name": "LayoutModel",
            "_view_count": null,
            "_view_module": "@jupyter-widgets/base",
            "_view_module_version": "1.2.0",
            "_view_name": "LayoutView",
            "align_content": null,
            "align_items": null,
            "align_self": null,
            "border": null,
            "bottom": null,
            "display": null,
            "flex": null,
            "flex_flow": null,
            "grid_area": null,
            "grid_auto_columns": null,
            "grid_auto_flow": null,
            "grid_auto_rows": null,
            "grid_column": null,
            "grid_gap": null,
            "grid_row": null,
            "grid_template_areas": null,
            "grid_template_columns": null,
            "grid_template_rows": null,
            "height": null,
            "justify_content": null,
            "justify_items": null,
            "left": null,
            "margin": null,
            "max_height": null,
            "max_width": null,
            "min_height": null,
            "min_width": null,
            "object_fit": null,
            "object_position": null,
            "order": null,
            "overflow": null,
            "overflow_x": null,
            "overflow_y": null,
            "padding": null,
            "right": null,
            "top": null,
            "visibility": null,
            "width": null
          }
        },
        "8fefa83884ab41e98528d25bdfb5568e": {
          "model_module": "@jupyter-widgets/controls",
          "model_name": "DescriptionStyleModel",
          "model_module_version": "1.5.0",
          "state": {
            "_model_module": "@jupyter-widgets/controls",
            "_model_module_version": "1.5.0",
            "_model_name": "DescriptionStyleModel",
            "_view_count": null,
            "_view_module": "@jupyter-widgets/base",
            "_view_module_version": "1.2.0",
            "_view_name": "StyleView",
            "description_width": ""
          }
        }
      }
    }
  },
  "cells": [
    {
      "cell_type": "markdown",
      "metadata": {
        "id": "view-in-github",
        "colab_type": "text"
      },
      "source": [
        "<a href=\"https://colab.research.google.com/github/ProtoDD/pdd/blob/main/PDD_MNIST_sample.ipynb\" target=\"_parent\"><img src=\"https://colab.research.google.com/assets/colab-badge.svg\" alt=\"Open In Colab\"/></a>"
      ]
    },
    {
      "cell_type": "markdown",
      "metadata": {
        "id": "efRH_C0oUPqQ"
      },
      "source": [
        "#Prototype Data Description\n",
        "##Inter/Intra-class margin maximization\n"
      ]
    },
    {
      "cell_type": "markdown",
      "metadata": {
        "id": "g4pawz2eUPm3"
      },
      "source": [
        "##Implementations\n",
        "* AnoGAN-like Generator/Discriminator - unsupervised pretraining\n",
        "* Leave-an-anomaly-class-out Training Data\n",
        "* Within the discriminator feature space\n",
        "* Inter/Intra-class margins computed by class-prototypes\n"
      ]
    },
    {
      "cell_type": "markdown",
      "metadata": {
        "id": "OnOUVKJfXr_D"
      },
      "source": [
        "# Google Drive"
      ]
    },
    {
      "cell_type": "code",
      "metadata": {
        "id": "jZzcYxQsXx2B",
        "colab": {
          "base_uri": "https://localhost:8080/"
        },
        "outputId": "cf1c9be6-ba22-4b42-93a6-dcab8a2ff11d"
      },
      "source": [
        "from google.colab import drive\n",
        "drive.mount('/content/drive')"
      ],
      "execution_count": null,
      "outputs": [
        {
          "output_type": "stream",
          "name": "stdout",
          "text": [
            "Mounted at /content/drive\n"
          ]
        }
      ]
    },
    {
      "cell_type": "markdown",
      "metadata": {
        "id": "H0KMAedSY-oG"
      },
      "source": [
        "#Imports"
      ]
    },
    {
      "cell_type": "code",
      "source": [
        "import numpy as np\n",
        "import matplotlib.pyplot as plt\n",
        "import time\n",
        "from urllib import request \n",
        "from itertools import combinations"
      ],
      "metadata": {
        "id": "GFR2s2-te_JJ"
      },
      "execution_count": 1,
      "outputs": []
    },
    {
      "cell_type": "code",
      "source": [
        "from sklearn.manifold import TSNE\n",
        "from sklearn.neighbors import KernelDensity, LocalOutlierFactor\n",
        "from sklearn.decomposition import PCA\n",
        "from sklearn.metrics import roc_auc_score\n",
        "from sklearn.model_selection import train_test_split"
      ],
      "metadata": {
        "id": "jRd8MmJge9Wi"
      },
      "execution_count": 2,
      "outputs": []
    },
    {
      "cell_type": "code",
      "metadata": {
        "id": "bRL-yjdPBGRS"
      },
      "source": [
        "import torch\n",
        "from torch import nn \n",
        "from torch import utils \n",
        "from torch.nn import init\n",
        "from torch.autograd import Variable\n",
        "from torchvision.datasets import MNIST\n",
        "from torchvision import transforms\n",
        "from torch.utils.data import TensorDataset, DataLoader"
      ],
      "execution_count": 3,
      "outputs": []
    },
    {
      "cell_type": "code",
      "metadata": {
        "id": "Qc9m1rJmn0g8"
      },
      "source": [
        "from sklearn.metrics import average_precision_score, precision_recall_curve"
      ],
      "execution_count": 4,
      "outputs": []
    },
    {
      "cell_type": "code",
      "metadata": {
        "id": "l2TazS2nYeYU"
      },
      "source": [
        "import os\n",
        "from datetime import datetime, timedelta, timezone"
      ],
      "execution_count": 5,
      "outputs": []
    },
    {
      "cell_type": "code",
      "metadata": {
        "id": "vFlbSHV1RQAU"
      },
      "source": [
        "from sklearn.metrics import precision_recall_curve"
      ],
      "execution_count": 6,
      "outputs": []
    },
    {
      "cell_type": "code",
      "metadata": {
        "id": "tcOLiXmJJk7Q"
      },
      "source": [
        "from sklearn.metrics import average_precision_score"
      ],
      "execution_count": 7,
      "outputs": []
    },
    {
      "cell_type": "code",
      "metadata": {
        "id": "xBdONNpROe6w"
      },
      "source": [
        "from sklearn.preprocessing import MinMaxScaler"
      ],
      "execution_count": 8,
      "outputs": []
    },
    {
      "cell_type": "code",
      "metadata": {
        "colab": {
          "base_uri": "https://localhost:8080/"
        },
        "id": "bUoDwASRKmKU",
        "outputId": "56763246-fade-4e5f-ef2d-e75cd6e3ed34"
      },
      "source": [
        "!pip install umap-learn"
      ],
      "execution_count": 9,
      "outputs": [
        {
          "output_type": "stream",
          "name": "stdout",
          "text": [
            "Looking in indexes: https://pypi.org/simple, https://us-python.pkg.dev/colab-wheels/public/simple/\n",
            "Collecting umap-learn\n",
            "  Downloading umap-learn-0.5.3.tar.gz (88 kB)\n",
            "\u001b[K     |████████████████████████████████| 88 kB 5.4 MB/s \n",
            "\u001b[?25hRequirement already satisfied: numpy>=1.17 in /usr/local/lib/python3.7/dist-packages (from umap-learn) (1.21.6)\n",
            "Requirement already satisfied: scikit-learn>=0.22 in /usr/local/lib/python3.7/dist-packages (from umap-learn) (1.0.2)\n",
            "Requirement already satisfied: scipy>=1.0 in /usr/local/lib/python3.7/dist-packages (from umap-learn) (1.7.3)\n",
            "Requirement already satisfied: numba>=0.49 in /usr/local/lib/python3.7/dist-packages (from umap-learn) (0.56.0)\n",
            "Collecting pynndescent>=0.5\n",
            "  Downloading pynndescent-0.5.7.tar.gz (1.1 MB)\n",
            "\u001b[K     |████████████████████████████████| 1.1 MB 68.4 MB/s \n",
            "\u001b[?25hRequirement already satisfied: tqdm in /usr/local/lib/python3.7/dist-packages (from umap-learn) (4.64.0)\n",
            "Requirement already satisfied: llvmlite<0.40,>=0.39.0dev0 in /usr/local/lib/python3.7/dist-packages (from numba>=0.49->umap-learn) (0.39.0)\n",
            "Requirement already satisfied: importlib-metadata in /usr/local/lib/python3.7/dist-packages (from numba>=0.49->umap-learn) (4.12.0)\n",
            "Requirement already satisfied: setuptools in /usr/local/lib/python3.7/dist-packages (from numba>=0.49->umap-learn) (57.4.0)\n",
            "Requirement already satisfied: joblib>=0.11 in /usr/local/lib/python3.7/dist-packages (from pynndescent>=0.5->umap-learn) (1.1.0)\n",
            "Requirement already satisfied: threadpoolctl>=2.0.0 in /usr/local/lib/python3.7/dist-packages (from scikit-learn>=0.22->umap-learn) (3.1.0)\n",
            "Requirement already satisfied: typing-extensions>=3.6.4 in /usr/local/lib/python3.7/dist-packages (from importlib-metadata->numba>=0.49->umap-learn) (4.1.1)\n",
            "Requirement already satisfied: zipp>=0.5 in /usr/local/lib/python3.7/dist-packages (from importlib-metadata->numba>=0.49->umap-learn) (3.8.1)\n",
            "Building wheels for collected packages: umap-learn, pynndescent\n",
            "  Building wheel for umap-learn (setup.py) ... \u001b[?25l\u001b[?25hdone\n",
            "  Created wheel for umap-learn: filename=umap_learn-0.5.3-py3-none-any.whl size=82829 sha256=287e3f407fe7fd1624d9d21d234b68303dc7cf16c5df4975b2ae1876b9f2d615\n",
            "  Stored in directory: /root/.cache/pip/wheels/b3/52/a5/1fd9e3e76a7ab34f134c07469cd6f16e27ef3a37aeff1fe821\n",
            "  Building wheel for pynndescent (setup.py) ... \u001b[?25l\u001b[?25hdone\n",
            "  Created wheel for pynndescent: filename=pynndescent-0.5.7-py3-none-any.whl size=54286 sha256=64e2ddaa4128770e1d6f6ee9c27ae8aa9c81fd8496023a06cd539345ce2b27d0\n",
            "  Stored in directory: /root/.cache/pip/wheels/7f/2a/f8/7bd5dcec71bd5c669f6f574db3113513696b98f3f9b51f496c\n",
            "Successfully built umap-learn pynndescent\n",
            "Installing collected packages: pynndescent, umap-learn\n",
            "Successfully installed pynndescent-0.5.7 umap-learn-0.5.3\n"
          ]
        }
      ]
    },
    {
      "cell_type": "code",
      "metadata": {
        "id": "7tsrv4iuLAn0"
      },
      "source": [
        "from umap import UMAP"
      ],
      "execution_count": 10,
      "outputs": []
    },
    {
      "cell_type": "code",
      "metadata": {
        "id": "Mb9Ey4TezIqR"
      },
      "source": [
        "model_umap = UMAP()"
      ],
      "execution_count": 11,
      "outputs": []
    },
    {
      "cell_type": "markdown",
      "source": [
        "#Pretrained Models"
      ],
      "metadata": {
        "id": "N4ZGvOG5ivL1"
      }
    },
    {
      "cell_type": "code",
      "source": [
        "import os"
      ],
      "metadata": {
        "id": "WfoG9x00i7zJ"
      },
      "execution_count": 12,
      "outputs": []
    },
    {
      "cell_type": "code",
      "source": [
        "from urllib.request import urlretrieve"
      ],
      "metadata": {
        "id": "oKleYBCgiwwF"
      },
      "execution_count": 13,
      "outputs": []
    },
    {
      "cell_type": "code",
      "source": [
        "path_pretrained = './pretrained/'"
      ],
      "metadata": {
        "id": "TuOYe5IePdlf"
      },
      "execution_count": 14,
      "outputs": []
    },
    {
      "cell_type": "code",
      "source": [
        "if not os.path.exists(path_pretrained):\n",
        "  os.mkdir(path_pretrained)"
      ],
      "metadata": {
        "id": "_HuQrHFyi7Cq"
      },
      "execution_count": 15,
      "outputs": []
    },
    {
      "cell_type": "code",
      "source": [
        "path_model_d = path_pretrained + 'discriminator.pkl'\n",
        "path_model_g = path_pretrained + 'generator.pkl'"
      ],
      "metadata": {
        "id": "U_jjwuhniRbB"
      },
      "execution_count": 16,
      "outputs": []
    },
    {
      "cell_type": "code",
      "source": [
        "ood_classes = [1]\n",
        "url_pretrained_g = 'https://tus.box.com/shared/static/qw15o5yhwb73zaqh9lh4ghqzp851w0vp.pkl'\n",
        "url_pretrained_d = 'https://tus.box.com/shared/static/fp7xket1se3iuys9lgvvovkzo7fcxiy8.pkl'"
      ],
      "metadata": {
        "id": "ZZFd6IfMidl3"
      },
      "execution_count": 17,
      "outputs": []
    },
    {
      "cell_type": "code",
      "source": [
        "urlretrieve(url_pretrained_d, path_model_d)\n",
        "urlretrieve(url_pretrained_g, path_model_g)"
      ],
      "metadata": {
        "colab": {
          "base_uri": "https://localhost:8080/"
        },
        "id": "lJ_mS6J7irb8",
        "outputId": "86e60af5-7dd9-4030-cb7a-98f9be583542"
      },
      "execution_count": 18,
      "outputs": [
        {
          "output_type": "execute_result",
          "data": {
            "text/plain": [
              "('./pretrained/generator.pkl', <http.client.HTTPMessage at 0x7f1609195490>)"
            ]
          },
          "metadata": {},
          "execution_count": 18
        }
      ]
    },
    {
      "cell_type": "markdown",
      "metadata": {
        "id": "sx68Grc5YwtI"
      },
      "source": [
        "# Discriminator/Generator Class"
      ]
    },
    {
      "cell_type": "code",
      "metadata": {
        "id": "CvCN10_VhlIT"
      },
      "source": [
        "# Generator receives random noise z and create 1x28x28 image\n",
        "\n",
        "class Generator(nn.Module):\n",
        "    def __init__(self):\n",
        "        super(Generator,self).__init__()\n",
        "        self.layer1 = nn.Sequential(\n",
        "             nn.Linear(100,7*7*512),\n",
        "             nn.BatchNorm1d(7*7*512),\n",
        "             nn.ReLU(),\n",
        "        )\n",
        "        self.layer2 = nn.Sequential(\n",
        "                        nn.ConvTranspose2d(512,256,3,2,1,1),\n",
        "                        nn.BatchNorm2d(256),\n",
        "                        nn.LeakyReLU(),\n",
        "                        nn.ConvTranspose2d(256,128,3,1,1),\n",
        "                        nn.BatchNorm2d(128),    \n",
        "                        nn.LeakyReLU(),\n",
        "            )\n",
        "        self.layer3 = nn.Sequential(\n",
        "                        nn.ConvTranspose2d(128,64,3,1,1),\n",
        "                        nn.BatchNorm2d(64),    \n",
        "                        nn.LeakyReLU(),\n",
        "                        nn.ConvTranspose2d(64,1,3,2,1,1),\n",
        "                        nn.Tanh()\n",
        "            )\n",
        "\n",
        "    def forward(self,z):\n",
        "        out = self.layer1(z)\n",
        "        out = out.view(out.size()[0],512,7,7)\n",
        "        out = self.layer2(out)\n",
        "        out = self.layer3(out)\n",
        "        return out"
      ],
      "execution_count": 19,
      "outputs": []
    },
    {
      "cell_type": "code",
      "metadata": {
        "id": "yw_jR3oJY5TN"
      },
      "source": [
        "# Discriminator receives 1x28x28 image and returns a float number 0~1\n",
        "\n",
        "class Discriminator(nn.Module):\n",
        "    def __init__(self):\n",
        "        super(Discriminator,self).__init__()\n",
        "        self.layer1 = nn.Sequential(\n",
        "                        nn.Conv2d(1,8,3,padding=1),   # batch x 16 x 28 x 28\n",
        "                        nn.BatchNorm2d(8),    \n",
        "                        nn.LeakyReLU(),\n",
        "                        nn.Conv2d(8,16,3,stride=2,padding=1),  # batch x 32 x 28 x 28\n",
        "                        nn.BatchNorm2d(16),    \n",
        "                        nn.LeakyReLU(),\n",
        "                        #('max1',nn.MaxPool2d(2,2))   # batch x 32 x 14 x 14\n",
        "        )\n",
        "        self.layer2 = nn.Sequential(\n",
        "                        nn.Conv2d(16,32,3,stride=2,padding=1),  # batch x 64 x 14 x 14\n",
        "                        nn.BatchNorm2d(32),\n",
        "                        nn.LeakyReLU(),\n",
        "                        #nn.MaxPool2d(2,2),\n",
        "                        nn.Conv2d(32,64,3,padding=1),  # batch x 128 x 7 x 7\n",
        "                        nn.BatchNorm2d(64),\n",
        "                        nn.LeakyReLU()\n",
        "        )\n",
        "        self.fc = nn.Sequential(\n",
        "                        nn.Linear(64*7*7,1),\n",
        "                        nn.Sigmoid()\n",
        "        )\n",
        "\n",
        "    def forward(self,x):\n",
        "        out = self.layer1(x)\n",
        "        out = self.layer2(out)\n",
        "        out = out.view(out.size()[0], -1)\n",
        "        feature = out\n",
        "        out = self.fc(out)\n",
        "        return out,feature"
      ],
      "execution_count": 20,
      "outputs": []
    },
    {
      "cell_type": "code",
      "metadata": {
        "colab": {
          "base_uri": "https://localhost:8080/",
          "height": 35
        },
        "id": "Sl_L-7FgZF-l",
        "outputId": "c3e8b932-75e7-4d7d-9947-7f8b7a176abd"
      },
      "source": [
        "device = 'cuda' if torch.cuda.is_available() else 'cpu'\n",
        "device"
      ],
      "execution_count": 21,
      "outputs": [
        {
          "output_type": "execute_result",
          "data": {
            "text/plain": [
              "'cuda'"
            ],
            "application/vnd.google.colaboratory.intrinsic+json": {
              "type": "string"
            }
          },
          "metadata": {},
          "execution_count": 21
        }
      ]
    },
    {
      "cell_type": "code",
      "metadata": {
        "id": "nwZXJNNkbhBu"
      },
      "source": [
        "discriminator = nn.DataParallel(Discriminator(),device_ids=[0])\n",
        "generator = nn.DataParallel(Generator(),device_ids=[0])"
      ],
      "execution_count": 22,
      "outputs": []
    },
    {
      "cell_type": "code",
      "metadata": {
        "colab": {
          "base_uri": "https://localhost:8080/"
        },
        "id": "394htqrWbPPC",
        "outputId": "102291c2-ce8e-4910-f0d5-e19f51d32c40"
      },
      "source": [
        "#load pretrained model\n",
        "discriminator.load_state_dict(torch.load(path_model_d))\n",
        "generator.load_state_dict(torch.load(path_model_g))"
      ],
      "execution_count": 23,
      "outputs": [
        {
          "output_type": "execute_result",
          "data": {
            "text/plain": [
              "<All keys matched successfully>"
            ]
          },
          "metadata": {},
          "execution_count": 23
        }
      ]
    },
    {
      "cell_type": "markdown",
      "metadata": {
        "id": "VU5B7e4zhKIe"
      },
      "source": [
        "# Log Path"
      ]
    },
    {
      "cell_type": "code",
      "metadata": {
        "colab": {
          "base_uri": "https://localhost:8080/"
        },
        "id": "qmAIWzCIYOkr",
        "outputId": "50a95efa-b355-4ae5-8ad3-cad36ffef46a"
      },
      "source": [
        "import os\n",
        "wdir = './wdir/'\n",
        "\n",
        "logpath = wdir + 'log_'+str(ood_classes[0])+'/'\n",
        "\n",
        "if os.path.exists(wdir):\n",
        "  print(logpath+' exists')\n",
        "else: \n",
        "  os.makedirs(logpath)\n",
        "  print(logpath+' made')"
      ],
      "execution_count": 24,
      "outputs": [
        {
          "output_type": "stream",
          "name": "stdout",
          "text": [
            "./wdir/log_1/ made\n"
          ]
        }
      ]
    },
    {
      "cell_type": "markdown",
      "metadata": {
        "id": "JkF4dWHuz1xp"
      },
      "source": [
        "#MNIST Dataset (from backup)"
      ]
    },
    {
      "cell_type": "code",
      "metadata": {
        "id": "4__tVcp6Itj2"
      },
      "source": [
        "from urllib import request\n",
        "import codecs\n",
        "from gzip import GzipFile\n",
        "\n",
        "def get_int(b):\n",
        "    return int(codecs.encode(b, 'hex'), 16)\n",
        "\n",
        "def parse_byte(b):\n",
        "    if isinstance(b, str):\n",
        "        return ord(b)\n",
        "    return b\n",
        "\n",
        "def read_label_file(path):\n",
        "    with open(path, 'rb') as f:\n",
        "        data = f.read()\n",
        "        assert get_int(data[:4]) == 2049\n",
        "        length = get_int(data[4:8])\n",
        "        labels = [parse_byte(b) for b in data[8:]]\n",
        "        assert len(labels) == length\n",
        "        return torch.LongTensor(labels)\n",
        "\n",
        "def read_image_file(path):\n",
        "    with open(path, 'rb') as f:\n",
        "        data = f.read()\n",
        "        assert get_int(data[:4]) == 2051\n",
        "        length = get_int(data[4:8])\n",
        "        num_rows = get_int(data[8:12])\n",
        "        num_cols = get_int(data[12:16])\n",
        "        images = []\n",
        "        idx = 16\n",
        "        for l in range(length):\n",
        "            img = []\n",
        "            images.append(img)\n",
        "            for r in range(num_rows):\n",
        "                row = []\n",
        "                img.append(row)\n",
        "                for c in range(num_cols):\n",
        "                    row.append(parse_byte(data[idx]))\n",
        "                    idx += 1\n",
        "        assert len(images) == length\n",
        "        return torch.ByteTensor(images).view(-1, 28, 28)"
      ],
      "execution_count": null,
      "outputs": []
    },
    {
      "cell_type": "code",
      "metadata": {
        "colab": {
          "base_uri": "https://localhost:8080/"
        },
        "id": "0aq3TQguDOlF",
        "outputId": "a68d0699-75bc-4553-a426-7cbfc752d0d6"
      },
      "source": [
        "#%%time\n",
        "if False :\n",
        "#try:\n",
        "  mnist_train = MNIST(\"./\", train=True, \n",
        "                         transform=transforms.Compose([\n",
        "                             transforms.ToTensor(),\n",
        "                             transforms.Normalize((0.5), (0.5)),\n",
        "                        ]),\n",
        "                        target_transform=None,\n",
        "                        download=True)\n",
        "else :\n",
        "#except:\n",
        "  print('Using box copy (30sec)')\n",
        "  if not os.path.exists('/content/MNIST'):\n",
        "    os.mkdir('/content/MNIST/')\n",
        "    os.mkdir('/content/MNIST/raw')\n",
        "    os.mkdir('/content/MNIST/processed')\n",
        "  for box, gzfile in zip(['https://tus.box.com/shared/static/w48x3ihzku8di803sms8pprcubo933vk.gz', \n",
        "                        'https://tus.box.com/shared/static/4sk5phinu7b4litqzaun6rbh44drszvw.gz',\n",
        "                        'https://tus.box.com/shared/static/4ixofoafdsucmodzda2wqofcbjesjcyt.gz',\n",
        "                        'https://tus.box.com/shared/static/t11ksbgpf72zfhrwllqomaw1j3b1zgo3.gz'],\n",
        "                       ['./MNIST/raw/train-images-idx3-ubyte.gz',\n",
        "                        './MNIST/raw/train-labels-idx1-ubyte.gz',\n",
        "                        './MNIST/raw/t10k-images-idx3-ubyte.gz',\n",
        "                        './MNIST/raw/t10k-labels-idx1-ubyte.gz'\n",
        "                        ]):\n",
        "    request.urlretrieve(box,gzfile)\n",
        "    with open(gzfile.replace('.gz', ''), 'wb') as out_f, GzipFile(gzfile) as zip_f: out_f.write(zip_f.read())\n",
        "\n",
        "  training_set = (\n",
        "    read_image_file('./MNIST/raw/train-images-idx3-ubyte'),\n",
        "    read_label_file('./MNIST/raw/train-labels-idx1-ubyte')\n",
        "    )\n",
        "  test_set = (\n",
        "    read_image_file('./MNIST/raw/t10k-images-idx3-ubyte'),\n",
        "    read_label_file('./MNIST/raw/t10k-labels-idx1-ubyte')\n",
        "    )\n",
        "  \n",
        "  with open('./MNIST/processed/training.pt', 'wb') as f: torch.save(training_set, f)\n",
        "  with open('./MNIST/processed/test.pt', 'wb') as f: torch.save(test_set, f)\n",
        "\n",
        "  mnist_train = MNIST(\"./\", train=True, \n",
        "                         transform=transforms.Compose([\n",
        "                             transforms.ToTensor(),\n",
        "                             transforms.Normalize((0.5), (0.5)),\n",
        "                        ]),\n",
        "                        target_transform=None,\n",
        "                        download=False)"
      ],
      "execution_count": null,
      "outputs": [
        {
          "output_type": "stream",
          "text": [
            "Using box copy (30sec)\n"
          ],
          "name": "stdout"
        }
      ]
    },
    {
      "cell_type": "markdown",
      "source": [
        "#MNIST Dataset (Train)"
      ],
      "metadata": {
        "id": "TnhThVC8L-Ti"
      }
    },
    {
      "cell_type": "code",
      "source": [
        "mnist_train = MNIST(\"./\", train=True, \n",
        "                         transform=transforms.Compose([\n",
        "                             transforms.ToTensor(),\n",
        "                             transforms.Normalize((0.5), (0.5)),\n",
        "                        ]),\n",
        "                        target_transform=None,\n",
        "                        download=True)"
      ],
      "metadata": {
        "colab": {
          "base_uri": "https://localhost:8080/",
          "referenced_widgets": [
            "6f3c90aaf24a404fb715675c150691e0",
            "7692d151fa734be981e44a541babde8a",
            "f055125d8912461eb49dc70450981b7b",
            "bd8fae32ffc748bebf2c8e8d303c9dce",
            "273c9057818343a8a5332676bae9018e",
            "9b33cb4498c0423196475c42caca2b61",
            "66387ea582f947c286baec85530bf88b",
            "519d6da1383248d486bbff88525b363d",
            "3fde8437c4a24f93921142643e92dc23",
            "b0155ab077f54675a986ca9237e4c999",
            "3b830a5bfe8d4f20bf1de233e4323e3d",
            "13d2770228a0438fb7b4c9bed643545f",
            "a99cf29e01374eaaa76b67b4e0ec2ae8",
            "b0bc44eb929c48748cbdfebb0d1ccc16",
            "ce2e1e848d5041608a0fd160ac71316e",
            "d0f7b63d1c61458aba5b1cf84f438601",
            "afd664112cde4e0087d199bfca135608",
            "09d7c1f961bd445c9f23373c89865063",
            "cc94c49d91a04d939b51c9a0ae5abae3",
            "b7e2409cab09449c94da349308277fcb",
            "7ce440a08fbc45debcb8ae50142eb516",
            "f18cd487bda74608a522cb7a4ab1ab75",
            "7cf00ae7b2f74395b1ce0e6336173ec2",
            "220c2ddd6f024becb6d2176282229cb3",
            "a13da1ae80b64fa68be92fc88040ef77",
            "18f44e1b9ae4428a98543eef28a276ab",
            "5d9ce03f4e46483eb63014d028e812cc",
            "90b3c67713824b5ab87ab5f5ae4ce426",
            "9def88fb0561499db34be3bf8c30aa0b",
            "ca3153fa6bd14f9fb705221a369de23f",
            "1e3091c868dc4854ad2746ac7ad6d25c",
            "813ae081f9064d8eafca74fc47be8c0d",
            "6baa242e08db482c807907002520fda0",
            "cf2a390d72e24e7ca0cab1822ff9be68",
            "4aee5e5f7dd748659079e6ac3e12b551",
            "3fc79dcebbbe4f758d28a74652762f99",
            "5c529fb78ef14bf292bd6a3c0bfe76a6",
            "00c7027464b24bb0a4d6493611b618ba",
            "1b33a7f73cf143e5a32dc702ba098556",
            "b3ba28c5e52e4ed987681134e5d01c39",
            "37db648be7e04d56a30c5f3a3edf0734",
            "826f2528366343fa9e9b96b6f5c6bf9a",
            "673b02b99277415ca27c8290b8d2b789",
            "8fefa83884ab41e98528d25bdfb5568e"
          ],
          "height": 431
        },
        "id": "wyrxcXb6MBPi",
        "outputId": "ff063b5d-6001-4d13-9e1f-efaffc918eeb"
      },
      "execution_count": 25,
      "outputs": [
        {
          "output_type": "stream",
          "name": "stdout",
          "text": [
            "Downloading http://yann.lecun.com/exdb/mnist/train-images-idx3-ubyte.gz\n",
            "Downloading http://yann.lecun.com/exdb/mnist/train-images-idx3-ubyte.gz to ./MNIST/raw/train-images-idx3-ubyte.gz\n"
          ]
        },
        {
          "output_type": "display_data",
          "data": {
            "text/plain": [
              "  0%|          | 0/9912422 [00:00<?, ?it/s]"
            ],
            "application/vnd.jupyter.widget-view+json": {
              "version_major": 2,
              "version_minor": 0,
              "model_id": "6f3c90aaf24a404fb715675c150691e0"
            }
          },
          "metadata": {}
        },
        {
          "output_type": "stream",
          "name": "stdout",
          "text": [
            "Extracting ./MNIST/raw/train-images-idx3-ubyte.gz to ./MNIST/raw\n",
            "\n",
            "Downloading http://yann.lecun.com/exdb/mnist/train-labels-idx1-ubyte.gz\n",
            "Downloading http://yann.lecun.com/exdb/mnist/train-labels-idx1-ubyte.gz to ./MNIST/raw/train-labels-idx1-ubyte.gz\n"
          ]
        },
        {
          "output_type": "display_data",
          "data": {
            "text/plain": [
              "  0%|          | 0/28881 [00:00<?, ?it/s]"
            ],
            "application/vnd.jupyter.widget-view+json": {
              "version_major": 2,
              "version_minor": 0,
              "model_id": "13d2770228a0438fb7b4c9bed643545f"
            }
          },
          "metadata": {}
        },
        {
          "output_type": "stream",
          "name": "stdout",
          "text": [
            "Extracting ./MNIST/raw/train-labels-idx1-ubyte.gz to ./MNIST/raw\n",
            "\n",
            "Downloading http://yann.lecun.com/exdb/mnist/t10k-images-idx3-ubyte.gz\n",
            "Downloading http://yann.lecun.com/exdb/mnist/t10k-images-idx3-ubyte.gz to ./MNIST/raw/t10k-images-idx3-ubyte.gz\n"
          ]
        },
        {
          "output_type": "display_data",
          "data": {
            "text/plain": [
              "  0%|          | 0/1648877 [00:00<?, ?it/s]"
            ],
            "application/vnd.jupyter.widget-view+json": {
              "version_major": 2,
              "version_minor": 0,
              "model_id": "7cf00ae7b2f74395b1ce0e6336173ec2"
            }
          },
          "metadata": {}
        },
        {
          "output_type": "stream",
          "name": "stdout",
          "text": [
            "Extracting ./MNIST/raw/t10k-images-idx3-ubyte.gz to ./MNIST/raw\n",
            "\n",
            "Downloading http://yann.lecun.com/exdb/mnist/t10k-labels-idx1-ubyte.gz\n",
            "Downloading http://yann.lecun.com/exdb/mnist/t10k-labels-idx1-ubyte.gz to ./MNIST/raw/t10k-labels-idx1-ubyte.gz\n"
          ]
        },
        {
          "output_type": "display_data",
          "data": {
            "text/plain": [
              "  0%|          | 0/4542 [00:00<?, ?it/s]"
            ],
            "application/vnd.jupyter.widget-view+json": {
              "version_major": 2,
              "version_minor": 0,
              "model_id": "cf2a390d72e24e7ca0cab1822ff9be68"
            }
          },
          "metadata": {}
        },
        {
          "output_type": "stream",
          "name": "stdout",
          "text": [
            "Extracting ./MNIST/raw/t10k-labels-idx1-ubyte.gz to ./MNIST/raw\n",
            "\n"
          ]
        }
      ]
    },
    {
      "cell_type": "markdown",
      "metadata": {
        "id": "KjqeMt2IOVSg"
      },
      "source": [
        "# Training Setup (Leave-one-class-out)"
      ]
    },
    {
      "cell_type": "code",
      "metadata": {
        "colab": {
          "base_uri": "https://localhost:8080/"
        },
        "id": "rOoyA3DeN2kV",
        "outputId": "163eac2d-0f28-433a-f91a-f3fbf8ed170c"
      },
      "source": [
        "normal_classes = [ i for i in mnist_train.class_to_idx.values() if not (i in ood_classes) ]\n",
        "normal_classes"
      ],
      "execution_count": 26,
      "outputs": [
        {
          "output_type": "execute_result",
          "data": {
            "text/plain": [
              "[0, 2, 3, 4, 5, 6, 7, 8, 9]"
            ]
          },
          "metadata": {},
          "execution_count": 26
        }
      ]
    },
    {
      "cell_type": "code",
      "metadata": {
        "colab": {
          "base_uri": "https://localhost:8080/"
        },
        "id": "GERLEXajN50l",
        "outputId": "57b8d1c4-df96-487c-9a65-32be161215a3"
      },
      "source": [
        "# train_labels (non-anomaly classes)\n",
        "position_normal_class = [i for i,j in enumerate(mnist_train.train_labels.tolist()) if not j in ood_classes]\n",
        "np.array(position_normal_class)"
      ],
      "execution_count": 27,
      "outputs": [
        {
          "output_type": "stream",
          "name": "stderr",
          "text": [
            "/usr/local/lib/python3.7/dist-packages/torchvision/datasets/mnist.py:65: UserWarning: train_labels has been renamed targets\n",
            "  warnings.warn(\"train_labels has been renamed targets\")\n"
          ]
        },
        {
          "output_type": "execute_result",
          "data": {
            "text/plain": [
              "array([    0,     1,     2, ..., 59997, 59998, 59999])"
            ]
          },
          "metadata": {},
          "execution_count": 27
        }
      ]
    },
    {
      "cell_type": "code",
      "metadata": {
        "colab": {
          "base_uri": "https://localhost:8080/"
        },
        "id": "1GZSUmCyM2sj",
        "outputId": "d3482872-b7b9-4a4a-ee98-0da5e81943e6"
      },
      "source": [
        "mnist_data_normal = mnist_train.train_data[position_normal_class] \n",
        "mnist_label_normal = mnist_train.train_labels[position_normal_class] \n",
        "\n",
        "mnist_data_normal.shape, mnist_label_normal.shape"
      ],
      "execution_count": 28,
      "outputs": [
        {
          "output_type": "stream",
          "name": "stderr",
          "text": [
            "/usr/local/lib/python3.7/dist-packages/torchvision/datasets/mnist.py:75: UserWarning: train_data has been renamed data\n",
            "  warnings.warn(\"train_data has been renamed data\")\n"
          ]
        },
        {
          "output_type": "execute_result",
          "data": {
            "text/plain": [
              "(torch.Size([53258, 28, 28]), torch.Size([53258]))"
            ]
          },
          "metadata": {},
          "execution_count": 28
        }
      ]
    },
    {
      "cell_type": "code",
      "metadata": {
        "colab": {
          "base_uri": "https://localhost:8080/"
        },
        "id": "bb-5l52FKFHk",
        "outputId": "4fc1e960-1349-4d69-9956-816bc0a12ef4"
      },
      "source": [
        "normal_dataset = TensorDataset(mnist_data_normal.view(len(mnist_data_normal),1,28,28).type_as(torch.FloatTensor()), mnist_label_normal)\n",
        "normal_dataset.tensors[0].shape"
      ],
      "execution_count": 29,
      "outputs": [
        {
          "output_type": "execute_result",
          "data": {
            "text/plain": [
              "torch.Size([53258, 1, 28, 28])"
            ]
          },
          "metadata": {},
          "execution_count": 29
        }
      ]
    },
    {
      "cell_type": "code",
      "metadata": {
        "colab": {
          "base_uri": "https://localhost:8080/"
        },
        "id": "CNWxDFOjs_85",
        "outputId": "e40563d6-0221-4dd1-db34-337c049a8140"
      },
      "source": [
        "mnist_train.train_labels.set_(mnist_label_normal)\n",
        "mnist_train.train_data.set_(mnist_data_normal)\n",
        "mnist_train"
      ],
      "execution_count": 30,
      "outputs": [
        {
          "output_type": "execute_result",
          "data": {
            "text/plain": [
              "Dataset MNIST\n",
              "    Number of datapoints: 53258\n",
              "    Root location: ./\n",
              "    Split: Train\n",
              "    StandardTransform\n",
              "Transform: Compose(\n",
              "               ToTensor()\n",
              "               Normalize(mean=0.5, std=0.5)\n",
              "           )"
            ]
          },
          "metadata": {},
          "execution_count": 30
        }
      ]
    },
    {
      "cell_type": "markdown",
      "metadata": {
        "id": "7tVxNFQxBGS7"
      },
      "source": [
        "# MNIST Dataset (Test)"
      ]
    },
    {
      "cell_type": "code",
      "metadata": {
        "id": "Gp1iKl0Wtk9l"
      },
      "source": [
        "mnist_test = MNIST(\"./\", train=False, \n",
        "                         transform=transforms.Compose([\n",
        "                             transforms.ToTensor(),\n",
        "                             transforms.Normalize((0.5), (0.5)),\n",
        "                        ]),\n",
        "                        target_transform=None,\n",
        "                        download=True)"
      ],
      "execution_count": 31,
      "outputs": []
    },
    {
      "cell_type": "markdown",
      "metadata": {
        "id": "qwTFKXoOxDqE"
      },
      "source": [
        "# Prototype dataloader"
      ]
    },
    {
      "cell_type": "code",
      "metadata": {
        "id": "ZhXaDSr0oTRn"
      },
      "source": [
        "sample_size = 10"
      ],
      "execution_count": 32,
      "outputs": []
    },
    {
      "cell_type": "code",
      "metadata": {
        "colab": {
          "base_uri": "https://localhost:8080/"
        },
        "id": "iC2u92EYb1b3",
        "outputId": "c65b2506-b06c-4b6e-e32e-afba7a5458c2"
      },
      "source": [
        "# generator seed\n",
        "import time\n",
        "#seed = 1234\n",
        "seed = int(time.time())\n",
        "print(seed)\n",
        "np.random.seed(seed)"
      ],
      "execution_count": 33,
      "outputs": [
        {
          "output_type": "stream",
          "name": "stdout",
          "text": [
            "1661918901\n"
          ]
        }
      ]
    },
    {
      "cell_type": "code",
      "metadata": {
        "id": "76JKeTknnni5"
      },
      "source": [
        "exemplar_ids = [np.random.choice(np.where(np.array(mnist_train.targets) == i)[0],size=sample_size,replace=False) \n",
        "for i in np.unique(mnist_train.targets) ]\n",
        "\n",
        "exemplar_labels = mnist_train.targets.numpy()[np.array(exemplar_ids)]"
      ],
      "execution_count": 34,
      "outputs": []
    },
    {
      "cell_type": "code",
      "metadata": {
        "id": "HWWw6U-3pjuI"
      },
      "source": [
        "prototype_ids = np.concatenate(exemplar_ids)\n",
        "prototype_labels = np.array(mnist_train.targets)[prototype_ids]"
      ],
      "execution_count": 35,
      "outputs": []
    },
    {
      "cell_type": "code",
      "metadata": {
        "colab": {
          "base_uri": "https://localhost:8080/"
        },
        "id": "zwH4LtxSZxyc",
        "outputId": "07994317-a4b3-468a-d74d-f2074c999e57"
      },
      "source": [
        "len(exemplar_ids), len(prototype_ids)"
      ],
      "execution_count": 36,
      "outputs": [
        {
          "output_type": "execute_result",
          "data": {
            "text/plain": [
              "(9, 90)"
            ]
          },
          "metadata": {},
          "execution_count": 36
        }
      ]
    },
    {
      "cell_type": "code",
      "metadata": {
        "colab": {
          "base_uri": "https://localhost:8080/"
        },
        "id": "a14eidIWR4ce",
        "outputId": "9f73c4ce-6a81-433d-f0a0-aa3b0205562e"
      },
      "source": [
        "mnist_proto = MNIST(\"./\", train=True, \n",
        "                         transform=transforms.Compose([\n",
        "                             transforms.ToTensor(),\n",
        "                             transforms.Normalize((0.5), (0.5)),\n",
        "                        ]),\n",
        "                        target_transform=None,\n",
        "                        download=True)\n",
        "\n",
        "mnist_data_proto = mnist_train.data[prototype_ids] \n",
        "mnist_label_proto = mnist_train.targets[prototype_ids]\n",
        "\n",
        "mnist_proto.data = mnist_data_proto\n",
        "mnist_proto.targets = mnist_label_proto\n",
        "\n",
        "prototype_loader = torch.utils.data.DataLoader(\n",
        "    dataset=mnist_proto,\n",
        "    batch_size=10,\n",
        "    shuffle=False,\n",
        "    drop_last=False)\n",
        "\n",
        "prototype_reshape = np.arange(len(prototype_labels)).reshape(exemplar_labels.shape)\n",
        "\n",
        "mnist_label_proto"
      ],
      "execution_count": 37,
      "outputs": [
        {
          "output_type": "execute_result",
          "data": {
            "text/plain": [
              "tensor([0, 0, 0, 0, 0, 0, 0, 0, 0, 0, 2, 2, 2, 2, 2, 2, 2, 2, 2, 2, 3, 3, 3, 3,\n",
              "        3, 3, 3, 3, 3, 3, 4, 4, 4, 4, 4, 4, 4, 4, 4, 4, 5, 5, 5, 5, 5, 5, 5, 5,\n",
              "        5, 5, 6, 6, 6, 6, 6, 6, 6, 6, 6, 6, 7, 7, 7, 7, 7, 7, 7, 7, 7, 7, 8, 8,\n",
              "        8, 8, 8, 8, 8, 8, 8, 8, 9, 9, 9, 9, 9, 9, 9, 9, 9, 9])"
            ]
          },
          "metadata": {},
          "execution_count": 37
        }
      ]
    },
    {
      "cell_type": "markdown",
      "metadata": {
        "id": "f4pnBlWwa333"
      },
      "source": [
        "#Pre-trained feature extraction"
      ]
    },
    {
      "cell_type": "code",
      "metadata": {
        "id": "pJFZ6fdyae0K"
      },
      "source": [
        "test_loader = torch.utils.data.DataLoader(\n",
        "    dataset=mnist_test,\n",
        "    batch_size=50,\n",
        "    shuffle=False,\n",
        "    drop_last=False)"
      ],
      "execution_count": 38,
      "outputs": []
    },
    {
      "cell_type": "code",
      "metadata": {
        "colab": {
          "base_uri": "https://localhost:8080/"
        },
        "id": "6TTl8dt1amCB",
        "outputId": "1d66ee32-5ec6-4651-a656-1f4439fd1c6e"
      },
      "source": [
        "dout_real_test =[]\n",
        "testlabels = [] \n",
        "start = time.time()\n",
        "\n",
        "#for j,(image,label) in zip(range(100),test_loader):\n",
        "for j,(image,label) in enumerate(test_loader):\n",
        "\n",
        "  dout_real_test.append(discriminator(image)[1].cpu())\n",
        "  testlabels.extend(label.tolist())\n",
        "\n",
        "  if j % 200 == 0 : \n",
        "    print(j,' ETA: ',(len(test_loader)-j-1)*(time.time()-start)/(j+1)/60)\n",
        "\n",
        "deepfeat_real_test = torch.cat(dout_real_test).detach().numpy()\n",
        "print(deepfeat_real_test.shape)"
      ],
      "execution_count": 39,
      "outputs": [
        {
          "output_type": "stream",
          "name": "stdout",
          "text": [
            "0  ETA:  26.868739954630534\n",
            "(10000, 3136)\n"
          ]
        }
      ]
    },
    {
      "cell_type": "code",
      "metadata": {
        "id": "R2Fli3O0aCFR",
        "colab": {
          "base_uri": "https://localhost:8080/"
        },
        "outputId": "47ce904a-7c1a-4e97-9361-1555fd557ff0"
      },
      "source": [
        "%%time\n",
        "dout_real_train =[]\n",
        "trainlabels = [] \n",
        "start = time.time()\n",
        "\n",
        "train_loader = torch.utils.data.DataLoader(\n",
        "    dataset=mnist_train,\n",
        "    batch_size=200,\n",
        "    shuffle=False,\n",
        "    drop_last=False)\n",
        "\n",
        "for j,(image,label) in enumerate(train_loader):\n",
        "  dout_real_train.append(discriminator(image)[1].cpu())\n",
        "  trainlabels.extend(label.tolist())\n",
        "\n",
        "deepfeat_real_train = torch.cat(dout_real_train).cpu().detach().numpy()\n",
        "deepfeat_real_train.shape"
      ],
      "execution_count": 40,
      "outputs": [
        {
          "output_type": "stream",
          "name": "stdout",
          "text": [
            "CPU times: user 8.62 s, sys: 733 ms, total: 9.35 s\n",
            "Wall time: 9.02 s\n"
          ]
        },
        {
          "output_type": "execute_result",
          "data": {
            "text/plain": [
              "(53258, 3136)"
            ]
          },
          "metadata": {},
          "execution_count": 40
        }
      ]
    },
    {
      "cell_type": "code",
      "metadata": {
        "colab": {
          "base_uri": "https://localhost:8080/"
        },
        "id": "zGHP2kgJQgWh",
        "outputId": "094fd2c6-3e54-43a5-82ca-960d4805e83e"
      },
      "source": [
        "dout_prototypes =[]\n",
        "label_prototypes = [] \n",
        "\n",
        "for j,(image,label) in enumerate(prototype_loader):\n",
        "\n",
        "  dout_prototypes.append(discriminator(image)[1])\n",
        "  label_prototypes.extend(label.tolist())\n",
        "\n",
        "dout_prototype_tensor = torch.cat(dout_prototypes)\n",
        "label_prototype_tensor = torch.LongTensor(label_prototypes)\n",
        "\n",
        "dout_prototype_tensor.size(), label_prototype_tensor.size()"
      ],
      "execution_count": 41,
      "outputs": [
        {
          "output_type": "execute_result",
          "data": {
            "text/plain": [
              "(torch.Size([90, 3136]), torch.Size([90]))"
            ]
          },
          "metadata": {},
          "execution_count": 41
        }
      ]
    },
    {
      "cell_type": "markdown",
      "metadata": {
        "id": "og4xJNr2pciR"
      },
      "source": [
        "# Visualization - UMAP"
      ]
    },
    {
      "cell_type": "code",
      "metadata": {
        "colab": {
          "base_uri": "https://localhost:8080/"
        },
        "id": "qGTD_lXOIqpA",
        "outputId": "cc2d65e5-bc25-4e86-fe19-06185a1ef3ec"
      },
      "source": [
        "dout_train_sample, _, trainlabels_sample, _ = train_test_split(deepfeat_real_train, trainlabels, train_size=5000, shuffle = False)\n",
        "dout_test_sample, _, testlabels_sample, _ = train_test_split(deepfeat_real_test, testlabels, train_size=5000, shuffle = False)\n",
        "dout_train_sample.shape, dout_test_sample.shape"
      ],
      "execution_count": 51,
      "outputs": [
        {
          "output_type": "execute_result",
          "data": {
            "text/plain": [
              "((5000, 3136), (5000, 3136))"
            ]
          },
          "metadata": {},
          "execution_count": 51
        }
      ]
    },
    {
      "cell_type": "code",
      "metadata": {
        "colab": {
          "base_uri": "https://localhost:8080/"
        },
        "id": "90EVWhVtIj06",
        "outputId": "8887922c-3b87-4d32-c30b-b8432c7c2b90"
      },
      "source": [
        "umap2 = UMAP()\n",
        "umap2"
      ],
      "execution_count": 52,
      "outputs": [
        {
          "output_type": "execute_result",
          "data": {
            "text/plain": [
              "UMAP()"
            ]
          },
          "metadata": {},
          "execution_count": 52
        }
      ]
    },
    {
      "cell_type": "code",
      "metadata": {
        "colab": {
          "base_uri": "https://localhost:8080/"
        },
        "id": "Ztz8JZn9OEFY",
        "outputId": "04098f8f-2767-489b-8718-93f022b516e4"
      },
      "source": [
        "dout_combined_sample = np.concatenate([dout_train_sample, \n",
        "                                       dout_test_sample[np.where(np.array(testlabels_sample)==ood_classes[0])[0]],\n",
        "                                       dout_prototype_tensor.detach().cpu().numpy()])\n",
        "dout_combined_sample.shape"
      ],
      "execution_count": 53,
      "outputs": [
        {
          "output_type": "execute_result",
          "data": {
            "text/plain": [
              "(5661, 3136)"
            ]
          },
          "metadata": {},
          "execution_count": 53
        }
      ]
    },
    {
      "cell_type": "code",
      "metadata": {
        "id": "aGYk_Gu8It0o",
        "colab": {
          "base_uri": "https://localhost:8080/"
        },
        "outputId": "2809abae-9a3a-42f9-b200-916299205f50"
      },
      "source": [
        "#May take up to 30 secs\n",
        "%%time\n",
        "umap2.fit(dout_combined_sample)"
      ],
      "execution_count": 54,
      "outputs": [
        {
          "output_type": "stream",
          "name": "stdout",
          "text": [
            "CPU times: user 47.6 s, sys: 1.46 s, total: 49.1 s\n",
            "Wall time: 8.76 s\n"
          ]
        },
        {
          "output_type": "execute_result",
          "data": {
            "text/plain": [
              "UMAP(tqdm_kwds={'bar_format': '{desc}: {percentage:3.0f}%| {bar} {n_fmt}/{total_fmt} [{elapsed}]', 'desc': 'Epochs completed', 'disable': True})"
            ]
          },
          "metadata": {},
          "execution_count": 54
        }
      ]
    },
    {
      "cell_type": "code",
      "metadata": {
        "id": "tZmVPAvVKMaQ"
      },
      "source": [
        "X_umap2_train_sample = umap2.transform(dout_train_sample)"
      ],
      "execution_count": 55,
      "outputs": []
    },
    {
      "cell_type": "code",
      "metadata": {
        "colab": {
          "base_uri": "https://localhost:8080/"
        },
        "id": "MsC09DdaZA06",
        "outputId": "ca5abf1d-ab6c-4d7f-bb77-8df5ed0eddfc"
      },
      "source": [
        "%%time\n",
        "X_umap2_ood_sample = umap2.transform(dout_test_sample[np.where(np.array(testlabels_sample)==ood_classes[0])[0]])"
      ],
      "execution_count": 56,
      "outputs": [
        {
          "output_type": "stream",
          "name": "stdout",
          "text": [
            "CPU times: user 3.3 s, sys: 46.4 ms, total: 3.35 s\n",
            "Wall time: 2.69 s\n"
          ]
        }
      ]
    },
    {
      "cell_type": "code",
      "metadata": {
        "colab": {
          "base_uri": "https://localhost:8080/"
        },
        "id": "4b_UQEvKKn5X",
        "outputId": "6f23883a-9b9b-4343-f80e-0745e299bd0e"
      },
      "source": [
        "%%time\n",
        "X_umap2_prototypes = umap2.transform(dout_prototype_tensor.detach().cpu().numpy())"
      ],
      "execution_count": 57,
      "outputs": [
        {
          "output_type": "stream",
          "name": "stdout",
          "text": [
            "CPU times: user 2.95 s, sys: 11.9 ms, total: 2.96 s\n",
            "Wall time: 2.68 s\n"
          ]
        }
      ]
    },
    {
      "cell_type": "code",
      "metadata": {
        "colab": {
          "base_uri": "https://localhost:8080/",
          "height": 269
        },
        "id": "W0i3aSvHLpq-",
        "outputId": "82e3e974-45a9-4abf-de50-07d6687b5145"
      },
      "source": [
        "plt.scatter(X_umap2_train_sample[:,0], X_umap2_train_sample[:,1], \n",
        "            c=trainlabels_sample, cmap='tab10',alpha=0.02, marker='^')\n",
        "plt.scatter(X_umap2_ood_sample[:,0], X_umap2_ood_sample[:,1], \n",
        "            color='black', alpha=0.5, marker='+')\n",
        "plt.scatter(X_umap2_prototypes[:,0], X_umap2_prototypes[:,1], \n",
        "            c=label_prototype_tensor, cmap='tab10', alpha=0.99, marker='x')\n",
        "plt.colorbar()\n",
        "plt.show()"
      ],
      "execution_count": 59,
      "outputs": [
        {
          "output_type": "display_data",
          "data": {
            "text/plain": [
              "<Figure size 432x288 with 2 Axes>"
            ],
            "image/png": "[encoded data removed]"
          },
          "metadata": {
            "needs_background": "light"
          }
        }
      ]
    },
    {
      "cell_type": "markdown",
      "metadata": {
        "id": "ZeTnC5EQkbRw"
      },
      "source": [
        "#Training parameters"
      ]
    },
    {
      "cell_type": "code",
      "metadata": {
        "id": "OZ7FuW3ooulx"
      },
      "source": [
        "def image_check(gen_fake):\n",
        "    img = gen_fake.data.numpy()\n",
        "    fig, axes = plt.subplots(2,8,figsize=(15,3)) \n",
        "    for axis,im in zip(axes.ravel(),img):\n",
        "        axis.imshow(im[0],cmap='gray')\n",
        "    plt.show()"
      ],
      "execution_count": 68,
      "outputs": []
    },
    {
      "cell_type": "code",
      "metadata": {
        "id": "TGJRHe65J_pB"
      },
      "source": [
        "n_epochs = 40\n",
        "r_block_in = 2 \n",
        "gacc = 2\n",
        "batch_size = 100\n",
        "learning_rate = 0.0002\n",
        "num_gpus = 1"
      ],
      "execution_count": 67,
      "outputs": []
    },
    {
      "cell_type": "code",
      "metadata": {
        "id": "ioqpjgntd6qO"
      },
      "source": [
        "#loss_func = nn.MSELoss()\n",
        "loss_func = nn.BCELoss()\n",
        "\n",
        "train_loader = DataLoader(dataset=mnist_train,\n",
        "                          batch_size=batch_size,shuffle=True,drop_last=True)"
      ],
      "execution_count": 69,
      "outputs": []
    },
    {
      "cell_type": "markdown",
      "metadata": {
        "id": "ERq9ydL3-php"
      },
      "source": [
        "#PDD Training"
      ]
    },
    {
      "cell_type": "code",
      "metadata": {
        "id": "4l-v75EaBGSr"
      },
      "source": [
        "# loss function, optimizers, and labels for training\n",
        "generator.train()\n",
        "discriminator.train()\n",
        "\n",
        "gen_optim = torch.optim.Adam(generator.parameters(), lr= gacc*learning_rate,betas=(0.5,0.999))\n",
        "dis_optim = torch.optim.Adam(discriminator.parameters(), lr=learning_rate,betas=(0.5,0.999))\n",
        "\n",
        "optim_intra = torch.optim.Adam(discriminator.parameters(), lr=0.01*learning_rate, betas=(0.5,0.999))\n",
        "optim_inter = torch.optim.Adam(discriminator.parameters(), lr=0.001*learning_rate, betas=(0.5,0.999))\n",
        "\n",
        "\n",
        "ones_label = Variable(torch.ones(batch_size,1)).cuda()\n",
        "zeros_label = Variable(torch.zeros(batch_size,1)).cuda()"
      ],
      "execution_count": null,
      "outputs": []
    },
    {
      "cell_type": "code",
      "metadata": {
        "id": "5Qg5sCy4gx8o"
      },
      "source": [
        "\n",
        "dis_loss_list = []\n",
        "gen_loss_list = []\n",
        "\n",
        "loss_reg_list = []\n",
        "loss_std_list = []\n",
        "loss_mean_list = []"
      ],
      "execution_count": null,
      "outputs": []
    },
    {
      "cell_type": "code",
      "metadata": {
        "id": "eX9n5NW5BGS1",
        "scrolled": false
      },
      "source": [
        "start = time.time()\n",
        "for total_epoch, i in enumerate(range(n_epochs), nepochs_pretrained):\n",
        "    for j,(image,label) in enumerate(train_loader):\n",
        "        image = Variable(image).cuda()\n",
        "        \n",
        "        # generator\n",
        "        gen_optim.zero_grad()\n",
        "        \n",
        "        z = Variable(init.normal_(torch.Tensor(gacc*batch_size,100),mean=0,std=0.1)).cuda()\n",
        "        gen_fake = generator.forward(z)\n",
        "        dis_fake,_ = discriminator.forward(gen_fake)\n",
        "        \n",
        "        gen_loss = torch.sum(loss_func(dis_fake,torch.ones_like(dis_fake))) # fake classified as real\n",
        "        gen_loss.backward(retain_graph=True)\n",
        "        gen_optim.step()\n",
        "    \n",
        "        # discriminator\n",
        "        dis_optim.zero_grad()\n",
        "        \n",
        "        z = Variable(init.normal_(torch.Tensor(batch_size,100),mean=0,std=0.1)).cuda()\n",
        "        gen_fake = generator.forward(z)\n",
        "        dis_fake,_ = discriminator.forward(gen_fake)\n",
        "        \n",
        "        dis_real,_ = discriminator.forward(image)\n",
        "        dis_loss = torch.sum(loss_func(dis_fake,torch.zeros_like(dis_fake))) + torch.sum(loss_func(dis_real,torch.ones_like(dis_real)))\n",
        "        dis_loss.backward()\n",
        "        dis_optim.step()\n",
        "\n",
        "        # クラス間距離\n",
        "        if True: #i == 0 : # \n",
        "                  #optimizer.zero_grad()\n",
        "                  optim_intra.zero_grad()\n",
        "\n",
        "                  # 典型例の射影更新\n",
        "                  dout_prototypes =[]\n",
        "                  label_prototypes = [] \n",
        "                  for j,(image,label) in enumerate(prototype_loader):\n",
        "                    dout_prototypes.append(discriminator(image)[1])\n",
        "                    label_prototypes.append(label)\n",
        "\n",
        "                  dout_prototype_tensor = torch.cat(dout_prototypes)\n",
        "                  label_prototype_tensor = torch.cat(label_prototypes)\n",
        "                  size_expand = torch.Size([len(dout_prototype_tensor)])+dout_prototype_tensor.size()\n",
        "\n",
        "                  # 距離行列（全典型例の間）\n",
        "                  cdist_prototypes = torch.sum((\n",
        "                    dout_prototype_tensor.unsqueeze(dim=0).expand(size_expand) - \\\n",
        "                    dout_prototype_tensor.unsqueeze(dim=1).expand(size_expand)\n",
        "                    )**2, dim=2)\n",
        "                \n",
        "                  # クラス内距離の行列だけ取り出す\n",
        "                  intra_cdist_mat = [cdist_prototypes[torch.where(label_prototype_tensor==i)[0]][:,torch.where(label_prototype_tensor==i)[0]]\n",
        "                                   for i in np.unique(label_prototype_tensor)\n",
        "                                   ]\n",
        "\n",
        "                  #対角成分以外を取り出して偏差と平均\n",
        "                  intra_cdist_std_mean = torch.stack([torch.stack(torch.std_mean(torch.masked_select(matrix, matrix != torch.triu(matrix))))\n",
        "                  for matrix in intra_cdist_mat])\n",
        "\n",
        "                  # クラス内距離の中央値\n",
        "                  intra_R_min = torch.median(intra_cdist_std_mean[:,1])\n",
        "                  #intra_R_min.detach() # detach - 定数\n",
        "                  \n",
        "                  #クラス内距離損失 (最小値からの標準偏差)\n",
        "                  if i % r_block_in == 0:#block割合\n",
        "                    loss_intra = torch.sqrt(torch.mean(torch.masked_select((intra_cdist_std_mean[:,1] - intra_R_min)**2, intra_cdist_std_mean[:,1] > intra_R_min)))\n",
        "                    loss_intra.backward()\n",
        "                    optim_intra.step()\n",
        "                    loss_std_list.append(loss_intra.tolist())\n",
        "\n",
        "                  optim_inter.zero_grad()\n",
        "                  #クラス内距離の最大値+2偏差\n",
        "                  intra_R_max = torch.amax(intra_cdist_std_mean[:,1] + 2*intra_cdist_std_mean[:,0] )\n",
        "                  intra_R_max.detach() # detach - 定数\n",
        "\n",
        "                  # 距離行列（全典型例の間）\n",
        "                  cdist_prototypes2 = torch.sum((\n",
        "                    dout_prototype_tensor.unsqueeze(dim=0).expand(size_expand) - \\\n",
        "                    dout_prototype_tensor.unsqueeze(dim=1).expand(size_expand)\n",
        "                    )**2, dim=2)\n",
        "                  # クラス間距離の行列だけ取り出す\n",
        "                  inter_cdist_mat = [cdist_prototypes2[torch.where(label_prototype_tensor==i)[0]][:,torch.where(label_prototype_tensor==j)[0]]\n",
        "                                   for i,j in combinations(np.unique(label_prototype_tensor), 2)\n",
        "                                   ]\n",
        "\n",
        "                  # 結合\n",
        "                  inter_cdist_triu = torch.cat([torch.masked_select(matrix, matrix != torch.triu(matrix)) for matrix in inter_cdist_mat])\n",
        "                  # クラス間距離の基準 (クラス間距離の中央値とクラス内距離の2偏差の大きい方)\n",
        "                  inter_R = max(inter_cdist_triu.median(), intra_R_max).detach()\n",
        "\n",
        "                  #クラス間距離の損失 (基準より小さい距離の平均)\n",
        "                  #loss_inter = torch.log(torch.mean(torch.masked_select((inter_R - inter_cdist_triu)**2, inter_cdist_triu<inter_R)))\n",
        "\n",
        "                  if i % r_block_in != 0:#block割合\n",
        "                    loss_inter = torch.sqrt(torch.mean(torch.masked_select((inter_R - inter_cdist_triu)**2, inter_cdist_triu<inter_R)))\n",
        "                    loss_inter.backward()\n",
        "                    optim_inter.step()\n",
        "                    loss_mean_list.append(loss_inter.tolist())\n",
        "\n",
        "                  #クラス内・クラス間・合計損失のログ\n",
        "                  if i > 1:\n",
        "                    loss = loss_intra+loss_inter\n",
        "                    loss_reg_list.append(loss.tolist())\n",
        "                  #loss.backward()\n",
        "                  #optimizer.step()\n",
        "\n",
        "\n",
        "        gen_loss_list.append(gen_loss.tolist())\n",
        "        dis_loss_list.append(dis_loss.tolist())\n",
        "    \n",
        "    # save model every epochs\n",
        "    if (i % 1 == 0):\n",
        "      image_check(gen_fake.cpu())\n",
        "      print('Epoch: ', total_epoch, ' ETA: ', (n_epochs - i -1)*(time.time()-start)/(i+1)/60, 'MPE: ', (time.time()-start)/(i+1)/60)\n",
        "      if i != 0:\n",
        "              fig, axes = plt.subplots(nrows=1, ncols=2,figsize=(12,3))\n",
        "              axes[0].plot(gen_loss_list,linestyle='None',marker='x',alpha=0.1,color='blue')\n",
        "              axes[0].set_title('gen')\n",
        "              axes[1].plot(dis_loss_list,linestyle='None',marker='.',alpha=0.1,color='orange')\n",
        "              axes[1].set_title('dis')\n",
        "              plt.show()\n",
        "              \n",
        "              model_path_g = logpath+'generator_'+str(total_epoch)+'_'+str(ood_classes[0])+'.pkl'\n",
        "              model_path_d = logpath+'discriminator_'+str(total_epoch)+'_'+str(ood_classes[0])+'.pkl'\n",
        "              torch.save(generator.state_dict(), model_path_g)\n",
        "              torch.save(discriminator.state_dict(), model_path_d)\n",
        "              print(model_path_g, model_path_d)\n",
        "\n",
        "              fig, axes = plt.subplots(nrows=1,ncols=2,figsize=(12,3))\n",
        "              axes[0].plot(np.array(loss_mean_list[:]),linestyle='None',marker='.',color='green')\n",
        "              axes[0].set_title('inter')\n",
        "              axes[1].plot(np.array(loss_std_list[:]),linestyle='None',marker='+',color='magenta')\n",
        "              axes[1].set_title('intra')"
      ],
      "execution_count": null,
      "outputs": []
    },
    {
      "cell_type": "markdown",
      "metadata": {
        "id": "URFDQWj6lDMw"
      },
      "source": [
        "# Learning Curves"
      ]
    },
    {
      "cell_type": "code",
      "metadata": {
        "id": "qQ_jxyG1sscr",
        "colab": {
          "base_uri": "https://localhost:8080/",
          "height": 553
        },
        "outputId": "c4a3932c-37bf-49fa-cd82-0e87e3b2d728"
      },
      "source": [
        "fig, axes = plt.subplots(nrows=3,ncols=1,figsize=(12,9))\n",
        "axes[0].plot(np.array(loss_reg_list[500:]),linestyle='None',marker='+')\n",
        "axes[0].set_title('reg')\n",
        "\n",
        "axes[1].plot(np.array(loss_mean_list[500:]),linestyle='None',marker='.')\n",
        "axes[1].set_title('inter')\n",
        "\n",
        "axes[2].plot(np.array(loss_std_list[500:]),linestyle='None',marker='+')\n",
        "axes[2].set_title('intra')\n",
        "\n",
        "#axes[1][1].plot(np.array(loss_quartile_list))\n",
        "#axes[1][1].set_title('quart')\n",
        "plt.show()"
      ],
      "execution_count": null,
      "outputs": [
        {
          "output_type": "display_data",
          "data": {
            "image/png": "[encoded data removed]",
            "text/plain": [
              "<Figure size 864x648 with 3 Axes>"
            ]
          },
          "metadata": {
            "tags": [],
            "needs_background": "light"
          }
        }
      ]
    },
    {
      "cell_type": "code",
      "metadata": {
        "id": "hWMJcdpexSH_",
        "colab": {
          "base_uri": "https://localhost:8080/",
          "height": 265
        },
        "outputId": "4f961f87-92cb-4ca2-c105-568ef38b38ef"
      },
      "source": [
        "plt.plot(dis_loss_list[50:],marker='.',linestyle='None', alpha=0.1)\n",
        "plt.plot(gen_loss_list[50:],marker='.',linestyle='None', alpha = 0.1)\n",
        "plt.legend(['dis','gen'])\n",
        "plt.show()"
      ],
      "execution_count": null,
      "outputs": [
        {
          "output_type": "display_data",
          "data": {
            "image/png": "[encoded data removed]",
            "text/plain": [
              "<Figure size 432x288 with 1 Axes>"
            ]
          },
          "metadata": {
            "tags": [],
            "needs_background": "light"
          }
        }
      ]
    },
    {
      "cell_type": "code",
      "metadata": {
        "id": "xgDOKJxHxt-f",
        "colab": {
          "base_uri": "https://localhost:8080/",
          "height": 265
        },
        "outputId": "ef0ab9bb-eb89-48ab-af78-e6c534d027eb"
      },
      "source": [
        "from sklearn.preprocessing import StandardScaler\n",
        "scaler = StandardScaler()\n",
        "\n",
        "plt.plot(scaler.fit_transform(np.array(loss_reg_list).reshape(-1,1)))\n",
        "plt.plot(scaler.fit_transform(np.array(loss_mean_list).reshape(-1,1)))\n",
        "plt.plot(scaler.fit_transform(np.array(loss_std_list).reshape(-1,1)))\n",
        "#plt.plot(scaler.fit_transform(np.array(loss_quartile_list).reshape(-1,1)))\n",
        "plt.legend(['loss','inter','intra'])\n",
        "plt.show()"
      ],
      "execution_count": null,
      "outputs": [
        {
          "output_type": "display_data",
          "data": {
            "image/png": "[encoded data removed]",
            "text/plain": [
              "<Figure size 432x288 with 1 Axes>"
            ]
          },
          "metadata": {
            "tags": [],
            "needs_background": "light"
          }
        }
      ]
    },
    {
      "cell_type": "markdown",
      "metadata": {
        "id": "1MJcE6vK2wVX"
      },
      "source": [
        "#Post-training Feature Extraction"
      ]
    },
    {
      "cell_type": "code",
      "metadata": {
        "id": "ZbeSwI7aClwm",
        "colab": {
          "base_uri": "https://localhost:8080/"
        },
        "outputId": "9ec977cd-aa1e-4dfc-8cf2-0660a44fcda9"
      },
      "source": [
        "discriminator.eval()"
      ],
      "execution_count": null,
      "outputs": [
        {
          "output_type": "execute_result",
          "data": {
            "text/plain": [
              "DataParallel(\n",
              "  (module): Discriminator(\n",
              "    (layer1): Sequential(\n",
              "      (0): Conv2d(1, 8, kernel_size=(3, 3), stride=(1, 1), padding=(1, 1))\n",
              "      (1): BatchNorm2d(8, eps=1e-05, momentum=0.1, affine=True, track_running_stats=True)\n",
              "      (2): LeakyReLU(negative_slope=0.01)\n",
              "      (3): Conv2d(8, 16, kernel_size=(3, 3), stride=(2, 2), padding=(1, 1))\n",
              "      (4): BatchNorm2d(16, eps=1e-05, momentum=0.1, affine=True, track_running_stats=True)\n",
              "      (5): LeakyReLU(negative_slope=0.01)\n",
              "    )\n",
              "    (layer2): Sequential(\n",
              "      (0): Conv2d(16, 32, kernel_size=(3, 3), stride=(2, 2), padding=(1, 1))\n",
              "      (1): BatchNorm2d(32, eps=1e-05, momentum=0.1, affine=True, track_running_stats=True)\n",
              "      (2): LeakyReLU(negative_slope=0.01)\n",
              "      (3): Conv2d(32, 64, kernel_size=(3, 3), stride=(1, 1), padding=(1, 1))\n",
              "      (4): BatchNorm2d(64, eps=1e-05, momentum=0.1, affine=True, track_running_stats=True)\n",
              "      (5): LeakyReLU(negative_slope=0.01)\n",
              "    )\n",
              "    (fc): Sequential(\n",
              "      (0): Linear(in_features=3136, out_features=1, bias=True)\n",
              "      (1): Sigmoid()\n",
              "    )\n",
              "  )\n",
              ")"
            ]
          },
          "metadata": {
            "tags": []
          },
          "execution_count": 149
        }
      ]
    },
    {
      "cell_type": "code",
      "metadata": {
        "id": "xhW7PIyEsd_n"
      },
      "source": [
        "test_loader = torch.utils.data.DataLoader(\n",
        "    dataset=mnist_test,\n",
        "    batch_size=100,\n",
        "    shuffle=False,\n",
        "    drop_last=False)"
      ],
      "execution_count": null,
      "outputs": []
    },
    {
      "cell_type": "code",
      "metadata": {
        "id": "8Bq94M84sV_g",
        "colab": {
          "base_uri": "https://localhost:8080/"
        },
        "outputId": "732b1b00-c664-4e1b-ba9f-8e222803980b"
      },
      "source": [
        "%%time\n",
        "dafter_test =[]\n",
        "labels_test = [] \n",
        "start = time.time()\n",
        "\n",
        "#for j,(image,label) in zip(range(40),test_loader):\n",
        "for j,(image,label) in enumerate(test_loader):\n",
        "\n",
        "  dafter_test.append(discriminator(image)[1])\n",
        "  labels_test.extend(label.tolist())\n",
        "\n",
        "dafter_test_array = torch.cat(dafter_test).cpu().detach().numpy()\n",
        "labels_test_array = np.array(labels_test)\n",
        "\n",
        "dafter_test_array.shape, labels_test_array.shape"
      ],
      "execution_count": null,
      "outputs": [
        {
          "output_type": "stream",
          "text": [
            "CPU times: user 1.2 s, sys: 35.2 ms, total: 1.23 s\n",
            "Wall time: 1.23 s\n"
          ],
          "name": "stdout"
        }
      ]
    },
    {
      "cell_type": "code",
      "metadata": {
        "id": "dc_r-AbdsPmo",
        "colab": {
          "base_uri": "https://localhost:8080/"
        },
        "outputId": "a2d7a869-4bef-4f2e-c2a2-98b3c15da5bf"
      },
      "source": [
        "%%time\n",
        "dafter_train =[]\n",
        "labels_train = [] \n",
        "start = time.time()\n",
        "\n",
        "for j,(image,label) in zip(range(10),train_loader):#バッチ数を指定してサンプリング\n",
        "  #for j,(image,label) in enumerate(train_loader):\n",
        "\n",
        "    dafter_train.append(discriminator(image)[1])\n",
        "    labels_train.extend(label.tolist())\n",
        "\n",
        "dafter_train_array = torch.cat(dafter_train).cpu().detach().numpy()\n",
        "labels_train_array = np.array(labels_train)\n",
        "dafter_train_array.shape, labels_train_array.shape"
      ],
      "execution_count": null,
      "outputs": [
        {
          "output_type": "stream",
          "text": [
            "CPU times: user 134 ms, sys: 10 ms, total: 144 ms\n",
            "Wall time: 129 ms\n"
          ],
          "name": "stdout"
        }
      ]
    },
    {
      "cell_type": "code",
      "metadata": {
        "id": "bCN4UfNbEUcJ",
        "colab": {
          "base_uri": "https://localhost:8080/"
        },
        "outputId": "ae2f02f9-a9c5-4fd1-f98b-f9f98f3970c5"
      },
      "source": [
        "dafter_prototypes =[]\n",
        "label_prototypes = [] \n",
        "\n",
        "for j,(image,label) in enumerate(prototype_loader):\n",
        "  dafter_prototypes.append(discriminator(image)[1])\n",
        "  label_prototypes.append(label)\n",
        "\n",
        "dafter_prototype_tensor = torch.cat(dafter_prototypes).detach().cpu()\n",
        "label_prototype_tensor = torch.cat(label_prototypes)\n",
        "\n",
        "label_prototype_tensor.size()"
      ],
      "execution_count": null,
      "outputs": [
        {
          "output_type": "execute_result",
          "data": {
            "text/plain": [
              "torch.Size([90])"
            ]
          },
          "metadata": {
            "tags": []
          },
          "execution_count": 153
        }
      ]
    },
    {
      "cell_type": "markdown",
      "metadata": {
        "id": "RKuD9WL42nHi"
      },
      "source": [
        "# Visualization - UMAP"
      ]
    },
    {
      "cell_type": "code",
      "metadata": {
        "colab": {
          "base_uri": "https://localhost:8080/"
        },
        "id": "wNNxUc3y2nHw",
        "outputId": "8f4c033c-7949-40c2-c1a7-070dcb777864"
      },
      "source": [
        "dafter_train_array.shape, \\\n",
        "dafter_test_array.shape, \\\n",
        "dafter_prototype_tensor.numpy().shape"
      ],
      "execution_count": null,
      "outputs": [
        {
          "output_type": "execute_result",
          "data": {
            "text/plain": [
              "((1000, 3136), (10000, 3136), (90, 3136))"
            ]
          },
          "metadata": {
            "tags": []
          },
          "execution_count": 154
        }
      ]
    },
    {
      "cell_type": "code",
      "metadata": {
        "colab": {
          "base_uri": "https://localhost:8080/"
        },
        "id": "WswJ5cIw2nHx",
        "outputId": "f520bae6-551a-497a-eb7e-598ea7aac28a"
      },
      "source": [
        "umap2 = UMAP()\n",
        "umap2"
      ],
      "execution_count": null,
      "outputs": [
        {
          "output_type": "execute_result",
          "data": {
            "text/plain": [
              "UMAP(a=None, angular_rp_forest=False, b=None, dens_frac=0.0, dens_lambda=0.0,\n",
              "     dens_var_shift=0.1, densmap=False, disconnection_distance=None,\n",
              "     force_approximation_algorithm=False, init='spectral', learning_rate=1.0,\n",
              "     local_connectivity=1.0, low_memory=True, metric='euclidean',\n",
              "     metric_kwds=None, min_dist=0.1, n_components=2, n_epochs=None, n_jobs=-1,\n",
              "     n_neighbors=15, negative_sample_rate=5, output_dens=False,\n",
              "     output_metric='euclidean', output_metric_kwds=None, random_state=None,\n",
              "     repulsion_strength=1.0, set_op_mix_ratio=1.0, spread=1.0,\n",
              "     target_metric='categorical', target_metric_kwds=None, ...)"
            ]
          },
          "metadata": {
            "tags": []
          },
          "execution_count": 155
        }
      ]
    },
    {
      "cell_type": "code",
      "metadata": {
        "colab": {
          "base_uri": "https://localhost:8080/"
        },
        "id": "hHMDOWW_2nHx",
        "outputId": "4f656e86-de06-4be6-dfcb-28f23d9225bb"
      },
      "source": [
        "dafter_combined_array = np.concatenate([#dafter_train_array, \n",
        "                                       dafter_test_array,\n",
        "                                       dafter_prototype_tensor.numpy()])\n",
        "dafter_combined_array.shape"
      ],
      "execution_count": null,
      "outputs": [
        {
          "output_type": "execute_result",
          "data": {
            "text/plain": [
              "(10090, 3136)"
            ]
          },
          "metadata": {
            "tags": []
          },
          "execution_count": 156
        }
      ]
    },
    {
      "cell_type": "code",
      "metadata": {
        "colab": {
          "base_uri": "https://localhost:8080/"
        },
        "id": "cJVoYBMd2nHx",
        "outputId": "a359bbac-c031-4945-db1c-b7db61157b80"
      },
      "source": [
        "#5000.3136 26s #1000.3136 8s #500.3136 5s #200.3136 3s\n",
        "%%time\n",
        "umap2.fit(dafter_combined_array)"
      ],
      "execution_count": null,
      "outputs": [
        {
          "output_type": "stream",
          "text": [
            "CPU times: user 26 s, sys: 761 ms, total: 26.8 s\n",
            "Wall time: 9.69 s\n"
          ],
          "name": "stdout"
        },
        {
          "output_type": "execute_result",
          "data": {
            "text/plain": [
              "UMAP(a=None, angular_rp_forest=False, b=None, dens_frac=0.0, dens_lambda=0.0,\n",
              "     dens_var_shift=0.1, densmap=False, disconnection_distance=None,\n",
              "     force_approximation_algorithm=False, init='spectral', learning_rate=1.0,\n",
              "     local_connectivity=1.0, low_memory=True, metric='euclidean',\n",
              "     metric_kwds=None, min_dist=0.1, n_components=2, n_epochs=None, n_jobs=-1,\n",
              "     n_neighbors=15, negative_sample_rate=5, output_dens=False,\n",
              "     output_metric='euclidean', output_metric_kwds=None, random_state=None,\n",
              "     repulsion_strength=1.0, set_op_mix_ratio=1.0, spread=1.0,\n",
              "     target_metric='categorical', target_metric_kwds=None, ...)"
            ]
          },
          "metadata": {
            "tags": []
          },
          "execution_count": 157
        }
      ]
    },
    {
      "cell_type": "code",
      "metadata": {
        "colab": {
          "base_uri": "https://localhost:8080/"
        },
        "id": "PdyO5Ns02nHx",
        "outputId": "9a8b6ec8-4c38-4bdd-dcc3-37cd98c9474a"
      },
      "source": [
        "%%time\n",
        "X_umap2_train = umap2.transform(dafter_train_array)"
      ],
      "execution_count": null,
      "outputs": [
        {
          "output_type": "stream",
          "text": [
            "CPU times: user 6.55 s, sys: 255 ms, total: 6.81 s\n",
            "Wall time: 5.62 s\n"
          ],
          "name": "stdout"
        }
      ]
    },
    {
      "cell_type": "code",
      "metadata": {
        "colab": {
          "base_uri": "https://localhost:8080/"
        },
        "id": "LrPXqMXm2nHx",
        "outputId": "7dfeaadd-d398-4010-f05c-201f4eb2ad1e"
      },
      "source": [
        "%%time\n",
        "X_umap2_test = umap2.transform(dafter_test_array)"
      ],
      "execution_count": null,
      "outputs": [
        {
          "output_type": "stream",
          "text": [
            "CPU times: user 18 s, sys: 941 ms, total: 18.9 s\n",
            "Wall time: 13.8 s\n"
          ],
          "name": "stdout"
        }
      ]
    },
    {
      "cell_type": "code",
      "metadata": {
        "colab": {
          "base_uri": "https://localhost:8080/"
        },
        "id": "neW-C6JG2nHx",
        "outputId": "a1b0fa46-b216-4dcf-a9f6-7724e75b6a5d"
      },
      "source": [
        "%%time\n",
        "X_umap2_prototypes = umap2.transform(dout_prototype_tensor.detach().cpu().numpy())"
      ],
      "execution_count": null,
      "outputs": [
        {
          "output_type": "stream",
          "text": [
            "CPU times: user 2.52 s, sys: 19.2 ms, total: 2.54 s\n",
            "Wall time: 2.48 s\n"
          ],
          "name": "stdout"
        }
      ]
    },
    {
      "cell_type": "code",
      "metadata": {
        "colab": {
          "base_uri": "https://localhost:8080/",
          "height": 269
        },
        "id": "aERaL81B2nHy",
        "outputId": "0c5dc76b-54c6-4d9c-e464-f0f41a8862de"
      },
      "source": [
        "plt.scatter(X_umap2_train[:,0], X_umap2_train[:,1], \n",
        "            c=labels_train_array, cmap='tab10', alpha=0.1, marker='x')\n",
        "plt.colorbar()\n",
        "plt.scatter(X_umap2_prototypes[:,0], X_umap2_prototypes[:,1], \n",
        "            color='black',alpha=0.5, marker='+')\n",
        "plt.show()"
      ],
      "execution_count": null,
      "outputs": [
        {
          "output_type": "display_data",
          "data": {
            "image/png": "[encoded data removed]",
            "text/plain": [
              "<Figure size 432x288 with 2 Axes>"
            ]
          },
          "metadata": {
            "tags": [],
            "needs_background": "light"
          }
        }
      ]
    },
    {
      "cell_type": "code",
      "metadata": {
        "colab": {
          "base_uri": "https://localhost:8080/",
          "height": 269
        },
        "id": "1fq1uAfY2nHy",
        "outputId": "f52402ab-8d57-4bcc-956d-be72c0b96e63"
      },
      "source": [
        "plt.scatter(X_umap2_test[:,0], X_umap2_test[:,1], \n",
        "            c=labels_test_array, cmap='tab10',alpha=0.02, marker='^')\n",
        "plt.scatter(X_umap2_prototypes[:,0], X_umap2_prototypes[:,1], \n",
        "            c=label_prototype_tensor, cmap='tab10', alpha=0.99, marker='x')\n",
        "plt.colorbar()\n",
        "plt.show()"
      ],
      "execution_count": null,
      "outputs": [
        {
          "output_type": "display_data",
          "data": {
            "image/png": "[encoded data removed]",
            "text/plain": [
              "<Figure size 432x288 with 2 Axes>"
            ]
          },
          "metadata": {
            "tags": [],
            "needs_background": "light"
          }
        }
      ]
    },
    {
      "cell_type": "markdown",
      "metadata": {
        "id": "18V8SZdHd9E7"
      },
      "source": [
        "# Prototype KDE"
      ]
    },
    {
      "cell_type": "code",
      "metadata": {
        "id": "IT46Ew0BIHtf"
      },
      "source": [
        "bw = 10"
      ],
      "execution_count": null,
      "outputs": []
    },
    {
      "cell_type": "code",
      "metadata": {
        "id": "pO32Zlkt6v2D"
      },
      "source": [
        "scaler = MinMaxScaler()"
      ],
      "execution_count": null,
      "outputs": []
    },
    {
      "cell_type": "code",
      "metadata": {
        "id": "bTCtBaZ5IHtf"
      },
      "source": [
        "umap3 = UMAP(n_components=3)"
      ],
      "execution_count": null,
      "outputs": []
    },
    {
      "cell_type": "code",
      "metadata": {
        "id": "eKc5_QFMIHtg",
        "colab": {
          "base_uri": "https://localhost:8080/"
        },
        "outputId": "3d9dafc1-ac27-4dc1-8c7d-09b445379895"
      },
      "source": [
        "dafter_combined_test = np.concatenate([dafter_test_array, \n",
        "                                            dafter_prototype_tensor.detach().cpu().numpy()])\n",
        "dafter_combined_test.shape"
      ],
      "execution_count": null,
      "outputs": [
        {
          "output_type": "execute_result",
          "data": {
            "text/plain": [
              "(10090, 3136)"
            ]
          },
          "metadata": {
            "tags": []
          },
          "execution_count": 166
        }
      ]
    },
    {
      "cell_type": "code",
      "metadata": {
        "id": "8BibCsygNuEc",
        "colab": {
          "base_uri": "https://localhost:8080/"
        },
        "outputId": "d61bfe00-3329-4215-e108-d7727b9c6e62"
      },
      "source": [
        "%%time\n",
        "X_umap3_combined_test = umap3.fit(dafter_combined_test)"
      ],
      "execution_count": null,
      "outputs": [
        {
          "output_type": "stream",
          "text": [
            "CPU times: user 26.7 s, sys: 782 ms, total: 27.4 s\n",
            "Wall time: 9.85 s\n"
          ],
          "name": "stdout"
        }
      ]
    },
    {
      "cell_type": "code",
      "metadata": {
        "id": "LXAOFrvMHQm5",
        "colab": {
          "base_uri": "https://localhost:8080/"
        },
        "outputId": "702df4b4-feb5-411d-c0f9-3b0a343746ae"
      },
      "source": [
        "%%time\n",
        "X_umap3_test_after = umap3.transform(dafter_test_array)\n",
        "X_umap3_prototypes_after = umap3.transform(dafter_prototype_tensor.detach().cpu().numpy())"
      ],
      "execution_count": null,
      "outputs": [
        {
          "output_type": "stream",
          "text": [
            "CPU times: user 24.8 s, sys: 1.26 s, total: 26 s\n",
            "Wall time: 19.6 s\n"
          ],
          "name": "stdout"
        }
      ]
    },
    {
      "cell_type": "code",
      "metadata": {
        "id": "69-FyEldIHth"
      },
      "source": [
        "model_kde = KernelDensity(bandwidth=bw)"
      ],
      "execution_count": null,
      "outputs": []
    },
    {
      "cell_type": "code",
      "metadata": {
        "id": "-urh5BdZIHti",
        "colab": {
          "base_uri": "https://localhost:8080/"
        },
        "outputId": "c8f899d0-d91f-4f23-88a0-ab6f1580a815"
      },
      "source": [
        "model_kde_prototypes = [ KernelDensity(bandwidth=bw).fit(X_umap3_prototypes_after[np.where(np.array(label_prototype_tensor)==i)]) \n",
        "for i in np.unique(label_prototype_tensor) ] \n",
        "len(model_kde_prototypes)"
      ],
      "execution_count": null,
      "outputs": [
        {
          "output_type": "execute_result",
          "data": {
            "text/plain": [
              "9"
            ]
          },
          "metadata": {
            "tags": []
          },
          "execution_count": 170
        }
      ]
    },
    {
      "cell_type": "code",
      "metadata": {
        "id": "I4jESUXdOfey"
      },
      "source": [
        "score_kde_prototypes = [ model.score_samples(X_umap3_test_after) for model in model_kde_prototypes]"
      ],
      "execution_count": null,
      "outputs": []
    },
    {
      "cell_type": "code",
      "metadata": {
        "id": "iMtDAW80MQCx"
      },
      "source": [
        "scaled_score_prototypes = [ (score - np.max(score))/(np.max(score)-np.quantile(score, 0.9)) \n",
        "for score in score_kde_prototypes]"
      ],
      "execution_count": null,
      "outputs": []
    },
    {
      "cell_type": "code",
      "metadata": {
        "id": "E7OvwjJMIHtj",
        "colab": {
          "base_uri": "https://localhost:8080/",
          "height": 1000
        },
        "outputId": "3b973be0-6418-48f6-f534-c42cb660e267"
      },
      "source": [
        "for j, score in zip(np.unique(label_prototype_tensor), scaled_score_prototypes):\n",
        "\n",
        "  data_boxplot = [(score)[np.where(labels_test_array==i)] for i in np.unique(labels_test_array)]\n",
        "\n",
        "  fig, axes = plt.subplots()\n",
        "\n",
        "  axes.boxplot(data_boxplot, labels=np.unique(labels_test_array))\n",
        "\n",
        "  axes.set_title(str(j))\n",
        "\n",
        "  plt.show()"
      ],
      "execution_count": null,
      "outputs": [
        {
          "output_type": "stream",
          "text": [
            "/usr/local/lib/python3.7/dist-packages/numpy/core/_asarray.py:83: VisibleDeprecationWarning: Creating an ndarray from ragged nested sequences (which is a list-or-tuple of lists-or-tuples-or ndarrays with different lengths or shapes) is deprecated. If you meant to do this, you must specify 'dtype=object' when creating the ndarray\n",
            "  return array(a, dtype, copy=False, order=order)\n"
          ],
          "name": "stderr"
        },
        {
          "output_type": "display_data",
          "data": {
            "image/png": "[encoded data removed]",
            "text/plain": [
              "<Figure size 432x288 with 1 Axes>"
            ]
          },
          "metadata": {
            "tags": [],
            "needs_background": "light"
          }
        },
        {
          "output_type": "stream",
          "text": [
            "/usr/local/lib/python3.7/dist-packages/numpy/core/_asarray.py:83: VisibleDeprecationWarning: Creating an ndarray from ragged nested sequences (which is a list-or-tuple of lists-or-tuples-or ndarrays with different lengths or shapes) is deprecated. If you meant to do this, you must specify 'dtype=object' when creating the ndarray\n",
            "  return array(a, dtype, copy=False, order=order)\n"
          ],
          "name": "stderr"
        },
        {
          "output_type": "display_data",
          "data": {
            "image/png": "[encoded data removed]",
            "text/plain": [
              "<Figure size 432x288 with 1 Axes>"
            ]
          },
          "metadata": {
            "tags": [],
            "needs_background": "light"
          }
        },
        {
          "output_type": "stream",
          "text": [
            "/usr/local/lib/python3.7/dist-packages/numpy/core/_asarray.py:83: VisibleDeprecationWarning: Creating an ndarray from ragged nested sequences (which is a list-or-tuple of lists-or-tuples-or ndarrays with different lengths or shapes) is deprecated. If you meant to do this, you must specify 'dtype=object' when creating the ndarray\n",
            "  return array(a, dtype, copy=False, order=order)\n"
          ],
          "name": "stderr"
        },
        {
          "output_type": "display_data",
          "data": {
            "image/png": "[encoded data removed]",
            "text/plain": [
              "<Figure size 432x288 with 1 Axes>"
            ]
          },
          "metadata": {
            "tags": [],
            "needs_background": "light"
          }
        },
        {
          "output_type": "stream",
          "text": [
            "/usr/local/lib/python3.7/dist-packages/numpy/core/_asarray.py:83: VisibleDeprecationWarning: Creating an ndarray from ragged nested sequences (which is a list-or-tuple of lists-or-tuples-or ndarrays with different lengths or shapes) is deprecated. If you meant to do this, you must specify 'dtype=object' when creating the ndarray\n",
            "  return array(a, dtype, copy=False, order=order)\n"
          ],
          "name": "stderr"
        },
        {
          "output_type": "display_data",
          "data": {
            "image/png": "[encoded data removed]",
            "text/plain": [
              "<Figure size 432x288 with 1 Axes>"
            ]
          },
          "metadata": {
            "tags": [],
            "needs_background": "light"
          }
        },
        {
          "output_type": "stream",
          "text": [
            "/usr/local/lib/python3.7/dist-packages/numpy/core/_asarray.py:83: VisibleDeprecationWarning: Creating an ndarray from ragged nested sequences (which is a list-or-tuple of lists-or-tuples-or ndarrays with different lengths or shapes) is deprecated. If you meant to do this, you must specify 'dtype=object' when creating the ndarray\n",
            "  return array(a, dtype, copy=False, order=order)\n"
          ],
          "name": "stderr"
        },
        {
          "output_type": "display_data",
          "data": {
            "image/png": "[encoded data removed]",
            "text/plain": [
              "<Figure size 432x288 with 1 Axes>"
            ]
          },
          "metadata": {
            "tags": [],
            "needs_background": "light"
          }
        },
        {
          "output_type": "stream",
          "text": [
            "/usr/local/lib/python3.7/dist-packages/numpy/core/_asarray.py:83: VisibleDeprecationWarning: Creating an ndarray from ragged nested sequences (which is a list-or-tuple of lists-or-tuples-or ndarrays with different lengths or shapes) is deprecated. If you meant to do this, you must specify 'dtype=object' when creating the ndarray\n",
            "  return array(a, dtype, copy=False, order=order)\n"
          ],
          "name": "stderr"
        },
        {
          "output_type": "display_data",
          "data": {
            "image/png": "[encoded data removed]",
            "text/plain": [
              "<Figure size 432x288 with 1 Axes>"
            ]
          },
          "metadata": {
            "tags": [],
            "needs_background": "light"
          }
        },
        {
          "output_type": "stream",
          "text": [
            "/usr/local/lib/python3.7/dist-packages/numpy/core/_asarray.py:83: VisibleDeprecationWarning: Creating an ndarray from ragged nested sequences (which is a list-or-tuple of lists-or-tuples-or ndarrays with different lengths or shapes) is deprecated. If you meant to do this, you must specify 'dtype=object' when creating the ndarray\n",
            "  return array(a, dtype, copy=False, order=order)\n"
          ],
          "name": "stderr"
        },
        {
          "output_type": "display_data",
          "data": {
            "image/png": "[encoded data removed]",
            "text/plain": [
              "<Figure size 432x288 with 1 Axes>"
            ]
          },
          "metadata": {
            "tags": [],
            "needs_background": "light"
          }
        },
        {
          "output_type": "stream",
          "text": [
            "/usr/local/lib/python3.7/dist-packages/numpy/core/_asarray.py:83: VisibleDeprecationWarning: Creating an ndarray from ragged nested sequences (which is a list-or-tuple of lists-or-tuples-or ndarrays with different lengths or shapes) is deprecated. If you meant to do this, you must specify 'dtype=object' when creating the ndarray\n",
            "  return array(a, dtype, copy=False, order=order)\n"
          ],
          "name": "stderr"
        },
        {
          "output_type": "display_data",
          "data": {
            "image/png": "[encoded data removed]",
            "text/plain": [
              "<Figure size 432x288 with 1 Axes>"
            ]
          },
          "metadata": {
            "tags": [],
            "needs_background": "light"
          }
        },
        {
          "output_type": "stream",
          "text": [
            "/usr/local/lib/python3.7/dist-packages/numpy/core/_asarray.py:83: VisibleDeprecationWarning: Creating an ndarray from ragged nested sequences (which is a list-or-tuple of lists-or-tuples-or ndarrays with different lengths or shapes) is deprecated. If you meant to do this, you must specify 'dtype=object' when creating the ndarray\n",
            "  return array(a, dtype, copy=False, order=order)\n"
          ],
          "name": "stderr"
        },
        {
          "output_type": "display_data",
          "data": {
            "image/png": "[encoded data removed]",
            "text/plain": [
              "<Figure size 432x288 with 1 Axes>"
            ]
          },
          "metadata": {
            "tags": [],
            "needs_background": "light"
          }
        }
      ]
    },
    {
      "cell_type": "code",
      "metadata": {
        "id": "qmeDnPRArALK",
        "colab": {
          "base_uri": "https://localhost:8080/"
        },
        "outputId": "81530dcd-5841-4934-af19-ee6ec1db60d7"
      },
      "source": [
        "score_agg = np.max(scaled_score_prototypes, axis=0) #+kde_scores_prototypes[-1]\n",
        "score_agg.shape"
      ],
      "execution_count": null,
      "outputs": [
        {
          "output_type": "execute_result",
          "data": {
            "text/plain": [
              "(10000,)"
            ]
          },
          "metadata": {
            "tags": []
          },
          "execution_count": 174
        }
      ]
    },
    {
      "cell_type": "markdown",
      "metadata": {
        "id": "28pb_6bZsOAh"
      },
      "source": [
        "## Boxplot & AUC evaluations"
      ]
    },
    {
      "cell_type": "code",
      "metadata": {
        "id": "9rRGOkByIHtj",
        "colab": {
          "base_uri": "https://localhost:8080/",
          "height": 319
        },
        "outputId": "c378056f-7757-4a07-b1ff-5049b83c3f33"
      },
      "source": [
        "data = [np.exp(score_agg)[np.where(np.array(labels_test_array)==i)] for i in np.unique(labels_test_array)]\n",
        "\n",
        "fig, axes = plt.subplots()\n",
        "\n",
        "axes.boxplot(data, labels=np.unique(labels_test_array))\n",
        "\n",
        "plt.show()"
      ],
      "execution_count": null,
      "outputs": [
        {
          "output_type": "stream",
          "text": [
            "/usr/local/lib/python3.7/dist-packages/numpy/core/_asarray.py:83: VisibleDeprecationWarning: Creating an ndarray from ragged nested sequences (which is a list-or-tuple of lists-or-tuples-or ndarrays with different lengths or shapes) is deprecated. If you meant to do this, you must specify 'dtype=object' when creating the ndarray\n",
            "  return array(a, dtype, copy=False, order=order)\n"
          ],
          "name": "stderr"
        },
        {
          "output_type": "display_data",
          "data": {
            "image/png": "[encoded data removed]",
            "text/plain": [
              "<Figure size 432x288 with 1 Axes>"
            ]
          },
          "metadata": {
            "tags": [],
            "needs_background": "light"
          }
        }
      ]
    },
    {
      "cell_type": "code",
      "metadata": {
        "id": "3FgFf-IjV58j",
        "colab": {
          "base_uri": "https://localhost:8080/"
        },
        "outputId": "43259acd-83ab-4800-8e0d-45400daaca94"
      },
      "source": [
        "y_roc = labels_test_array == ood_classes[0]\n",
        "roc_auc_score(y_roc, -score_agg)"
      ],
      "execution_count": null,
      "outputs": [
        {
          "output_type": "execute_result",
          "data": {
            "text/plain": [
              "0.9936944525195603"
            ]
          },
          "metadata": {
            "tags": []
          },
          "execution_count": 176
        }
      ]
    },
    {
      "cell_type": "code",
      "metadata": {
        "id": "Z0VBQDX3SSV1",
        "colab": {
          "base_uri": "https://localhost:8080/",
          "height": 299
        },
        "outputId": "c0a48292-c93b-49fb-d9b0-586e393fcaac"
      },
      "source": [
        "y_roc = [i in ood_classes for i in labels_test_array]\n",
        "print('roc:', roc_auc_score(y_roc, -score_agg)) \n",
        "\n",
        "pr, re, th = precision_recall_curve(y_roc,-score_agg)\n",
        "plt.plot(re, pr)\n",
        "plt.show()\n",
        "print('prc: ', average_precision_score(y_roc, -score_agg))"
      ],
      "execution_count": null,
      "outputs": [
        {
          "output_type": "stream",
          "text": [
            "roc: 0.9936944525195603\n"
          ],
          "name": "stdout"
        },
        {
          "output_type": "display_data",
          "data": {
            "image/png": "[encoded data removed]",
            "text/plain": [
              "<Figure size 432x288 with 1 Axes>"
            ]
          },
          "metadata": {
            "tags": [],
            "needs_background": "light"
          }
        },
        {
          "output_type": "stream",
          "text": [
            "prc:  0.9648673138122262\n"
          ],
          "name": "stdout"
        }
      ]
    },
    {
      "cell_type": "code",
      "metadata": {
        "id": "L_3sVAozDpCb"
      },
      "source": [],
      "execution_count": null,
      "outputs": []
    }
  ]
}